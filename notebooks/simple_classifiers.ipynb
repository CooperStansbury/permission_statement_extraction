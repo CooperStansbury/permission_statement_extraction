{
 "cells": [
  {
   "cell_type": "markdown",
   "metadata": {},
   "source": [
    "## Simple Classifiers\n",
    "Train classifiers based on annotations."
   ]
  },
  {
   "cell_type": "code",
   "execution_count": 1,
   "metadata": {},
   "outputs": [
    {
     "name": "stdout",
     "output_type": "stream",
     "text": [
      "VERSION:  3.7.0\n"
     ]
    }
   ],
   "source": [
    "from platform import python_version\n",
    "print(\"VERSION: \", python_version()) # expect 3.7.0"
   ]
  },
  {
   "cell_type": "code",
   "execution_count": 2,
   "metadata": {},
   "outputs": [
    {
     "name": "stderr",
     "output_type": "stream",
     "text": [
      "Using TensorFlow backend.\n"
     ]
    }
   ],
   "source": [
    "import pandas as pd\n",
    "import numpy as np\n",
    "import matplotlib.pyplot as plt\n",
    "\n",
    "from sklearn.model_selection import cross_val_score\n",
    "from sklearn.linear_model import LogisticRegression\n",
    "from sklearn.svm import SVC, LinearSVC\n",
    "from sklearn.neighbors import KNeighborsClassifier\n",
    "from sklearn.tree import DecisionTreeClassifier\n",
    "from sklearn.ensemble import RandomForestClassifier\n",
    "from sklearn.ensemble import BaggingClassifier\n",
    "from sklearn.naive_bayes import GaussianNB\n",
    "from sklearn.neural_network import MLPClassifier\n",
    "from sklearn.ensemble import AdaBoostClassifier\n",
    "from sklearn.ensemble import GradientBoostingClassifier\n",
    "from sklearn.ensemble import VotingClassifier\n",
    "from imblearn.over_sampling import SMOTE\n",
    "\n",
    "from sklearn.metrics import classification_report\n",
    "from sklearn.metrics import accuracy_score\n",
    "from sklearn.metrics import precision_score\n",
    "from sklearn.metrics import roc_auc_score\n",
    "\n",
    "import keras\n",
    "from keras.models import Sequential\n",
    "from keras.layers import Dense, Conv2D, MaxPooling2D, Dropout, Flatten, BatchNormalization"
   ]
  },
  {
   "cell_type": "code",
   "execution_count": 3,
   "metadata": {},
   "outputs": [],
   "source": [
    "train_path = '../data/simple_classier_inputs/train.csv'\n",
    "test_path = '../data/simple_classier_inputs/test.csv'"
   ]
  },
  {
   "cell_type": "code",
   "execution_count": 4,
   "metadata": {},
   "outputs": [],
   "source": [
    "train = pd.read_csv(train_path)\n",
    "test = pd.read_csv(test_path)"
   ]
  },
  {
   "cell_type": "code",
   "execution_count": 5,
   "metadata": {},
   "outputs": [],
   "source": [
    "y_train = train['label']\n",
    "y_test = test['label']\n",
    "\n",
    "X_train = train.drop(['label', 'fileID'], axis=1)\n",
    "X_test = test.drop(['label', 'fileID'], axis=1)"
   ]
  },
  {
   "cell_type": "code",
   "execution_count": 6,
   "metadata": {},
   "outputs": [
    {
     "data": {
      "text/plain": [
       "167"
      ]
     },
     "execution_count": 6,
     "metadata": {},
     "output_type": "execute_result"
    }
   ],
   "source": [
    "sum(y_train)"
   ]
  },
  {
   "cell_type": "code",
   "execution_count": 7,
   "metadata": {},
   "outputs": [],
   "source": [
    "sm = SMOTE(random_state=12, ratio = 1.0)\n",
    "X_train, y_train = sm.fit_sample(X_train, y_train)"
   ]
  },
  {
   "cell_type": "code",
   "execution_count": 8,
   "metadata": {},
   "outputs": [
    {
     "data": {
      "text/plain": [
       "1277"
      ]
     },
     "execution_count": 8,
     "metadata": {},
     "output_type": "execute_result"
    }
   ],
   "source": [
    "sum(y_train)"
   ]
  },
  {
   "cell_type": "code",
   "execution_count": 9,
   "metadata": {},
   "outputs": [],
   "source": [
    "models = []\n",
    "\n",
    "models.append((\"KNeighbors\",\n",
    "               KNeighborsClassifier(weights='distance')))\n",
    "\n",
    "models.append((\"LogisticRegression\",\n",
    "               LogisticRegression(solver='liblinear',\n",
    "                                  max_iter=1000000,\n",
    "                                  class_weight={1:.21},\n",
    "                                  penalty='l1')))\n",
    "\n",
    "dtBase = DecisionTreeClassifier(max_depth=10, \n",
    "                               max_features=1000,\n",
    "                               class_weight={1:.2})\n",
    "\n",
    "models.append((\"DecisionTree\",dtBase))\n",
    "\n",
    "rdfBase = RandomForestClassifier(n_estimators=1000,\n",
    "                                class_weight={1:.2})\n",
    "\n",
    "models.append((\"RandomForest\",rdfBase))\n",
    "\n",
    "\n",
    "rf2 = RandomForestClassifier(n_estimators=1000, \n",
    "                             criterion='gini',\n",
    "                             max_depth=10,\n",
    "                             class_weight={1:.2})\n",
    "\n",
    "models.append((\"RandomForest-2\",rf2))\n",
    "\n",
    "models.append((\"BaggingClassifier\",\n",
    "               BaggingClassifier(DecisionTreeClassifier(max_depth=3),\n",
    "                                n_estimators=100,\n",
    "                                max_features=1000)))\n",
    "\n",
    "models.append((\"BaggingClassifier-2\",\n",
    "               BaggingClassifier(dtBase,\n",
    "                                n_estimators=100,\n",
    "                                max_features=1000)))\n",
    "\n",
    "models.append((\"AdaBoostClassifier\",\n",
    "               AdaBoostClassifier(DecisionTreeClassifier(max_depth=1),\n",
    "                                  algorithm=\"SAMME\",\n",
    "                                  n_estimators=1000)))\n",
    "               \n",
    "models.append((\"AdaBoostClassifier-2\",\n",
    "               AdaBoostClassifier(dtBase,\n",
    "                                  algorithm=\"SAMME\",\n",
    "                                  n_estimators=100)))\n",
    "\n",
    "models.append((\"GradientBoostingClassifier\",\n",
    "               GradientBoostingClassifier(n_estimators=100, \n",
    "                                          max_leaf_nodes=4, \n",
    "                                          max_depth = 10)))"
   ]
  },
  {
   "cell_type": "code",
   "execution_count": 10,
   "metadata": {},
   "outputs": [
    {
     "name": "stdout",
     "output_type": "stream",
     "text": [
      " ####  KNeighbors \n",
      "               precision    recall  f1-score   support\n",
      "\n",
      "           0       0.93      0.55      0.69       548\n",
      "           1       0.16      0.66      0.26        71\n",
      "\n",
      "   micro avg       0.56      0.56      0.56       619\n",
      "   macro avg       0.54      0.61      0.47       619\n",
      "weighted avg       0.84      0.56      0.64       619\n",
      " \n",
      "\n",
      " ####  LogisticRegression \n",
      "               precision    recall  f1-score   support\n",
      "\n",
      "           0       0.91      0.97      0.94       548\n",
      "           1       0.58      0.27      0.37        71\n",
      "\n",
      "   micro avg       0.89      0.89      0.89       619\n",
      "   macro avg       0.74      0.62      0.65       619\n",
      "weighted avg       0.87      0.89      0.88       619\n",
      " \n",
      "\n",
      " ####  DecisionTree \n",
      "               precision    recall  f1-score   support\n",
      "\n",
      "           0       0.91      0.93      0.92       548\n",
      "           1       0.37      0.32      0.35        71\n",
      "\n",
      "   micro avg       0.86      0.86      0.86       619\n",
      "   macro avg       0.64      0.63      0.63       619\n",
      "weighted avg       0.85      0.86      0.86       619\n",
      " \n",
      "\n",
      " ####  RandomForest \n",
      "               precision    recall  f1-score   support\n",
      "\n",
      "           0       0.90      0.98      0.94       548\n",
      "           1       0.43      0.14      0.21        71\n",
      "\n",
      "   micro avg       0.88      0.88      0.88       619\n",
      "   macro avg       0.67      0.56      0.57       619\n",
      "weighted avg       0.84      0.88      0.85       619\n",
      " \n",
      "\n",
      " ####  RandomForest-2 \n",
      "               precision    recall  f1-score   support\n",
      "\n",
      "           0       0.89      1.00      0.94       548\n",
      "           1       0.50      0.01      0.03        71\n",
      "\n",
      "   micro avg       0.89      0.89      0.89       619\n",
      "   macro avg       0.69      0.51      0.48       619\n",
      "weighted avg       0.84      0.89      0.83       619\n",
      " \n",
      "\n",
      " ####  BaggingClassifier \n",
      "               precision    recall  f1-score   support\n",
      "\n",
      "           0       0.91      0.86      0.88       548\n",
      "           1       0.24      0.35      0.29        71\n",
      "\n",
      "   micro avg       0.80      0.80      0.80       619\n",
      "   macro avg       0.58      0.60      0.58       619\n",
      "weighted avg       0.83      0.80      0.81       619\n",
      " \n",
      "\n",
      " ####  BaggingClassifier-2 \n",
      "               precision    recall  f1-score   support\n",
      "\n",
      "           0       0.89      1.00      0.94       548\n",
      "           1       0.80      0.06      0.11        71\n",
      "\n",
      "   micro avg       0.89      0.89      0.89       619\n",
      "   macro avg       0.85      0.53      0.52       619\n",
      "weighted avg       0.88      0.89      0.85       619\n",
      " \n",
      "\n",
      " ####  AdaBoostClassifier \n",
      "               precision    recall  f1-score   support\n",
      "\n",
      "           0       0.91      0.93      0.92       548\n",
      "           1       0.33      0.25      0.29        71\n",
      "\n",
      "   micro avg       0.86      0.86      0.86       619\n",
      "   macro avg       0.62      0.59      0.60       619\n",
      "weighted avg       0.84      0.86      0.85       619\n",
      " \n",
      "\n",
      " ####  AdaBoostClassifier-2 \n",
      "               precision    recall  f1-score   support\n",
      "\n",
      "           0       0.90      0.94      0.92       548\n",
      "           1       0.32      0.21      0.25        71\n",
      "\n",
      "   micro avg       0.86      0.86      0.86       619\n",
      "   macro avg       0.61      0.58      0.59       619\n",
      "weighted avg       0.84      0.86      0.84       619\n",
      " \n",
      "\n",
      " ####  GradientBoostingClassifier \n",
      "               precision    recall  f1-score   support\n",
      "\n",
      "           0       0.91      0.93      0.92       548\n",
      "           1       0.35      0.30      0.32        71\n",
      "\n",
      "   micro avg       0.86      0.86      0.86       619\n",
      "   macro avg       0.63      0.61      0.62       619\n",
      "weighted avg       0.85      0.86      0.85       619\n",
      " \n",
      "\n"
     ]
    }
   ],
   "source": [
    "result_rows = []\n",
    "count = 1\n",
    "results_frame = pd.DataFrame()\n",
    "\n",
    "predictionsList = []\n",
    "\n",
    "for name, model in models:\n",
    "    model.fit(X_train, y_train)\n",
    "    prediction_vec = model.predict(X_test)\n",
    "    \n",
    "    predictionsList.append((name, prediction_vec))\n",
    "    \n",
    "    report = classification_report(y_test, prediction_vec)\n",
    "    print(' #### ', name, '\\n', report, '\\n')\n",
    "    \n",
    "    ac = accuracy_score(y_test, prediction_vec)\n",
    "    pr = precision_score(y_test, prediction_vec)\n",
    "    roc = roc_auc_score(y_test, prediction_vec)\n",
    "\n",
    "    results_frame.loc[count, 'Model'] = name\n",
    "    results_frame.loc[count, 'Accuracy'] = ac\n",
    "    results_frame.loc[count, 'Precision'] = pr\n",
    "    results_frame.loc[count, 'AUCROC'] = roc\n",
    "\n",
    "    count = count + 1"
   ]
  },
  {
   "cell_type": "code",
   "execution_count": 23,
   "metadata": {},
   "outputs": [
    {
     "name": "stderr",
     "output_type": "stream",
     "text": [
      "/usr/local/lib/python3.7/site-packages/sklearn/metrics/classification.py:1143: UndefinedMetricWarning: Precision is ill-defined and being set to 0.0 due to no predicted samples.\n",
      "  'precision', 'predicted', average, warn_for)\n"
     ]
    }
   ],
   "source": [
    "# add majority class classifier for comparison\n",
    "majority_class = np.zeros(len(y_test))\n",
    "\n",
    "ac = accuracy_score(y_test, majority_class)\n",
    "pr = precision_score(y_test, majority_class)\n",
    "roc = roc_auc_score(y_test, majority_class)\n",
    "\n",
    "results_frame.loc[count, 'Model'] = 'MajorityClassClassifier-Naive'\n",
    "results_frame.loc[count, 'Accuracy'] = ac\n",
    "results_frame.loc[count, 'Precision'] = pr\n",
    "results_frame.loc[count, 'AUCROC'] = roc"
   ]
  },
  {
   "cell_type": "code",
   "execution_count": 24,
   "metadata": {},
   "outputs": [
    {
     "data": {
      "text/html": [
       "<div>\n",
       "<style scoped>\n",
       "    .dataframe tbody tr th:only-of-type {\n",
       "        vertical-align: middle;\n",
       "    }\n",
       "\n",
       "    .dataframe tbody tr th {\n",
       "        vertical-align: top;\n",
       "    }\n",
       "\n",
       "    .dataframe thead th {\n",
       "        text-align: right;\n",
       "    }\n",
       "</style>\n",
       "<table border=\"1\" class=\"dataframe\">\n",
       "  <thead>\n",
       "    <tr style=\"text-align: right;\">\n",
       "      <th></th>\n",
       "      <th>Model</th>\n",
       "      <th>Accuracy</th>\n",
       "      <th>Precision</th>\n",
       "      <th>AUCROC</th>\n",
       "    </tr>\n",
       "  </thead>\n",
       "  <tbody>\n",
       "    <tr>\n",
       "      <th>1</th>\n",
       "      <td>KNeighbors</td>\n",
       "      <td>0.562197</td>\n",
       "      <td>0.159864</td>\n",
       "      <td>0.605621</td>\n",
       "    </tr>\n",
       "    <tr>\n",
       "      <th>2</th>\n",
       "      <td>LogisticRegression</td>\n",
       "      <td>0.893376</td>\n",
       "      <td>0.575758</td>\n",
       "      <td>0.621029</td>\n",
       "    </tr>\n",
       "    <tr>\n",
       "      <th>3</th>\n",
       "      <td>DecisionTree</td>\n",
       "      <td>0.859451</td>\n",
       "      <td>0.370968</td>\n",
       "      <td>0.626388</td>\n",
       "    </tr>\n",
       "    <tr>\n",
       "      <th>4</th>\n",
       "      <td>RandomForest</td>\n",
       "      <td>0.880452</td>\n",
       "      <td>0.434783</td>\n",
       "      <td>0.558561</td>\n",
       "    </tr>\n",
       "    <tr>\n",
       "      <th>5</th>\n",
       "      <td>RandomForest-2</td>\n",
       "      <td>0.885299</td>\n",
       "      <td>0.500000</td>\n",
       "      <td>0.506130</td>\n",
       "    </tr>\n",
       "    <tr>\n",
       "      <th>6</th>\n",
       "      <td>BaggingClassifier</td>\n",
       "      <td>0.798061</td>\n",
       "      <td>0.240385</td>\n",
       "      <td>0.603976</td>\n",
       "    </tr>\n",
       "    <tr>\n",
       "      <th>7</th>\n",
       "      <td>BaggingClassifier-2</td>\n",
       "      <td>0.890145</td>\n",
       "      <td>0.800000</td>\n",
       "      <td>0.527257</td>\n",
       "    </tr>\n",
       "    <tr>\n",
       "      <th>8</th>\n",
       "      <td>AdaBoostClassifier</td>\n",
       "      <td>0.856220</td>\n",
       "      <td>0.333333</td>\n",
       "      <td>0.593914</td>\n",
       "    </tr>\n",
       "    <tr>\n",
       "      <th>9</th>\n",
       "      <td>AdaBoostClassifier-2</td>\n",
       "      <td>0.857835</td>\n",
       "      <td>0.319149</td>\n",
       "      <td>0.576437</td>\n",
       "    </tr>\n",
       "    <tr>\n",
       "      <th>10</th>\n",
       "      <td>GradientBoostingClassifier</td>\n",
       "      <td>0.856220</td>\n",
       "      <td>0.350000</td>\n",
       "      <td>0.612303</td>\n",
       "    </tr>\n",
       "    <tr>\n",
       "      <th>11</th>\n",
       "      <td>MajorityClassClassifier-Naive</td>\n",
       "      <td>0.885299</td>\n",
       "      <td>0.000000</td>\n",
       "      <td>0.500000</td>\n",
       "    </tr>\n",
       "  </tbody>\n",
       "</table>\n",
       "</div>"
      ],
      "text/plain": [
       "                            Model  Accuracy  Precision    AUCROC\n",
       "1                      KNeighbors  0.562197   0.159864  0.605621\n",
       "2              LogisticRegression  0.893376   0.575758  0.621029\n",
       "3                    DecisionTree  0.859451   0.370968  0.626388\n",
       "4                    RandomForest  0.880452   0.434783  0.558561\n",
       "5                  RandomForest-2  0.885299   0.500000  0.506130\n",
       "6               BaggingClassifier  0.798061   0.240385  0.603976\n",
       "7             BaggingClassifier-2  0.890145   0.800000  0.527257\n",
       "8              AdaBoostClassifier  0.856220   0.333333  0.593914\n",
       "9            AdaBoostClassifier-2  0.857835   0.319149  0.576437\n",
       "10     GradientBoostingClassifier  0.856220   0.350000  0.612303\n",
       "11  MajorityClassClassifier-Naive  0.885299   0.000000  0.500000"
      ]
     },
     "execution_count": 24,
     "metadata": {},
     "output_type": "execute_result"
    }
   ],
   "source": [
    "results_frame.head(len(results_frame))"
   ]
  },
  {
   "cell_type": "markdown",
   "metadata": {},
   "source": [
    "## Neural Networks"
   ]
  },
  {
   "cell_type": "code",
   "execution_count": 13,
   "metadata": {},
   "outputs": [],
   "source": [
    "# print(X_train.shape)\n",
    "# print(X_test.shape)"
   ]
  },
  {
   "cell_type": "code",
   "execution_count": 14,
   "metadata": {},
   "outputs": [],
   "source": [
    "# y_train = keras.utils.to_categorical(y_train, num_classes=2)\n",
    "# y_test = keras.utils.to_categorical(y_test, num_classes=2)"
   ]
  },
  {
   "cell_type": "code",
   "execution_count": 15,
   "metadata": {},
   "outputs": [],
   "source": [
    "# # Create model\n",
    "# model = Sequential()\n",
    "# model.add(Dense(units=1000, activation='relu', input_dim=5491))\n",
    "# model.add(Dense(units=500, activation='relu'))\n",
    "# model.add(Dense(units=70, activation='relu'))\n",
    "# model.add(Dense(units=2, activation='softmax'))\n",
    "\n",
    "# model.compile(loss='categorical_crossentropy',\n",
    "#               optimizer=keras.optimizers.Adagrad(lr=0.01),\n",
    "#               metrics=['accuracy'])\n",
    "\n",
    "# # Train\n",
    "# mod = model.fit(X_train, y_train, validation_data=(X_test,y_test), \n",
    "#           epochs=20, batch_size=10)"
   ]
  },
  {
   "cell_type": "code",
   "execution_count": 16,
   "metadata": {},
   "outputs": [],
   "source": [
    "# %matplotlib inline\n",
    "# plt.plot(mod.history['acc'])\n",
    "# plt.plot(mod.history['val_acc'])\n",
    "# plt.title('model accuracy')\n",
    "# plt.ylabel('accuracy')\n",
    "# plt.xlabel('epoch')\n",
    "# plt.legend(['train', 'test'], loc='upper left')\n",
    "# plt.show()"
   ]
  },
  {
   "cell_type": "code",
   "execution_count": 17,
   "metadata": {},
   "outputs": [],
   "source": [
    "# plt.plot(mod.history['loss'])\n",
    "# plt.plot(mod.history['val_loss'])\n",
    "# plt.title('model loss')\n",
    "# plt.ylabel('loss')\n",
    "# plt.xlabel('epoch')\n",
    "# plt.legend(['train', 'test'], loc='upper left')\n",
    "# plt.show()"
   ]
  },
  {
   "cell_type": "code",
   "execution_count": null,
   "metadata": {},
   "outputs": [],
   "source": []
  }
 ],
 "metadata": {
  "kernelspec": {
   "display_name": "Python 3",
   "language": "python",
   "name": "python3"
  },
  "language_info": {
   "codemirror_mode": {
    "name": "ipython",
    "version": 3
   },
   "file_extension": ".py",
   "mimetype": "text/x-python",
   "name": "python",
   "nbconvert_exporter": "python",
   "pygments_lexer": "ipython3",
   "version": "3.7.0"
  }
 },
 "nbformat": 4,
 "nbformat_minor": 2
}
