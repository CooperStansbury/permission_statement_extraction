{
 "cells": [
  {
   "cell_type": "markdown",
   "metadata": {},
   "source": [
    "## Simple Classifiers\n",
    "Train classifiers based on annotations."
   ]
  },
  {
   "cell_type": "code",
   "execution_count": 1,
   "metadata": {},
   "outputs": [
    {
     "name": "stdout",
     "output_type": "stream",
     "text": [
      "VERSION:  3.7.0\n"
     ]
    }
   ],
   "source": [
    "from platform import python_version\n",
    "print(\"VERSION: \", python_version()) # expect 3.7.0"
   ]
  },
  {
   "cell_type": "code",
   "execution_count": 81,
   "metadata": {},
   "outputs": [],
   "source": [
    "import pandas as pd\n",
    "import numpy as np\n",
    "import matplotlib.pyplot as plt\n",
    "\n",
    "from sklearn.model_selection import cross_val_score\n",
    "from sklearn.linear_model import LogisticRegression\n",
    "from sklearn.svm import SVC, LinearSVC\n",
    "from sklearn.neighbors import KNeighborsClassifier\n",
    "from sklearn.tree import DecisionTreeClassifier\n",
    "from sklearn.ensemble import RandomForestClassifier\n",
    "from sklearn.ensemble import BaggingClassifier\n",
    "from sklearn.naive_bayes import GaussianNB\n",
    "from sklearn.neural_network import MLPClassifier\n",
    "from sklearn.ensemble import AdaBoostClassifier\n",
    "from sklearn.ensemble import GradientBoostingClassifier\n",
    "from sklearn.ensemble import VotingClassifier\n",
    "from imblearn.over_sampling import SMOTE\n",
    "\n",
    "from sklearn.metrics import classification_report\n",
    "from sklearn.metrics import accuracy_score\n",
    "from sklearn.metrics import precision_score\n",
    "from sklearn.metrics import roc_auc_score\n",
    "\n",
    "import keras\n",
    "from keras.models import Sequential\n",
    "from keras.layers import Dense, Conv2D, MaxPooling2D, Dropout, Flatten, BatchNormalization"
   ]
  },
  {
   "cell_type": "code",
   "execution_count": 33,
   "metadata": {},
   "outputs": [],
   "source": [
    "train_path = '../data/simple_classier_inputs/train.csv'\n",
    "test_path = '../data/simple_classier_inputs/test.csv'"
   ]
  },
  {
   "cell_type": "code",
   "execution_count": 34,
   "metadata": {},
   "outputs": [],
   "source": [
    "train = pd.read_csv(train_path)\n",
    "test = pd.read_csv(test_path)"
   ]
  },
  {
   "cell_type": "code",
   "execution_count": 35,
   "metadata": {},
   "outputs": [],
   "source": [
    "y_train = train['label']\n",
    "y_test = test['label']\n",
    "\n",
    "X_train = train.drop(['label', 'fileID'], axis=1)\n",
    "X_test = test.drop(['label', 'fileID'], axis=1)"
   ]
  },
  {
   "cell_type": "code",
   "execution_count": 36,
   "metadata": {},
   "outputs": [
    {
     "data": {
      "text/plain": [
       "167"
      ]
     },
     "execution_count": 36,
     "metadata": {},
     "output_type": "execute_result"
    }
   ],
   "source": [
    "sum(y_train)"
   ]
  },
  {
   "cell_type": "code",
   "execution_count": 38,
   "metadata": {},
   "outputs": [],
   "source": [
    "sm = SMOTE(random_state=12, ratio = 1.0)\n",
    "X_train, y_train = sm.fit_sample(X_train, y_train)"
   ]
  },
  {
   "cell_type": "code",
   "execution_count": 39,
   "metadata": {},
   "outputs": [
    {
     "data": {
      "text/plain": [
       "1277"
      ]
     },
     "execution_count": 39,
     "metadata": {},
     "output_type": "execute_result"
    }
   ],
   "source": [
    "sum(y_train)"
   ]
  },
  {
   "cell_type": "code",
   "execution_count": 103,
   "metadata": {},
   "outputs": [],
   "source": [
    "models = []\n",
    "\n",
    "models.append((\"KNeighbors\",\n",
    "               KNeighborsClassifier(weights='distance')))\n",
    "\n",
    "models.append((\"LogisticRegression\",\n",
    "               LogisticRegression(solver='liblinear',\n",
    "                                  max_iter=1000000,\n",
    "                                  class_weight={1:.21},\n",
    "                                  penalty='l1')))\n",
    "\n",
    "dtBase = DecisionTreeClassifier(max_depth=10, \n",
    "                               max_features=1000,\n",
    "                               class_weight={1:.2})\n",
    "\n",
    "models.append((\"DecisionTree\",dtBase))\n",
    "\n",
    "rdfBase = RandomForestClassifier(n_estimators=1000,\n",
    "                                class_weight={1:.2})\n",
    "\n",
    "models.append((\"RandomForest\",rdfBase))\n",
    "\n",
    "\n",
    "rf2 = RandomForestClassifier(n_estimators=1000, \n",
    "                             criterion='gini',\n",
    "                             max_depth=10,\n",
    "                             class_weight={1:.2})\n",
    "\n",
    "models.append((\"RandomForest-2\",rf2))\n",
    "\n",
    "models.append((\"BaggingClassifier\",\n",
    "               BaggingClassifier(DecisionTreeClassifier(max_depth=3),\n",
    "                                n_estimators=100,\n",
    "                                max_features=1000)))\n",
    "\n",
    "models.append((\"BaggingClassifier-2\",\n",
    "               BaggingClassifier(dtBase,\n",
    "                                n_estimators=100,\n",
    "                                max_features=1000)))\n",
    "\n",
    "models.append((\"AdaBoostClassifier\",\n",
    "               AdaBoostClassifier(DecisionTreeClassifier(max_depth=1),\n",
    "                                  algorithm=\"SAMME\",\n",
    "                                  n_estimators=1000)))\n",
    "               \n",
    "models.append((\"AdaBoostClassifier-2\",\n",
    "               AdaBoostClassifier(dtBase,\n",
    "                                  algorithm=\"SAMME\",\n",
    "                                  n_estimators=100)))\n",
    "\n",
    "models.append((\"GradientBoostingClassifier\",\n",
    "               GradientBoostingClassifier(n_estimators=100, \n",
    "                                          max_leaf_nodes=4, \n",
    "                                          max_depth = 10)))"
   ]
  },
  {
   "cell_type": "code",
   "execution_count": 104,
   "metadata": {},
   "outputs": [
    {
     "name": "stdout",
     "output_type": "stream",
     "text": [
      " ####  KNeighbors \n",
      "               precision    recall  f1-score   support\n",
      "\n",
      "           0       0.93      0.55      0.69       548\n",
      "           1       0.16      0.66      0.26        71\n",
      "\n",
      "   micro avg       0.56      0.56      0.56       619\n",
      "   macro avg       0.54      0.61      0.47       619\n",
      "weighted avg       0.84      0.56      0.64       619\n",
      " \n",
      "\n",
      " ####  LogisticRegression \n",
      "               precision    recall  f1-score   support\n",
      "\n",
      "           0       0.91      0.98      0.94       548\n",
      "           1       0.58      0.25      0.35        71\n",
      "\n",
      "   micro avg       0.89      0.89      0.89       619\n",
      "   macro avg       0.75      0.61      0.65       619\n",
      "weighted avg       0.87      0.89      0.87       619\n",
      " \n",
      "\n",
      " ####  DecisionTree \n",
      "               precision    recall  f1-score   support\n",
      "\n",
      "           0       0.90      0.90      0.90       548\n",
      "           1       0.25      0.27      0.26        71\n",
      "\n",
      "   micro avg       0.82      0.82      0.82       619\n",
      "   macro avg       0.58      0.58      0.58       619\n",
      "weighted avg       0.83      0.82      0.83       619\n",
      " \n",
      "\n",
      " ####  RandomForest \n",
      "               precision    recall  f1-score   support\n",
      "\n",
      "           0       0.90      0.98      0.94       548\n",
      "           1       0.47      0.13      0.20        71\n",
      "\n",
      "   micro avg       0.88      0.88      0.88       619\n",
      "   macro avg       0.69      0.55      0.57       619\n",
      "weighted avg       0.85      0.88      0.85       619\n",
      " \n",
      "\n",
      " ####  RandomForest-2 \n",
      "               precision    recall  f1-score   support\n",
      "\n",
      "           0       0.89      1.00      0.94       548\n",
      "           1       0.00      0.00      0.00        71\n",
      "\n",
      "   micro avg       0.88      0.88      0.88       619\n",
      "   macro avg       0.44      0.50      0.47       619\n",
      "weighted avg       0.78      0.88      0.83       619\n",
      " \n",
      "\n",
      " ####  BaggingClassifier \n",
      "               precision    recall  f1-score   support\n",
      "\n",
      "           0       0.91      0.91      0.91       548\n",
      "           1       0.33      0.34      0.33        71\n",
      "\n",
      "   micro avg       0.84      0.84      0.84       619\n",
      "   macro avg       0.62      0.62      0.62       619\n",
      "weighted avg       0.85      0.84      0.85       619\n",
      " \n",
      "\n",
      " ####  BaggingClassifier-2 \n",
      "               precision    recall  f1-score   support\n",
      "\n",
      "           0       0.89      1.00      0.94       548\n",
      "           1       0.80      0.06      0.11        71\n",
      "\n",
      "   micro avg       0.89      0.89      0.89       619\n",
      "   macro avg       0.85      0.53      0.52       619\n",
      "weighted avg       0.88      0.89      0.85       619\n",
      " \n",
      "\n",
      " ####  AdaBoostClassifier \n",
      "               precision    recall  f1-score   support\n",
      "\n",
      "           0       0.90      0.93      0.92       548\n",
      "           1       0.32      0.24      0.27        71\n",
      "\n",
      "   micro avg       0.85      0.85      0.85       619\n",
      "   macro avg       0.61      0.59      0.60       619\n",
      "weighted avg       0.84      0.85      0.85       619\n",
      " \n",
      "\n",
      " ####  AdaBoostClassifier-2 \n",
      "               precision    recall  f1-score   support\n",
      "\n",
      "           0       0.90      0.94      0.92       548\n",
      "           1       0.33      0.21      0.26        71\n",
      "\n",
      "   micro avg       0.86      0.86      0.86       619\n",
      "   macro avg       0.61      0.58      0.59       619\n",
      "weighted avg       0.84      0.86      0.85       619\n",
      " \n",
      "\n",
      " ####  GradientBoostingClassifier \n",
      "               precision    recall  f1-score   support\n",
      "\n",
      "           0       0.91      0.93      0.92       548\n",
      "           1       0.35      0.30      0.32        71\n",
      "\n",
      "   micro avg       0.86      0.86      0.86       619\n",
      "   macro avg       0.63      0.61      0.62       619\n",
      "weighted avg       0.85      0.86      0.85       619\n",
      " \n",
      "\n"
     ]
    }
   ],
   "source": [
    "result_rows = []\n",
    "count = 1\n",
    "results_frame = pd.DataFrame()\n",
    "\n",
    "predictionsList = []\n",
    "\n",
    "for name, model in models:\n",
    "    model.fit(X_train, y_train)\n",
    "    prediction_vec = model.predict(X_test)\n",
    "    \n",
    "    predictionsList.append((name, prediction_vec))\n",
    "    \n",
    "    report = classification_report(y_test, prediction_vec)\n",
    "    print(' #### ', name, '\\n', report, '\\n')\n",
    "    \n",
    "    ac = accuracy_score(y_test, prediction_vec)\n",
    "    pr = precision_score(y_test, prediction_vec)\n",
    "    roc = roc_auc_score(y_test, prediction_vec)\n",
    "\n",
    "    results_frame.loc[count, 'Model'] = name\n",
    "    results_frame.loc[count, 'Accuracy'] = ac\n",
    "    results_frame.loc[count, 'Precision'] = pr\n",
    "    results_frame.loc[count, 'AUCROC'] = roc\n",
    "\n",
    "    count = count + 1"
   ]
  },
  {
   "cell_type": "code",
   "execution_count": 105,
   "metadata": {},
   "outputs": [
    {
     "data": {
      "text/html": [
       "<div>\n",
       "<style scoped>\n",
       "    .dataframe tbody tr th:only-of-type {\n",
       "        vertical-align: middle;\n",
       "    }\n",
       "\n",
       "    .dataframe tbody tr th {\n",
       "        vertical-align: top;\n",
       "    }\n",
       "\n",
       "    .dataframe thead th {\n",
       "        text-align: right;\n",
       "    }\n",
       "</style>\n",
       "<table border=\"1\" class=\"dataframe\">\n",
       "  <thead>\n",
       "    <tr style=\"text-align: right;\">\n",
       "      <th></th>\n",
       "      <th>Model</th>\n",
       "      <th>Accuracy</th>\n",
       "      <th>Precision</th>\n",
       "      <th>AUCROC</th>\n",
       "    </tr>\n",
       "  </thead>\n",
       "  <tbody>\n",
       "    <tr>\n",
       "      <th>1</th>\n",
       "      <td>KNeighbors</td>\n",
       "      <td>0.562197</td>\n",
       "      <td>0.159864</td>\n",
       "      <td>0.605621</td>\n",
       "    </tr>\n",
       "    <tr>\n",
       "      <th>2</th>\n",
       "      <td>LogisticRegression</td>\n",
       "      <td>0.893376</td>\n",
       "      <td>0.580645</td>\n",
       "      <td>0.614899</td>\n",
       "    </tr>\n",
       "    <tr>\n",
       "      <th>3</th>\n",
       "      <td>DecisionTree</td>\n",
       "      <td>0.823910</td>\n",
       "      <td>0.250000</td>\n",
       "      <td>0.581796</td>\n",
       "    </tr>\n",
       "    <tr>\n",
       "      <th>4</th>\n",
       "      <td>RandomForest</td>\n",
       "      <td>0.883683</td>\n",
       "      <td>0.473684</td>\n",
       "      <td>0.554256</td>\n",
       "    </tr>\n",
       "    <tr>\n",
       "      <th>5</th>\n",
       "      <td>RandomForest-2</td>\n",
       "      <td>0.883683</td>\n",
       "      <td>0.000000</td>\n",
       "      <td>0.499088</td>\n",
       "    </tr>\n",
       "    <tr>\n",
       "      <th>6</th>\n",
       "      <td>BaggingClassifier</td>\n",
       "      <td>0.844911</td>\n",
       "      <td>0.328767</td>\n",
       "      <td>0.624306</td>\n",
       "    </tr>\n",
       "    <tr>\n",
       "      <th>7</th>\n",
       "      <td>BaggingClassifier-2</td>\n",
       "      <td>0.890145</td>\n",
       "      <td>0.800000</td>\n",
       "      <td>0.527257</td>\n",
       "    </tr>\n",
       "    <tr>\n",
       "      <th>8</th>\n",
       "      <td>AdaBoostClassifier</td>\n",
       "      <td>0.854604</td>\n",
       "      <td>0.320755</td>\n",
       "      <td>0.586872</td>\n",
       "    </tr>\n",
       "    <tr>\n",
       "      <th>9</th>\n",
       "      <td>AdaBoostClassifier-2</td>\n",
       "      <td>0.859451</td>\n",
       "      <td>0.326087</td>\n",
       "      <td>0.577349</td>\n",
       "    </tr>\n",
       "    <tr>\n",
       "      <th>10</th>\n",
       "      <td>GradientBoostingClassifier</td>\n",
       "      <td>0.856220</td>\n",
       "      <td>0.350000</td>\n",
       "      <td>0.612303</td>\n",
       "    </tr>\n",
       "  </tbody>\n",
       "</table>\n",
       "</div>"
      ],
      "text/plain": [
       "                         Model  Accuracy  Precision    AUCROC\n",
       "1                   KNeighbors  0.562197   0.159864  0.605621\n",
       "2           LogisticRegression  0.893376   0.580645  0.614899\n",
       "3                 DecisionTree  0.823910   0.250000  0.581796\n",
       "4                 RandomForest  0.883683   0.473684  0.554256\n",
       "5               RandomForest-2  0.883683   0.000000  0.499088\n",
       "6            BaggingClassifier  0.844911   0.328767  0.624306\n",
       "7          BaggingClassifier-2  0.890145   0.800000  0.527257\n",
       "8           AdaBoostClassifier  0.854604   0.320755  0.586872\n",
       "9         AdaBoostClassifier-2  0.859451   0.326087  0.577349\n",
       "10  GradientBoostingClassifier  0.856220   0.350000  0.612303"
      ]
     },
     "execution_count": 105,
     "metadata": {},
     "output_type": "execute_result"
    }
   ],
   "source": [
    "results_frame.head(len(results_frame))"
   ]
  },
  {
   "cell_type": "markdown",
   "metadata": {},
   "source": [
    "## Neural Networks"
   ]
  },
  {
   "cell_type": "code",
   "execution_count": 8,
   "metadata": {},
   "outputs": [
    {
     "name": "stdout",
     "output_type": "stream",
     "text": [
      "(1444, 5491)\n",
      "(619, 5491)\n"
     ]
    }
   ],
   "source": [
    "print(X_train.shape)\n",
    "print(X_test.shape)"
   ]
  },
  {
   "cell_type": "code",
   "execution_count": 9,
   "metadata": {},
   "outputs": [],
   "source": [
    "y_train = keras.utils.to_categorical(y_train, num_classes=2)\n",
    "y_test = keras.utils.to_categorical(y_test, num_classes=2)"
   ]
  },
  {
   "cell_type": "code",
   "execution_count": 10,
   "metadata": {},
   "outputs": [
    {
     "name": "stdout",
     "output_type": "stream",
     "text": [
      "WARNING:tensorflow:From /usr/local/lib/python3.7/site-packages/tensorflow/python/framework/op_def_library.py:263: colocate_with (from tensorflow.python.framework.ops) is deprecated and will be removed in a future version.\n",
      "Instructions for updating:\n",
      "Colocations handled automatically by placer.\n",
      "WARNING:tensorflow:From /usr/local/lib/python3.7/site-packages/tensorflow/python/ops/math_ops.py:3066: to_int32 (from tensorflow.python.ops.math_ops) is deprecated and will be removed in a future version.\n",
      "Instructions for updating:\n",
      "Use tf.cast instead.\n",
      "Train on 1444 samples, validate on 619 samples\n",
      "Epoch 1/20\n",
      "1444/1444 [==============================] - 6s 4ms/step - loss: 1.8477 - acc: 0.8802 - val_loss: 1.8488 - val_acc: 0.8853\n",
      "Epoch 2/20\n",
      "1444/1444 [==============================] - 5s 4ms/step - loss: 1.8641 - acc: 0.8843 - val_loss: 1.8488 - val_acc: 0.8853\n",
      "Epoch 3/20\n",
      "1444/1444 [==============================] - 6s 4ms/step - loss: 1.8641 - acc: 0.8843 - val_loss: 1.8488 - val_acc: 0.8853\n",
      "Epoch 4/20\n",
      "1444/1444 [==============================] - 6s 4ms/step - loss: 1.8641 - acc: 0.8843 - val_loss: 1.8488 - val_acc: 0.8853\n",
      "Epoch 5/20\n",
      "1444/1444 [==============================] - 5s 4ms/step - loss: 1.8641 - acc: 0.8843 - val_loss: 1.8488 - val_acc: 0.8853\n",
      "Epoch 6/20\n",
      "1444/1444 [==============================] - 5s 4ms/step - loss: 1.8641 - acc: 0.8843 - val_loss: 1.8488 - val_acc: 0.8853\n",
      "Epoch 7/20\n",
      "1444/1444 [==============================] - 5s 4ms/step - loss: 1.8641 - acc: 0.8843 - val_loss: 1.8488 - val_acc: 0.8853\n",
      "Epoch 8/20\n",
      "1444/1444 [==============================] - 5s 4ms/step - loss: 1.8641 - acc: 0.8843 - val_loss: 1.8488 - val_acc: 0.8853\n",
      "Epoch 9/20\n",
      "1444/1444 [==============================] - 5s 3ms/step - loss: 1.8641 - acc: 0.8843 - val_loss: 1.8488 - val_acc: 0.8853\n",
      "Epoch 10/20\n",
      "1444/1444 [==============================] - 5s 4ms/step - loss: 1.8641 - acc: 0.8843 - val_loss: 1.8488 - val_acc: 0.8853\n",
      "Epoch 11/20\n",
      "1444/1444 [==============================] - 5s 4ms/step - loss: 1.8641 - acc: 0.8843 - val_loss: 1.8488 - val_acc: 0.8853\n",
      "Epoch 12/20\n",
      "1444/1444 [==============================] - 5s 4ms/step - loss: 1.8641 - acc: 0.8843 - val_loss: 1.8488 - val_acc: 0.8853\n",
      "Epoch 13/20\n",
      "1444/1444 [==============================] - 5s 4ms/step - loss: 1.8641 - acc: 0.8843 - val_loss: 1.8488 - val_acc: 0.8853\n",
      "Epoch 14/20\n",
      "1444/1444 [==============================] - 5s 4ms/step - loss: 1.8641 - acc: 0.8843 - val_loss: 1.8488 - val_acc: 0.8853\n",
      "Epoch 15/20\n",
      "1444/1444 [==============================] - 6s 4ms/step - loss: 1.8641 - acc: 0.8843 - val_loss: 1.8488 - val_acc: 0.8853\n",
      "Epoch 16/20\n",
      "1444/1444 [==============================] - 5s 4ms/step - loss: 1.8641 - acc: 0.8843 - val_loss: 1.8488 - val_acc: 0.8853\n",
      "Epoch 17/20\n",
      "1444/1444 [==============================] - 5s 4ms/step - loss: 1.8641 - acc: 0.8843 - val_loss: 1.8488 - val_acc: 0.8853\n",
      "Epoch 18/20\n",
      "1444/1444 [==============================] - 5s 4ms/step - loss: 1.8641 - acc: 0.8843 - val_loss: 1.8488 - val_acc: 0.8853\n",
      "Epoch 19/20\n",
      "1444/1444 [==============================] - 5s 4ms/step - loss: 1.8641 - acc: 0.8843 - val_loss: 1.8488 - val_acc: 0.8853\n",
      "Epoch 20/20\n",
      "1444/1444 [==============================] - 5s 4ms/step - loss: 1.8641 - acc: 0.8843 - val_loss: 1.8488 - val_acc: 0.8853\n"
     ]
    }
   ],
   "source": [
    "# Create model\n",
    "model = Sequential()\n",
    "model.add(Dense(units=1000, activation='relu', input_dim=5491))\n",
    "model.add(Dense(units=500, activation='relu'))\n",
    "model.add(Dense(units=70, activation='relu'))\n",
    "model.add(Dense(units=2, activation='softmax'))\n",
    "\n",
    "model.compile(loss='categorical_crossentropy',\n",
    "              optimizer=keras.optimizers.Adagrad(lr=0.01),\n",
    "              metrics=['accuracy'])\n",
    "\n",
    "# Train\n",
    "mod = model.fit(X_train, y_train, validation_data=(X_test,y_test), \n",
    "          epochs=20, batch_size=10)"
   ]
  },
  {
   "cell_type": "code",
   "execution_count": 11,
   "metadata": {},
   "outputs": [
    {
     "data": {
      "image/png": "[encoded data removed]",
      "text/plain": [
       "<Figure size 432x288 with 1 Axes>"
      ]
     },
     "metadata": {
      "needs_background": "light"
     },
     "output_type": "display_data"
    }
   ],
   "source": [
    "%matplotlib inline\n",
    "plt.plot(mod.history['acc'])\n",
    "plt.plot(mod.history['val_acc'])\n",
    "plt.title('model accuracy')\n",
    "plt.ylabel('accuracy')\n",
    "plt.xlabel('epoch')\n",
    "plt.legend(['train', 'test'], loc='upper left')\n",
    "plt.show()"
   ]
  },
  {
   "cell_type": "code",
   "execution_count": 12,
   "metadata": {},
   "outputs": [
    {
     "data": {
      "image/png": "[encoded data removed]",
      "text/plain": [
       "<Figure size 432x288 with 1 Axes>"
      ]
     },
     "metadata": {
      "needs_background": "light"
     },
     "output_type": "display_data"
    }
   ],
   "source": [
    "plt.plot(mod.history['loss'])\n",
    "plt.plot(mod.history['val_loss'])\n",
    "plt.title('model loss')\n",
    "plt.ylabel('loss')\n",
    "plt.xlabel('epoch')\n",
    "plt.legend(['train', 'test'], loc='upper left')\n",
    "plt.show()"
   ]
  },
  {
   "cell_type": "code",
   "execution_count": null,
   "metadata": {},
   "outputs": [],
   "source": []
  }
 ],
 "metadata": {
  "kernelspec": {
   "display_name": "Python 3",
   "language": "python",
   "name": "python3"
  },
  "language_info": {
   "codemirror_mode": {
    "name": "ipython",
    "version": 3
   },
   "file_extension": ".py",
   "mimetype": "text/x-python",
   "name": "python",
   "nbconvert_exporter": "python",
   "pygments_lexer": "ipython3",
   "version": "3.7.0"
  }
 },
 "nbformat": 4,
 "nbformat_minor": 2
}
