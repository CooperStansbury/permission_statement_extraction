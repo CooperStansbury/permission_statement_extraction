{
 "cells": [
  {
   "cell_type": "markdown",
   "metadata": {},
   "source": [
    "## Config"
   ]
  },
  {
   "cell_type": "code",
   "execution_count": 1,
   "metadata": {},
   "outputs": [
    {
     "name": "stdout",
     "output_type": "stream",
     "text": [
      "VERSION:  3.7.0\n"
     ]
    }
   ],
   "source": [
    "import os\n",
    "import re\n",
    "import pandas as pd\n",
    "import numpy as np\n",
    "from sklearn.feature_extraction.text import TfidfVectorizer\n",
    "from sklearn.metrics.pairwise import cosine_similarity\n",
    "import spacy\n",
    "from spacy.attrs import LOWER, POS, ENT_TYPE, IS_ALPHA\n",
    "from spacy.tokens import Doc\n",
    "from spacy.vocab import Vocab\n",
    "import nltk\n",
    "from nltk.corpus import wordnet\n",
    "from nltk.stem.wordnet import WordNetLemmatizer\n",
    "import random\n",
    "import itertools\n",
    "from itertools import chain\n",
    "\n",
    "from platform import python_version\n",
    "print(\"VERSION: \", python_version()) # expect 3.7.0\n",
    "\n",
    "# dirty spaCy error workaround:\n",
    "get_ipython().config.get('IPKernelApp', {})['parent_appname'] = \"\""
   ]
  },
  {
   "cell_type": "code",
   "execution_count": 3,
   "metadata": {},
   "outputs": [],
   "source": [
    "# os_path = '/Users/milk/Desktop/git/'\n",
    "# forms_dir = os_path + 'InformedConsentForms/data/all_forms'\n",
    "\n",
    "forms_dir = '../input_data/all_forms'"
   ]
  },
  {
   "cell_type": "code",
   "execution_count": 5,
   "metadata": {},
   "outputs": [],
   "source": [
    "# define the spaCy lib for vocab and vectors\n",
    "nlp = spacy.load('en')\n",
    "nlp_larg = spacy.load('en_core_web_lg')"
   ]
  },
  {
   "cell_type": "markdown",
   "metadata": {},
   "source": [
    "## Semantic Clues\n",
    "These are the verbs that we believe indicate the prescence of a statement of 'allowable action.'"
   ]
  },
  {
   "cell_type": "code",
   "execution_count": 6,
   "metadata": {},
   "outputs": [],
   "source": [
    "##  taken from: \n",
    "# “I found great synonyms for ‘permission’ on the new Thesaurus.com!,”\n",
    "# www.thesaurus.com. [Online]. Available: https://www.thesaurus.com/browse/permission. \n",
    "## [Accessed: 19-Feb-2019].\n",
    "\n",
    "permission_bases = [\"permission\", \n",
    "                    \"authorization\", \n",
    "                    \"authorize\",\n",
    "                    \"consent\",\n",
    "                    \"assent\",\n",
    "                    \"permit\",\n",
    "                    \"approve\",\n",
    "                    \"grant\",\n",
    "                    \"allow\",\n",
    "                    \"certify\"]"
   ]
  },
  {
   "cell_type": "markdown",
   "metadata": {},
   "source": [
    "## Add Synonyms\n",
    "Use WordNet to gather synonyms of the semantic clues."
   ]
  },
  {
   "cell_type": "code",
   "execution_count": 9,
   "metadata": {},
   "outputs": [
    {
     "name": "stdout",
     "output_type": "stream",
     "text": [
      "num elements in extended semantic clues: 51\n"
     ]
    }
   ],
   "source": [
    "def addWordNetSynsets(word_list):\n",
    "    \" add synsets to new list \"\n",
    "    updated_list = []\n",
    "    \n",
    "    for word in word_list:\n",
    "        updated_list.append(word)\n",
    "        synonyms = wordnet.synsets(word, 'v')\n",
    "        synonyms = set(chain.from_iterable([word.lemma_names() for word in synonyms]))\n",
    "        \n",
    "        [updated_list.append(x) for x in synonyms if x not in updated_list]\n",
    "        \n",
    "    return updated_list\n",
    "        \n",
    "permission_extended = addWordNetSynsets(permission_bases)\n",
    "\n",
    "print('num elements in extended semantic clues:', len(permission_extended))\n",
    "# [print(x) for x in permission_extended]"
   ]
  },
  {
   "cell_type": "markdown",
   "metadata": {},
   "source": [
    "## build consent form data structure\n",
    "get dict and dataframe from each consent form on file\n",
    "\n",
    "#### todo: get metadata"
   ]
  },
  {
   "cell_type": "code",
   "execution_count": 11,
   "metadata": {},
   "outputs": [],
   "source": [
    "def getData(directory):\n",
    "    \"\"\" returns a dict with cleaned filenames, full paths,\n",
    "    and text data in multiple formats from a dictionary\n",
    "    of .txt files\"\"\"\n",
    "    \n",
    "    fileDictionary = {}\n",
    "    fileID = 0\n",
    "    \n",
    "    # iterate through directory\n",
    "    for subdir, dirs, files in os.walk(directory):\n",
    "        for file in files:\n",
    "            \n",
    "            fileID += 1\n",
    "            filepath = subdir + os.sep + file\n",
    "            \n",
    "            if filepath.endswith('.txt'):\n",
    "                wordList = [] # this will include duplicates and stop words\n",
    "                cleanedFileName = ''.join(e for e in file if e.isalnum())[:-3] \n",
    "                \n",
    "                # perform string operations on each file\n",
    "                with open(filepath, 'r') as myfile:\n",
    "                    data = myfile.read().replace('\\n', ' ')       \n",
    "                \n",
    "                fileDictionary[fileID] = {}\n",
    "                fileDictionary[fileID]['name'] = cleanedFileName\n",
    "                fileDictionary[fileID]['path'] = filepath\n",
    "                fileDictionary[fileID]['rawText'] = data\n",
    "    \n",
    "    return fileDictionary\n",
    "\n",
    "# run the function and store to variable \n",
    "consent_dictionary = getData(forms_dir)"
   ]
  },
  {
   "cell_type": "code",
   "execution_count": 13,
   "metadata": {},
   "outputs": [],
   "source": [
    "# #test print statement\n",
    "# [print(k,v, '\\n') for k,v in consent_dictionary[1].items()]"
   ]
  },
  {
   "cell_type": "code",
   "execution_count": 18,
   "metadata": {},
   "outputs": [
    {
     "data": {
      "text/html": [
       "<div>\n",
       "<style scoped>\n",
       "    .dataframe tbody tr th:only-of-type {\n",
       "        vertical-align: middle;\n",
       "    }\n",
       "\n",
       "    .dataframe tbody tr th {\n",
       "        vertical-align: top;\n",
       "    }\n",
       "\n",
       "    .dataframe thead th {\n",
       "        text-align: right;\n",
       "    }\n",
       "</style>\n",
       "<table border=\"1\" class=\"dataframe\">\n",
       "  <thead>\n",
       "    <tr style=\"text-align: right;\">\n",
       "      <th></th>\n",
       "      <th>name</th>\n",
       "      <th>path</th>\n",
       "      <th>rawText</th>\n",
       "    </tr>\n",
       "  </thead>\n",
       "  <tbody>\n",
       "    <tr>\n",
       "      <th>0</th>\n",
       "      <td>TAMUHRPPInformedconsent</td>\n",
       "      <td>../input_data/all_forms/TAMU - HRPP Informed c...</td>\n",
       "      <td>﻿NOT INTENDED FOR USE WITHOUT TAMU/BCD IRB APP...</td>\n",
       "    </tr>\n",
       "    <tr>\n",
       "      <th>1</th>\n",
       "      <td>PotomacPrimaryCarefluconsentform</td>\n",
       "      <td>../input_data/all_forms/Potomac Primary Care_f...</td>\n",
       "      <td>PATIENT CONSENT FORM FOR SEASONAL INFLUENZA VA...</td>\n",
       "    </tr>\n",
       "    <tr>\n",
       "      <th>2</th>\n",
       "      <td>OSUScheduledDeliveryConsent</td>\n",
       "      <td>../input_data/all_forms/OSU_Scheduled_Delivery...</td>\n",
       "      <td>SCHEDULED DELIVERY:           Today’s Date: Da...</td>\n",
       "    </tr>\n",
       "  </tbody>\n",
       "</table>\n",
       "</div>"
      ],
      "text/plain": [
       "                               name  \\\n",
       "0           TAMUHRPPInformedconsent   \n",
       "1  PotomacPrimaryCarefluconsentform   \n",
       "2       OSUScheduledDeliveryConsent   \n",
       "\n",
       "                                                path  \\\n",
       "0  ../input_data/all_forms/TAMU - HRPP Informed c...   \n",
       "1  ../input_data/all_forms/Potomac Primary Care_f...   \n",
       "2  ../input_data/all_forms/OSU_Scheduled_Delivery...   \n",
       "\n",
       "                                             rawText  \n",
       "0  ﻿NOT INTENDED FOR USE WITHOUT TAMU/BCD IRB APP...  \n",
       "1  PATIENT CONSENT FORM FOR SEASONAL INFLUENZA VA...  \n",
       "2  SCHEDULED DELIVERY:           Today’s Date: Da...  "
      ]
     },
     "execution_count": 18,
     "metadata": {},
     "output_type": "execute_result"
    }
   ],
   "source": [
    "def toDataFrame(fileDictionary):\n",
    "    \"\"\" return pandas dataframe\n",
    "    Note: expects input in nested dict format (output from getData)\"\"\"\n",
    "    new_rows = []\n",
    "\n",
    "    for key, value in fileDictionary.items():\n",
    "        new_rows.append(value)\n",
    "         \n",
    "    df = pd.DataFrame(new_rows)\n",
    "    return df\n",
    "\n",
    "df = toDataFrame(consent_dictionary)\n",
    "\n",
    "df.head(3)"
   ]
  },
  {
   "cell_type": "markdown",
   "metadata": {},
   "source": [
    "## Random sampling to speed up development\n",
    "This will be removed when we want to process the whole corpus."
   ]
  },
  {
   "cell_type": "code",
   "execution_count": 19,
   "metadata": {},
   "outputs": [],
   "source": [
    "# comment out to run on whole corpus\n",
    "n_samples = 15\n",
    "df = df.sample(n=n_samples)"
   ]
  },
  {
   "cell_type": "markdown",
   "metadata": {},
   "source": [
    "## add spacy object to dataframe\n",
    "\n",
    "#### WARNING: this takes a long time,"
   ]
  },
  {
   "cell_type": "code",
   "execution_count": 20,
   "metadata": {},
   "outputs": [],
   "source": [
    "def getDocObjects(row, field):\n",
    "    \" return spacy doc object\"\n",
    "#     # small nlp library\n",
    "#     doc = nlp(str(row[field]).lower())\n",
    "\n",
    "    # large library\n",
    "    doc = nlp_larg(str(row[field]).lower())\n",
    "    return doc\n",
    "\n",
    "df['docOB'] = df.apply(lambda row:getDocObjects(row, 'rawText'),axis=1)"
   ]
  },
  {
   "cell_type": "code",
   "execution_count": 23,
   "metadata": {},
   "outputs": [
    {
     "data": {
      "text/html": [
       "<div>\n",
       "<style scoped>\n",
       "    .dataframe tbody tr th:only-of-type {\n",
       "        vertical-align: middle;\n",
       "    }\n",
       "\n",
       "    .dataframe tbody tr th {\n",
       "        vertical-align: top;\n",
       "    }\n",
       "\n",
       "    .dataframe thead th {\n",
       "        text-align: right;\n",
       "    }\n",
       "</style>\n",
       "<table border=\"1\" class=\"dataframe\">\n",
       "  <thead>\n",
       "    <tr style=\"text-align: right;\">\n",
       "      <th></th>\n",
       "      <th>name</th>\n",
       "      <th>path</th>\n",
       "      <th>rawText</th>\n",
       "      <th>docOB</th>\n",
       "    </tr>\n",
       "  </thead>\n",
       "  <tbody>\n",
       "    <tr>\n",
       "      <th>448</th>\n",
       "      <td>CFTemplateSocBehavSchoolPermissionParent</td>\n",
       "      <td>../input_data/all_forms/CF-Template_SocBehav_S...</td>\n",
       "      <td>﻿TEMPLATE PARENT PERMISSION FORM – SOCIAL-BEHA...</td>\n",
       "      <td>(﻿template, parent, permission, form, –, socia...</td>\n",
       "    </tr>\n",
       "    <tr>\n",
       "      <th>3</th>\n",
       "      <td>consentbiorepository121914</td>\n",
       "      <td>../input_data/all_forms/consent_biorepository_...</td>\n",
       "      <td>﻿ Informed Consent Form and HIPAA Authorizatio...</td>\n",
       "      <td>(﻿, informed, consent, form, and, hipaa, autho...</td>\n",
       "    </tr>\n",
       "    <tr>\n",
       "      <th>299</th>\n",
       "      <td>ICSLineInsertion</td>\n",
       "      <td>../input_data/all_forms/ICS_Line Insertion.txt</td>\n",
       "      <td>I  nfusion  C  are  S  ervices of Virginia, In...</td>\n",
       "      <td>(i,  , nfusion,  , c,  , are,  , s,  , ervices...</td>\n",
       "    </tr>\n",
       "    <tr>\n",
       "      <th>679</th>\n",
       "      <td>HealthOneSWEDENBloodProductsConsent</td>\n",
       "      <td>../input_data/all_forms/Health One_SWEDEN_Bloo...</td>\n",
       "      <td>INFORMED CONSENT FOR TRANSFUSION OF BLOOD OR B...</td>\n",
       "      <td>(informed, consent, for, transfusion, of, bloo...</td>\n",
       "    </tr>\n",
       "    <tr>\n",
       "      <th>482</th>\n",
       "      <td>H0065Consents</td>\n",
       "      <td>../input_data/all_forms/H0065Consents.txt</td>\n",
       "      <td>CONSENT FOR ADMISSION &amp; CARE/HOSPICE BENEFIT E...</td>\n",
       "      <td>(consent, for, admission, &amp;, care, /, hospice,...</td>\n",
       "    </tr>\n",
       "  </tbody>\n",
       "</table>\n",
       "</div>"
      ],
      "text/plain": [
       "                                         name  \\\n",
       "448  CFTemplateSocBehavSchoolPermissionParent   \n",
       "3                  consentbiorepository121914   \n",
       "299                          ICSLineInsertion   \n",
       "679       HealthOneSWEDENBloodProductsConsent   \n",
       "482                             H0065Consents   \n",
       "\n",
       "                                                  path  \\\n",
       "448  ../input_data/all_forms/CF-Template_SocBehav_S...   \n",
       "3    ../input_data/all_forms/consent_biorepository_...   \n",
       "299     ../input_data/all_forms/ICS_Line Insertion.txt   \n",
       "679  ../input_data/all_forms/Health One_SWEDEN_Bloo...   \n",
       "482          ../input_data/all_forms/H0065Consents.txt   \n",
       "\n",
       "                                               rawText  \\\n",
       "448  ﻿TEMPLATE PARENT PERMISSION FORM – SOCIAL-BEHA...   \n",
       "3    ﻿ Informed Consent Form and HIPAA Authorizatio...   \n",
       "299  I  nfusion  C  are  S  ervices of Virginia, In...   \n",
       "679  INFORMED CONSENT FOR TRANSFUSION OF BLOOD OR B...   \n",
       "482  CONSENT FOR ADMISSION & CARE/HOSPICE BENEFIT E...   \n",
       "\n",
       "                                                 docOB  \n",
       "448  (﻿template, parent, permission, form, –, socia...  \n",
       "3    (﻿, informed, consent, form, and, hipaa, autho...  \n",
       "299  (i,  , nfusion,  , c,  , are,  , s,  , ervices...  \n",
       "679  (informed, consent, for, transfusion, of, bloo...  \n",
       "482  (consent, for, admission, &, care, /, hospice,...  "
      ]
     },
     "execution_count": 23,
     "metadata": {},
     "output_type": "execute_result"
    }
   ],
   "source": [
    "df.head()\n",
    "\n",
    "# df['docOB'].head()"
   ]
  },
  {
   "cell_type": "markdown",
   "metadata": {},
   "source": [
    "## extract sentences"
   ]
  },
  {
   "cell_type": "code",
   "execution_count": 24,
   "metadata": {},
   "outputs": [],
   "source": [
    "def getSentenceList(row, field):\n",
    "    \" return list of sents from doc object\"\n",
    "    sent_list = []\n",
    "    \n",
    "    # must operate on a spaCy doc object \n",
    "    for sent in row[field].sents:\n",
    "#         print(dir(sent))\n",
    "        sent_list.append(sent)\n",
    "    \n",
    "    return sent_list\n",
    "\n",
    "df['sentList'] = df.apply(lambda row:getSentenceList(row, 'docOB'),axis=1)"
   ]
  },
  {
   "cell_type": "code",
   "execution_count": 25,
   "metadata": {},
   "outputs": [
    {
     "data": {
      "text/html": [
       "<div>\n",
       "<style scoped>\n",
       "    .dataframe tbody tr th:only-of-type {\n",
       "        vertical-align: middle;\n",
       "    }\n",
       "\n",
       "    .dataframe tbody tr th {\n",
       "        vertical-align: top;\n",
       "    }\n",
       "\n",
       "    .dataframe thead th {\n",
       "        text-align: right;\n",
       "    }\n",
       "</style>\n",
       "<table border=\"1\" class=\"dataframe\">\n",
       "  <thead>\n",
       "    <tr style=\"text-align: right;\">\n",
       "      <th></th>\n",
       "      <th>name</th>\n",
       "      <th>path</th>\n",
       "      <th>rawText</th>\n",
       "      <th>docOB</th>\n",
       "      <th>sentList</th>\n",
       "      <th>cleanedText</th>\n",
       "    </tr>\n",
       "  </thead>\n",
       "  <tbody>\n",
       "    <tr>\n",
       "      <th>448</th>\n",
       "      <td>CFTemplateSocBehavSchoolPermissionParent</td>\n",
       "      <td>../input_data/all_forms/CF-Template_SocBehav_S...</td>\n",
       "      <td>﻿TEMPLATE PARENT PERMISSION FORM – SOCIAL-BEHA...</td>\n",
       "      <td>(﻿template, parent, permission, form, –, socia...</td>\n",
       "      <td>[(﻿template, parent, permission, form, –, soci...</td>\n",
       "      <td>template parent permission form social behavio...</td>\n",
       "    </tr>\n",
       "    <tr>\n",
       "      <th>3</th>\n",
       "      <td>consentbiorepository121914</td>\n",
       "      <td>../input_data/all_forms/consent_biorepository_...</td>\n",
       "      <td>﻿ Informed Consent Form and HIPAA Authorizatio...</td>\n",
       "      <td>(﻿, informed, consent, form, and, hipaa, autho...</td>\n",
       "      <td>[(﻿, informed, consent, form, and, hipaa, auth...</td>\n",
       "      <td>informed consent form and hipaa authorization ...</td>\n",
       "    </tr>\n",
       "  </tbody>\n",
       "</table>\n",
       "</div>"
      ],
      "text/plain": [
       "                                         name  \\\n",
       "448  CFTemplateSocBehavSchoolPermissionParent   \n",
       "3                  consentbiorepository121914   \n",
       "\n",
       "                                                  path  \\\n",
       "448  ../input_data/all_forms/CF-Template_SocBehav_S...   \n",
       "3    ../input_data/all_forms/consent_biorepository_...   \n",
       "\n",
       "                                               rawText  \\\n",
       "448  ﻿TEMPLATE PARENT PERMISSION FORM – SOCIAL-BEHA...   \n",
       "3    ﻿ Informed Consent Form and HIPAA Authorizatio...   \n",
       "\n",
       "                                                 docOB  \\\n",
       "448  (﻿template, parent, permission, form, –, socia...   \n",
       "3    (﻿, informed, consent, form, and, hipaa, autho...   \n",
       "\n",
       "                                              sentList  \\\n",
       "448  [(﻿template, parent, permission, form, –, soci...   \n",
       "3    [(﻿, informed, consent, form, and, hipaa, auth...   \n",
       "\n",
       "                                           cleanedText  \n",
       "448  template parent permission form social behavio...  \n",
       "3    informed consent form and hipaa authorization ...  "
      ]
     },
     "execution_count": 25,
     "metadata": {},
     "output_type": "execute_result"
    }
   ],
   "source": [
    "def getWordListasString(row):\n",
    "    \"\"\" return a list of words, including duplicates.\n",
    "    NOTE: light cleaning on ingestion \"\"\"\n",
    "    wordList = [] \n",
    "    \n",
    "    for word in row['rawText'].split():\n",
    "        word = re.sub(\"[^a-zA-Z]+\", \" \", word).strip().lower()\n",
    "        if not word == \"\":\n",
    "            wordList.append(word)\n",
    "            \n",
    "    return \" \".join(wordList)\n",
    "        \n",
    "df['cleanedText'] = df.apply(lambda row: getWordListasString(row),axis=1)\n",
    "\n",
    "df.head(2)"
   ]
  },
  {
   "cell_type": "markdown",
   "metadata": {},
   "source": [
    "## preliminary permisison sentence extraction\n",
    "look for sentences that have a word from the 'clues' list"
   ]
  },
  {
   "cell_type": "markdown",
   "metadata": {},
   "source": [
    "## TODO: remove duplicates, add count\n",
    "\n",
    "### NOTE: DO WE WANT SENTENCE PAIRS? THREE SENTENCES?"
   ]
  },
  {
   "cell_type": "code",
   "execution_count": 60,
   "metadata": {},
   "outputs": [
    {
     "name": "stdout",
     "output_type": "stream",
     "text": [
      "{1: {'sent': '\\ufefftemplate parent permission form – social-behavioral (for school-based research)         parent permission for child to participate in a research study title of study [if applicable, designate sub-group after study title, e.g., \"parents\"]  '}} \n",
      "\n",
      "{1: {'sent': '\\ufeff informed consent form and hipaa authorization  study title: \\ttitle of biorepository  version date:  \\tdate principal investigator: investigator name telephone: (xxx) xxx-xxxx  '}} \n",
      "\n",
      "{1: {}} \n",
      "\n",
      "{1: {'sent': 'informed consent for transfusion of blood or blood products or attestation statement please be aware that this signed consent is valid for the following periods of time.'}} \n",
      "\n",
      "{1: {'sent': 'consent for admission & care/hospice benefit election hospice #'}} \n",
      "\n",
      "{1: {}} \n",
      "\n",
      "{1: {'sent': 'the cancer genome atlas (tcga)  suggested informed consent language  for prospective collections   2011  purpose of the project    we would like to ask your permission to include you in a research project called the  cancer genome atlas (tcga).  '}} \n",
      "\n",
      "{1: {}} \n",
      "\n",
      "{1: {}} \n",
      "\n",
      "{1: {}} \n",
      "\n",
      "{1: {}} \n",
      "\n",
      "{1: {'sent': 'project id  (will be physically cut off after final consent reconciliation)  '}} \n",
      "\n",
      "{1: {'sent': 'i-ipv vaccination consent form  king’s daughters medical center clinic  genital human papillomavirus (“hpv”)'}} \n",
      "\n",
      "{1: {'sent': '\\ufeff  informed consent for participation in a research study \\t  title of research study: [insert title of research study here] investigator: [insert name of principal investigator and department] investigator contact information: [insert contact information for principal investigator] why am i being invited to take part in a research study?'}} \n",
      "\n",
      "{1: {'sent': 'hpv vaccine (gardasil®) consent form instructions for parents 1.\\t 2.\\t 3.\\t \\t  '}} \n",
      "\n"
     ]
    },
    {
     "data": {
      "text/plain": [
       "448    None\n",
       "3      None\n",
       "299    None\n",
       "679    None\n",
       "482    None\n",
       "475    None\n",
       "713    None\n",
       "84     None\n",
       "59     None\n",
       "157    None\n",
       "260    None\n",
       "226    None\n",
       "285    None\n",
       "709    None\n",
       "388    None\n",
       "dtype: object"
      ]
     },
     "execution_count": 60,
     "metadata": {},
     "output_type": "execute_result"
    }
   ],
   "source": [
    "def getPossiblePermissions(row, permissions_list):\n",
    "    \"\"\" return list of sentences containing the \n",
    "    permissions words \"\"\"\n",
    "    \n",
    "    # a dict seems appropriate to store candidate permissions\n",
    "    candidate_sentence = {}\n",
    "    \n",
    "    sent_count = 0\n",
    "    \n",
    "    # iterate through a list of sentences\n",
    "    for sent in row['sentList']:\n",
    "        \n",
    "        sent_count += 1\n",
    "        candidate_sentence[sent_count] = {}\n",
    "        \n",
    "        # iterate through each clue\n",
    "        for clue in permissions_list:     \n",
    "            \n",
    "            # check if sting contains any clues (need to match case)\n",
    "            if sent.text.lower().__contains__(clue):\n",
    "                \"\"\" NOTE: right not if ANY clue is found, this is enough \"\"\"\n",
    "                \n",
    "#                 candidate_sentence['prev_sent'] = None\n",
    "                candidate_sentence[sent_count]['sent'] = sent.text\n",
    "#                 candidate_sentence['next_sent'] = None\n",
    "        \n",
    "        print(candidate_sentence, '\\n')\n",
    "        \n",
    "        break\n",
    "        \n",
    "#         [sent_list.append(sent) for clue in\\\n",
    "#              permissions_list if sent.text.__contains__(clue)]\n",
    "                \n",
    "df.apply(lambda row:getPossiblePermissions(row, permission_extended),axis=1)\n",
    "\n",
    "# df['permissionsStatements'] = df.apply(lambda row:getPossiblePermissions(row, permission_extended),axis=1)"
   ]
  },
  {
   "cell_type": "code",
   "execution_count": 27,
   "metadata": {},
   "outputs": [
    {
     "name": "stdout",
     "output_type": "stream",
     "text": [
      "sent: ﻿template parent permission form – social-behavioral (for school-based research)         parent permission for child to participate in a research study title of study [if applicable, designate sub-group after study title, e.g., \"parents\"]   \n",
      "\n",
      "sent: we invite your child, with your permission, to participate (be a \"subject\") in this study.   \n",
      "\n",
      "sent: ﻿ informed consent form and hipaa authorization  study title: \ttitle of biorepository  version date:  \tdate principal investigator: investigator name telephone: (xxx) xxx-xxxx   \n",
      "\n",
      "sent: ﻿ informed consent form and hipaa authorization  study title: \ttitle of biorepository  version date:  \tdate principal investigator: investigator name telephone: (xxx) xxx-xxxx   \n",
      "\n",
      "sent: picc and midline insertion consent form i, \n",
      "\n",
      "sent: ___, my attending physician or one of his/her associate(s), has given an order for the placement of a picc or midline and that he/she also designated where the tip of the catheter should be situated. \n",
      "\n",
      "sent: informed consent for transfusion of blood or blood products or attestation statement please be aware that this signed consent is valid for the following periods of time. \n",
      "\n",
      "sent: informed consent for transfusion of blood or blood products or attestation statement please be aware that this signed consent is valid for the following periods of time. \n",
      "\n",
      "sent: consent for admission & care/hospice benefit election hospice # \n",
      "\n",
      "sent: __ hereby consent to admission and care by hospice of marion county, inc., inc. \n",
      "\n",
      "sent: protocol title: principal investigator: description of subject population: version date:  video use consent form  as part of this research study \n",
      "\n",
      "sent: with your consent, we would like to be able to use your film for different purposes.   \n",
      "\n",
      "sent: the cancer genome atlas (tcga)  suggested informed consent language  for prospective collections   2011  purpose of the project    we would like to ask your permission to include you in a research project called the  cancer genome atlas (tcga).   \n",
      "\n",
      "sent: the cancer genome atlas (tcga)  suggested informed consent language  for prospective collections   2011  purpose of the project    we would like to ask your permission to include you in a research project called the  cancer genome atlas (tcga).   \n",
      "\n",
      "sent: combined informed consent/authorization template  instructions for developing informed consent/privacy authorization document \tplease call the jhm irb office (410-955-3008) if you have any questions   drafting the consent form  shaded instruction boxes:  many sections of this document include brief instructions to provide a general overview of information required in the section.   \n",
      "\n",
      "sent: combined informed consent/authorization template  instructions for developing informed consent/privacy authorization document \tplease call the jhm irb office (410-955-3008) if you have any questions   drafting the consent form  shaded instruction boxes:  many sections of this document include brief instructions to provide a general overview of information required in the section.   \n",
      "\n",
      "sent: catawba valley medical center hickory, north carolina  consent for induction of labor with prostaglandin products indication: your physician/midwife has determined the need to induce labor at this point in your pregnancy. \n",
      "\n",
      "sent: one currently accepted theory for what may cause the start of labor is the natural release of prostaglandins in the mother’s body. \n",
      "\n",
      "sent: i also understand the possible consequences of not completing endodontic treatment once it is initiated. \n",
      "\n",
      "sent: i understand that the treatment will involve several appointments to complete the procedure. \n",
      "\n"
     ]
    }
   ],
   "source": [
    "for sent in df['permissionsStatements'][:10]:\n",
    "    [print('sent:', x.text, '\\n') for x in sent[:2]]"
   ]
  },
  {
   "cell_type": "code",
   "execution_count": 16,
   "metadata": {},
   "outputs": [
    {
     "data": {
      "text/html": [
       "<div>\n",
       "<style scoped>\n",
       "    .dataframe tbody tr th:only-of-type {\n",
       "        vertical-align: middle;\n",
       "    }\n",
       "\n",
       "    .dataframe tbody tr th {\n",
       "        vertical-align: top;\n",
       "    }\n",
       "\n",
       "    .dataframe thead th {\n",
       "        text-align: right;\n",
       "    }\n",
       "</style>\n",
       "<table border=\"1\" class=\"dataframe\">\n",
       "  <thead>\n",
       "    <tr style=\"text-align: right;\">\n",
       "      <th></th>\n",
       "      <th>name</th>\n",
       "      <th>path</th>\n",
       "      <th>rawText</th>\n",
       "      <th>docOB</th>\n",
       "      <th>sentList</th>\n",
       "      <th>cleanedText</th>\n",
       "      <th>permissionsStatements</th>\n",
       "      <th>permissionDensity</th>\n",
       "    </tr>\n",
       "  </thead>\n",
       "  <tbody>\n",
       "    <tr>\n",
       "      <th>628</th>\n",
       "      <td>SJHAICFHIPAATemplate</td>\n",
       "      <td>/Users/milk/Desktop/git/InformedConsentForms/d...</td>\n",
       "      <td>﻿  Emory University and St. Joseph’s Hospital ...</td>\n",
       "      <td>(﻿,  , emory, university, and, st, ., joseph, ...</td>\n",
       "      <td>[(﻿,  , emory, university, and, st, .), (josep...</td>\n",
       "      <td>emory university and st joseph s hospital of a...</td>\n",
       "      <td>[(joseph, ’s, hospital, of, atlanta, consent, ...</td>\n",
       "      <td>0.253597</td>\n",
       "    </tr>\n",
       "    <tr>\n",
       "      <th>227</th>\n",
       "      <td>consenthipaaauthorizationform1407777962</td>\n",
       "      <td>/Users/milk/Desktop/git/InformedConsentForms/d...</td>\n",
       "      <td>﻿Biomedical Consent/HIPAA form, Version Date 5...</td>\n",
       "      <td>(﻿biomedical, consent, /, hipaa, form, ,, vers...</td>\n",
       "      <td>[(﻿biomedical, consent, /, hipaa, form, ,, ver...</td>\n",
       "      <td>biomedical consent hipaa form version date rep...</td>\n",
       "      <td>[(﻿biomedical, consent, /, hipaa, form, ,, ver...</td>\n",
       "      <td>0.169776</td>\n",
       "    </tr>\n",
       "  </tbody>\n",
       "</table>\n",
       "</div>"
      ],
      "text/plain": [
       "                                        name  \\\n",
       "628                     SJHAICFHIPAATemplate   \n",
       "227  consenthipaaauthorizationform1407777962   \n",
       "\n",
       "                                                  path  \\\n",
       "628  /Users/milk/Desktop/git/InformedConsentForms/d...   \n",
       "227  /Users/milk/Desktop/git/InformedConsentForms/d...   \n",
       "\n",
       "                                               rawText  \\\n",
       "628  ﻿  Emory University and St. Joseph’s Hospital ...   \n",
       "227  ﻿Biomedical Consent/HIPAA form, Version Date 5...   \n",
       "\n",
       "                                                 docOB  \\\n",
       "628  (﻿,  , emory, university, and, st, ., joseph, ...   \n",
       "227  (﻿biomedical, consent, /, hipaa, form, ,, vers...   \n",
       "\n",
       "                                              sentList  \\\n",
       "628  [(﻿,  , emory, university, and, st, .), (josep...   \n",
       "227  [(﻿biomedical, consent, /, hipaa, form, ,, ver...   \n",
       "\n",
       "                                           cleanedText  \\\n",
       "628  emory university and st joseph s hospital of a...   \n",
       "227  biomedical consent hipaa form version date rep...   \n",
       "\n",
       "                                 permissionsStatements  permissionDensity  \n",
       "628  [(joseph, ’s, hospital, of, atlanta, consent, ...           0.253597  \n",
       "227  [(﻿biomedical, consent, /, hipaa, form, ,, ver...           0.169776  "
      ]
     },
     "execution_count": 16,
     "metadata": {},
     "output_type": "execute_result"
    }
   ],
   "source": [
    "def getEstimatedPermissionDesnity(row):\n",
    "    \"\"\" return proportion of sentence total that may\n",
    "    be statements indicating perissions. Expect much noise. \"\"\"\n",
    "     \n",
    "    return len(row['permissionsStatements'])/len(row['sentList'])\n",
    "    \n",
    "df['permissionDensity'] = df.apply(lambda row: getEstimatedPermissionDesnity(row),axis=1)\n",
    "\n",
    "df.head(2)"
   ]
  },
  {
   "cell_type": "code",
   "execution_count": 17,
   "metadata": {},
   "outputs": [
    {
     "data": {
      "text/plain": [
       "<matplotlib.axes._subplots.AxesSubplot at 0x198cdc080>"
      ]
     },
     "execution_count": 17,
     "metadata": {},
     "output_type": "execute_result"
    },
    {
     "data": {
      "image/png": "[encoded data removed]",
      "text/plain": [
       "<Figure size 432x288 with 1 Axes>"
      ]
     },
     "metadata": {
      "needs_background": "light"
     },
     "output_type": "display_data"
    }
   ],
   "source": [
    "%matplotlib inline\n",
    "df['permissionDensity'].hist()"
   ]
  },
  {
   "cell_type": "markdown",
   "metadata": {},
   "source": [
    "## Important\n",
    "this represents an important break away from the primary dataframe. here i start to work with list structures to create a list of possible permissions that is no longer tied to filenames"
   ]
  },
  {
   "cell_type": "code",
   "execution_count": 18,
   "metadata": {},
   "outputs": [],
   "source": [
    "all_sents = []\n",
    "\n",
    "for sentlist in df['sentList'].to_list():\n",
    "    [all_sents.append(x) for x in sentlist]\n",
    "    \n",
    "all_permissions = []\n",
    "\n",
    "for permlist in df['permissionsStatements'].to_list():\n",
    "    [all_permissions.append(x) for x in permlist]"
   ]
  },
  {
   "cell_type": "code",
   "execution_count": 19,
   "metadata": {},
   "outputs": [
    {
     "name": "stdout",
     "output_type": "stream",
     "text": [
      "total rough draft permissions:  1529\n",
      "unique rough draft permissions:  1207\n",
      "total rough draft sentences:  11449\n",
      "unique rough draft sentences:  11449\n"
     ]
    }
   ],
   "source": [
    "print('total rough draft permissions: ', len(all_permissions))\n",
    "print('unique rough draft permissions: ', len(list(set(all_permissions))))\n",
    "\n",
    "print('total rough draft sentences: ', len(all_sents))\n",
    "print('unique rough draft sentences: ', len(list(set(all_sents))))"
   ]
  },
  {
   "cell_type": "code",
   "execution_count": 20,
   "metadata": {},
   "outputs": [],
   "source": [
    "# remove duplucates\n",
    "all_permissions = list(set(all_permissions))"
   ]
  },
  {
   "cell_type": "markdown",
   "metadata": {},
   "source": [
    "## pair-wise similarity between our permission 'guesses' and remaining sentences\n",
    "this is an important step so that we don't restrict ourselves to permission statements that contain the words we dreampt up"
   ]
  },
  {
   "cell_type": "markdown",
   "metadata": {},
   "source": [
    "# WARNING: WILL NOT SCALE, need to fix\n"
   ]
  },
  {
   "cell_type": "code",
   "execution_count": 21,
   "metadata": {},
   "outputs": [],
   "source": [
    "new_rows = []\n",
    "\n",
    "for sent in all_sents:\n",
    "    for perm in all_permissions:\n",
    "        row = {\n",
    "            'permission':perm,\n",
    "            'sentence':sent,\n",
    "            'similarity':sent.similarity(perm)\n",
    "        }\n",
    "        new_rows.append(row)"
   ]
  },
  {
   "cell_type": "code",
   "execution_count": 22,
   "metadata": {},
   "outputs": [
    {
     "data": {
      "text/html": [
       "<div>\n",
       "<style scoped>\n",
       "    .dataframe tbody tr th:only-of-type {\n",
       "        vertical-align: middle;\n",
       "    }\n",
       "\n",
       "    .dataframe tbody tr th {\n",
       "        vertical-align: top;\n",
       "    }\n",
       "\n",
       "    .dataframe thead th {\n",
       "        text-align: right;\n",
       "    }\n",
       "</style>\n",
       "<table border=\"1\" class=\"dataframe\">\n",
       "  <thead>\n",
       "    <tr style=\"text-align: right;\">\n",
       "      <th></th>\n",
       "      <th>permission</th>\n",
       "      <th>sentence</th>\n",
       "      <th>similarity</th>\n",
       "    </tr>\n",
       "  </thead>\n",
       "  <tbody>\n",
       "    <tr>\n",
       "      <th>0</th>\n",
       "      <td>(3,  , annotated, consent, document, for, the,...</td>\n",
       "      <td>(﻿,  , emory, university, and, st, .)</td>\n",
       "      <td>0.567261</td>\n",
       "    </tr>\n",
       "    <tr>\n",
       "      <th>1</th>\n",
       "      <td>(an, adverse, event, is, any, health, problem,...</td>\n",
       "      <td>(﻿,  , emory, university, and, st, .)</td>\n",
       "      <td>0.472716</td>\n",
       "    </tr>\n",
       "    <tr>\n",
       "      <th>2</th>\n",
       "      <td>(otherwise, ,, just, insert, this, sentence, :...</td>\n",
       "      <td>(﻿,  , emory, university, and, st, .)</td>\n",
       "      <td>0.487228</td>\n",
       "    </tr>\n",
       "    <tr>\n",
       "      <th>3</th>\n",
       "      <td>(am, pm, printed, name, of, witness,   , signa...</td>\n",
       "      <td>(﻿,  , emory, university, and, st, .)</td>\n",
       "      <td>0.493400</td>\n",
       "    </tr>\n",
       "    <tr>\n",
       "      <th>4</th>\n",
       "      <td>(request, and, consent, for, dental, treatment...</td>\n",
       "      <td>(﻿,  , emory, university, and, st, .)</td>\n",
       "      <td>0.518084</td>\n",
       "    </tr>\n",
       "  </tbody>\n",
       "</table>\n",
       "</div>"
      ],
      "text/plain": [
       "                                          permission  \\\n",
       "0  (3,  , annotated, consent, document, for, the,...   \n",
       "1  (an, adverse, event, is, any, health, problem,...   \n",
       "2  (otherwise, ,, just, insert, this, sentence, :...   \n",
       "3  (am, pm, printed, name, of, witness,   , signa...   \n",
       "4  (request, and, consent, for, dental, treatment...   \n",
       "\n",
       "                                sentence  similarity  \n",
       "0  (﻿,  , emory, university, and, st, .)    0.567261  \n",
       "1  (﻿,  , emory, university, and, st, .)    0.472716  \n",
       "2  (﻿,  , emory, university, and, st, .)    0.487228  \n",
       "3  (﻿,  , emory, university, and, st, .)    0.493400  \n",
       "4  (﻿,  , emory, university, and, st, .)    0.518084  "
      ]
     },
     "execution_count": 22,
     "metadata": {},
     "output_type": "execute_result"
    }
   ],
   "source": [
    "sf = pd.DataFrame(new_rows)\n",
    "sf.head()"
   ]
  },
  {
   "cell_type": "code",
   "execution_count": 23,
   "metadata": {},
   "outputs": [
    {
     "data": {
      "text/plain": [
       "<matplotlib.axes._subplots.AxesSubplot at 0x14a6382b0>"
      ]
     },
     "execution_count": 23,
     "metadata": {},
     "output_type": "execute_result"
    },
    {
     "data": {
      "image/png": "[encoded data removed]",
      "text/plain": [
       "<Figure size 432x288 with 1 Axes>"
      ]
     },
     "metadata": {
      "needs_background": "light"
     },
     "output_type": "display_data"
    }
   ],
   "source": [
    "sf['similarity'].hist()"
   ]
  },
  {
   "cell_type": "code",
   "execution_count": 24,
   "metadata": {},
   "outputs": [
    {
     "data": {
      "text/html": [
       "<div>\n",
       "<style scoped>\n",
       "    .dataframe tbody tr th:only-of-type {\n",
       "        vertical-align: middle;\n",
       "    }\n",
       "\n",
       "    .dataframe tbody tr th {\n",
       "        vertical-align: top;\n",
       "    }\n",
       "\n",
       "    .dataframe thead th {\n",
       "        text-align: right;\n",
       "    }\n",
       "</style>\n",
       "<table border=\"1\" class=\"dataframe\">\n",
       "  <thead>\n",
       "    <tr style=\"text-align: right;\">\n",
       "      <th></th>\n",
       "      <th>sentence</th>\n",
       "      <th>similarity</th>\n",
       "    </tr>\n",
       "  </thead>\n",
       "  <tbody>\n",
       "    <tr>\n",
       "      <th>0</th>\n",
       "      <td>(﻿,  , emory, university, and, st, .)</td>\n",
       "      <td>0.485246</td>\n",
       "    </tr>\n",
       "    <tr>\n",
       "      <th>1</th>\n",
       "      <td>(scheduled, delivery, :,           , today, ’s...</td>\n",
       "      <td>0.625582</td>\n",
       "    </tr>\n",
       "    <tr>\n",
       "      <th>2</th>\n",
       "      <td>(irb, number, :, 2013, -, 0156, irb, approved,...</td>\n",
       "      <td>0.725229</td>\n",
       "    </tr>\n",
       "    <tr>\n",
       "      <th>3</th>\n",
       "      <td>(﻿consent, to, be, part, of, a, research, stud...</td>\n",
       "      <td>0.881840</td>\n",
       "    </tr>\n",
       "    <tr>\n",
       "      <th>4</th>\n",
       "      <td>(college, of, dentistry, consent, for, complet...</td>\n",
       "      <td>0.847961</td>\n",
       "    </tr>\n",
       "  </tbody>\n",
       "</table>\n",
       "</div>"
      ],
      "text/plain": [
       "                                            sentence  similarity\n",
       "0              (﻿,  , emory, university, and, st, .)    0.485246\n",
       "1  (scheduled, delivery, :,           , today, ’s...    0.625582\n",
       "2  (irb, number, :, 2013, -, 0156, irb, approved,...    0.725229\n",
       "3  (﻿consent, to, be, part, of, a, research, stud...    0.881840\n",
       "4  (college, of, dentistry, consent, for, complet...    0.847961"
      ]
     },
     "execution_count": 24,
     "metadata": {},
     "output_type": "execute_result"
    }
   ],
   "source": [
    "# reduce dataframe, aggregate by mean sim score (weak sents will balance out)\n",
    "sf = sf.drop(columns=['permission'])\n",
    "sf = sf.groupby(['sentence'], as_index=False).mean()\n",
    "\n",
    "sf.head()"
   ]
  },
  {
   "cell_type": "code",
   "execution_count": 25,
   "metadata": {},
   "outputs": [
    {
     "data": {
      "text/plain": [
       "<matplotlib.axes._subplots.AxesSubplot at 0x1c0126d68>"
      ]
     },
     "execution_count": 25,
     "metadata": {},
     "output_type": "execute_result"
    },
    {
     "data": {
      "image/png": "[encoded data removed]",
      "text/plain": [
       "<Figure size 432x288 with 1 Axes>"
      ]
     },
     "metadata": {
      "needs_background": "light"
     },
     "output_type": "display_data"
    }
   ],
   "source": [
    "sf['similarity'].hist()"
   ]
  },
  {
   "cell_type": "code",
   "execution_count": 26,
   "metadata": {},
   "outputs": [],
   "source": [
    "high_sim = sf[sf.similarity > .7]\n",
    "candidates = high_sim['sentence'].to_list()"
   ]
  },
  {
   "cell_type": "code",
   "execution_count": 27,
   "metadata": {},
   "outputs": [
    {
     "name": "stdout",
     "output_type": "stream",
     "text": [
      "total rough draft candidates:  3908\n",
      "unique rough draft candidates:  3908\n"
     ]
    }
   ],
   "source": [
    "print('total rough draft candidates: ', len(candidates))\n",
    "print('unique rough draft candidates: ', len(list(set(candidates))))"
   ]
  },
  {
   "cell_type": "code",
   "execution_count": 28,
   "metadata": {},
   "outputs": [
    {
     "name": "stdout",
     "output_type": "stream",
     "text": [
      "sent:  irb number: 2013-0156 irb approved:  04/30/2013 research consent / authorization form  project # 2013-0156  study title: geisinger emerge pgx (pharmacogenomics) project   principal investigator: david j. carey, phd   for additional information, questions or problems contact:   \n",
      "\n",
      "sent:  ﻿consent to be part of a research study to be conducted at  select appropriate study sites university of texas health science center at san antonio, university health system (uhs), texas biomedical research institute, southwest research institute, christus santa rosa health care  information about this form enrolling children or incompetent adults insert this paragraph only for studies enrolling children or incompetent adults if you are providing consent for someone else, for example your child, your next-of-kin or someone for whom you are the legal guardian or are designated as a surrogate decision maker on a medical power of attorney, please note that in the sections that follow the word \"you\" refers to the person you are providing consent for.    \n",
      "\n",
      "sent:  college of dentistry consent for complete dentures time frame i understand that at least 6-8 appointments will be required to fabricate my dentures, starting with the first appointment to make diagnostic casts. \n",
      "\n",
      "sent:  ﻿sample short form written consent document  for subjects who do not speak english this document must be written in a language understandable to the subject   consent to participate in research   you are being asked to participate in a research study. \n",
      "\n",
      "sent:  child - photo or video release consent form to whom it may concern \n",
      "\n"
     ]
    },
    {
     "data": {
      "text/plain": [
       "[None, None, None, None, None]"
      ]
     },
     "execution_count": 28,
     "metadata": {},
     "output_type": "execute_result"
    }
   ],
   "source": [
    "[print('sent: ', x, '\\n') for x in candidates[:5]]"
   ]
  },
  {
   "cell_type": "code",
   "execution_count": 29,
   "metadata": {},
   "outputs": [],
   "source": [
    "rough_draft_permissions = all_permissions + candidates"
   ]
  },
  {
   "cell_type": "code",
   "execution_count": 30,
   "metadata": {},
   "outputs": [
    {
     "name": "stdout",
     "output_type": "stream",
     "text": [
      "total rough draft candidates:  5115\n",
      "unique rough draft candidates:  3990\n"
     ]
    }
   ],
   "source": [
    "print('total rough draft candidates: ', len(rough_draft_permissions))\n",
    "print('unique rough draft candidates: ', len(list(set(rough_draft_permissions))))"
   ]
  },
  {
   "cell_type": "code",
   "execution_count": 31,
   "metadata": {},
   "outputs": [],
   "source": [
    "rough_draft_permissions = list(set(rough_draft_permissions))"
   ]
  },
  {
   "cell_type": "markdown",
   "metadata": {},
   "source": [
    "## print statements to file"
   ]
  },
  {
   "cell_type": "code",
   "execution_count": 32,
   "metadata": {},
   "outputs": [],
   "source": [
    "# import csv\n",
    "# import datetime\n",
    "# today = str(datetime.date.today())\n",
    "\n",
    "# file_path = 'statements-'+today+'.csv'\n",
    "# print(file_path)\n",
    "\n",
    "# with open(file_path, 'a') as outcsv:   \n",
    "#     #configure writer to write standard csv file\n",
    "#     writer = csv.writer(outcsv, delimiter=',', quoting=csv.QUOTE_MINIMAL, lineterminator='\\n')\n",
    "#     writer.writerow(['raw_text', 'clean_text'])\n",
    "#     for perm in rough_draft_permissions:\n",
    "#         #Write item to outcsv\n",
    "#         raw_text = perm.text\n",
    "#         clean_text = re.sub('\\s+', ' ', re.sub('\\W+',' ',\\\n",
    "#                                re.sub('[^A-Za-z0-9]+',' ', \\\n",
    "#                                       re.sub(r'\\d+', \" \", raw_text)))).strip()\n",
    "#         writer.writerow([raw_text, clean_text])"
   ]
  },
  {
   "cell_type": "markdown",
   "metadata": {},
   "source": [
    "# Annotations?\n",
    "\n",
    "This is the point where injecting further information via annotations may be a good idea. This then would require in import of another local file and a small methods section."
   ]
  },
  {
   "cell_type": "markdown",
   "metadata": {},
   "source": [
    "## matrix representations\n",
    "\n",
    "a few different matrix representations of the permissions sentence"
   ]
  },
  {
   "cell_type": "code",
   "execution_count": 33,
   "metadata": {},
   "outputs": [
    {
     "name": "stdout",
     "output_type": "stream",
     "text": [
      "difficulties and problems with wearing dentures the difficulties and problems associated with wearing dentures have been presented to me along with my treatment plan \n",
      "\n",
      "confidentiality how will your records be kept confidential \n",
      "\n",
      "all injections can cause pain in the muscle redness or swelling \n",
      "\n",
      "they will follow how the study is done and they will be reviewing your information for this purpose \n",
      "\n",
      "natural self induction at home can often take greater than hours to establish active labor \n",
      "\n",
      "gene transfer if your protocol uses mri insert the following mri paragraphs as applicable \n",
      "\n",
      "there are no study visits or blood draws involved in this study \n",
      "\n",
      "in addition the majority of women who were gbs positive did not receive antibiotic prophylaxis therefore this study does not provide guidance \n",
      "\n",
      "child s signature or initials date principal investigator or person obtaining assent consent \n",
      "\n",
      "for example over time stored samples may be used up or decrease in quality so we may contact you to ask for more samples \n",
      "\n"
     ]
    },
    {
     "data": {
      "text/plain": [
       "[None, None, None, None, None, None, None, None, None, None]"
      ]
     },
     "execution_count": 33,
     "metadata": {},
     "output_type": "execute_result"
    }
   ],
   "source": [
    "def cleanPermissions(rough_draft_permissions):\n",
    "    \"string cleaning on permissions for td-idf ingestion\"\n",
    "    corpus = []\n",
    "    \n",
    "    \n",
    "    for permission in rough_draft_permissions:\n",
    "        cleanSentence = []\n",
    "        for word in permission.text.split():\n",
    "            word = re.sub(\"[^a-zA-Z]+\", \" \", word).strip().lower()\n",
    "            if not word == \"\":\n",
    "                cleanSentence.append(word)\n",
    "        corpus.append(\" \".join(cleanSentence))\n",
    "    return corpus\n",
    "            \n",
    "corpus = cleanPermissions(rough_draft_permissions)\n",
    "\n",
    "[print(x, '\\n') for x in corpus[:10]]"
   ]
  },
  {
   "cell_type": "markdown",
   "metadata": {},
   "source": [
    "## NOTE: \n",
    "`minTermFrequencyThreshold = 0` will result in all possible n_grams and will not scale as input size or ngramSize increases. However, it is the most robust representation of the sentence, and is worth exploring for the time being..."
   ]
  },
  {
   "cell_type": "code",
   "execution_count": 34,
   "metadata": {},
   "outputs": [
    {
     "name": "stdout",
     "output_type": "stream",
     "text": [
      "\n",
      "Number of terms: 10207\n"
     ]
    }
   ],
   "source": [
    "ngramSize = 5\n",
    "maxTermFrequencyThreshold = .8\n",
    "minTermFrequencyThreshold = .001\n",
    "\n",
    "def getTDIDFMatrix(corpus, ngram_range, max_df, min_df):\n",
    "    \"\"\" return td-idf matrix and terms \"\"\"\n",
    "    \n",
    "    tfidf_vectorizer = TfidfVectorizer(use_idf=True, \n",
    "                                       ngram_range=(1,ngram_range),\n",
    "                                       max_df=max_df,min_df=min_df)\n",
    "    \n",
    "    tfidf_matrix = tfidf_vectorizer.fit_transform(corpus)\n",
    "    terms = tfidf_vectorizer.get_feature_names()\n",
    "    \n",
    "    return tfidf_matrix, terms\n",
    "\n",
    "# save to a variable \n",
    "tdidf_matrix, tdidf_terms = getTDIDFMatrix(corpus, \n",
    "                                           ngramSize, \n",
    "                                           maxTermFrequencyThreshold,\n",
    "                                           minTermFrequencyThreshold)\n",
    "\n",
    "# # print tests\n",
    "# print('\\nfirst few terms:')\n",
    "# [print(\" \", x) for x in tdidf_terms[:10]]\n",
    "\n",
    "print('\\nNumber of terms:', len(tdidf_terms))"
   ]
  },
  {
   "cell_type": "code",
   "execution_count": 35,
   "metadata": {},
   "outputs": [
    {
     "data": {
      "text/html": [
       "<div>\n",
       "<style scoped>\n",
       "    .dataframe tbody tr th:only-of-type {\n",
       "        vertical-align: middle;\n",
       "    }\n",
       "\n",
       "    .dataframe tbody tr th {\n",
       "        vertical-align: top;\n",
       "    }\n",
       "\n",
       "    .dataframe thead th {\n",
       "        text-align: right;\n",
       "    }\n",
       "</style>\n",
       "<table border=\"1\" class=\"dataframe\">\n",
       "  <thead>\n",
       "    <tr style=\"text-align: right;\">\n",
       "      <th></th>\n",
       "      <th>ability</th>\n",
       "      <th>ability to</th>\n",
       "      <th>able</th>\n",
       "      <th>able to</th>\n",
       "      <th>able to access</th>\n",
       "      <th>able to use</th>\n",
       "      <th>about</th>\n",
       "      <th>about any</th>\n",
       "      <th>about future</th>\n",
       "      <th>about how</th>\n",
       "      <th>...</th>\n",
       "      <th>your study doctor</th>\n",
       "      <th>your time</th>\n",
       "      <th>your tissues</th>\n",
       "      <th>your treatment</th>\n",
       "      <th>your treatment if</th>\n",
       "      <th>your treatment if you</th>\n",
       "      <th>your treatment if you get</th>\n",
       "      <th>your willingness</th>\n",
       "      <th>your willingness to</th>\n",
       "      <th>yourself</th>\n",
       "    </tr>\n",
       "  </thead>\n",
       "  <tbody>\n",
       "    <tr>\n",
       "      <th>0</th>\n",
       "      <td>NaN</td>\n",
       "      <td>NaN</td>\n",
       "      <td>NaN</td>\n",
       "      <td>NaN</td>\n",
       "      <td>NaN</td>\n",
       "      <td>NaN</td>\n",
       "      <td>NaN</td>\n",
       "      <td>NaN</td>\n",
       "      <td>NaN</td>\n",
       "      <td>NaN</td>\n",
       "      <td>...</td>\n",
       "      <td>NaN</td>\n",
       "      <td>NaN</td>\n",
       "      <td>NaN</td>\n",
       "      <td>NaN</td>\n",
       "      <td>NaN</td>\n",
       "      <td>NaN</td>\n",
       "      <td>NaN</td>\n",
       "      <td>NaN</td>\n",
       "      <td>NaN</td>\n",
       "      <td>NaN</td>\n",
       "    </tr>\n",
       "    <tr>\n",
       "      <th>1</th>\n",
       "      <td>NaN</td>\n",
       "      <td>NaN</td>\n",
       "      <td>NaN</td>\n",
       "      <td>NaN</td>\n",
       "      <td>NaN</td>\n",
       "      <td>NaN</td>\n",
       "      <td>NaN</td>\n",
       "      <td>NaN</td>\n",
       "      <td>NaN</td>\n",
       "      <td>NaN</td>\n",
       "      <td>...</td>\n",
       "      <td>NaN</td>\n",
       "      <td>NaN</td>\n",
       "      <td>NaN</td>\n",
       "      <td>NaN</td>\n",
       "      <td>NaN</td>\n",
       "      <td>NaN</td>\n",
       "      <td>NaN</td>\n",
       "      <td>NaN</td>\n",
       "      <td>NaN</td>\n",
       "      <td>NaN</td>\n",
       "    </tr>\n",
       "    <tr>\n",
       "      <th>2</th>\n",
       "      <td>NaN</td>\n",
       "      <td>NaN</td>\n",
       "      <td>NaN</td>\n",
       "      <td>NaN</td>\n",
       "      <td>NaN</td>\n",
       "      <td>NaN</td>\n",
       "      <td>NaN</td>\n",
       "      <td>NaN</td>\n",
       "      <td>NaN</td>\n",
       "      <td>NaN</td>\n",
       "      <td>...</td>\n",
       "      <td>NaN</td>\n",
       "      <td>NaN</td>\n",
       "      <td>NaN</td>\n",
       "      <td>NaN</td>\n",
       "      <td>NaN</td>\n",
       "      <td>NaN</td>\n",
       "      <td>NaN</td>\n",
       "      <td>NaN</td>\n",
       "      <td>NaN</td>\n",
       "      <td>NaN</td>\n",
       "    </tr>\n",
       "    <tr>\n",
       "      <th>3</th>\n",
       "      <td>NaN</td>\n",
       "      <td>NaN</td>\n",
       "      <td>NaN</td>\n",
       "      <td>NaN</td>\n",
       "      <td>NaN</td>\n",
       "      <td>NaN</td>\n",
       "      <td>NaN</td>\n",
       "      <td>NaN</td>\n",
       "      <td>NaN</td>\n",
       "      <td>NaN</td>\n",
       "      <td>...</td>\n",
       "      <td>NaN</td>\n",
       "      <td>NaN</td>\n",
       "      <td>NaN</td>\n",
       "      <td>NaN</td>\n",
       "      <td>NaN</td>\n",
       "      <td>NaN</td>\n",
       "      <td>NaN</td>\n",
       "      <td>NaN</td>\n",
       "      <td>NaN</td>\n",
       "      <td>NaN</td>\n",
       "    </tr>\n",
       "    <tr>\n",
       "      <th>4</th>\n",
       "      <td>NaN</td>\n",
       "      <td>NaN</td>\n",
       "      <td>NaN</td>\n",
       "      <td>NaN</td>\n",
       "      <td>NaN</td>\n",
       "      <td>NaN</td>\n",
       "      <td>NaN</td>\n",
       "      <td>NaN</td>\n",
       "      <td>NaN</td>\n",
       "      <td>NaN</td>\n",
       "      <td>...</td>\n",
       "      <td>NaN</td>\n",
       "      <td>NaN</td>\n",
       "      <td>NaN</td>\n",
       "      <td>NaN</td>\n",
       "      <td>NaN</td>\n",
       "      <td>NaN</td>\n",
       "      <td>NaN</td>\n",
       "      <td>NaN</td>\n",
       "      <td>NaN</td>\n",
       "      <td>NaN</td>\n",
       "    </tr>\n",
       "  </tbody>\n",
       "</table>\n",
       "<p>5 rows × 10207 columns</p>\n",
       "</div>"
      ],
      "text/plain": [
       "   ability  ability to  able  able to  able to access  able to use  about  \\\n",
       "0      NaN         NaN   NaN      NaN             NaN          NaN    NaN   \n",
       "1      NaN         NaN   NaN      NaN             NaN          NaN    NaN   \n",
       "2      NaN         NaN   NaN      NaN             NaN          NaN    NaN   \n",
       "3      NaN         NaN   NaN      NaN             NaN          NaN    NaN   \n",
       "4      NaN         NaN   NaN      NaN             NaN          NaN    NaN   \n",
       "\n",
       "   about any  about future  about how  ...  your study doctor  your time  \\\n",
       "0        NaN           NaN        NaN  ...                NaN        NaN   \n",
       "1        NaN           NaN        NaN  ...                NaN        NaN   \n",
       "2        NaN           NaN        NaN  ...                NaN        NaN   \n",
       "3        NaN           NaN        NaN  ...                NaN        NaN   \n",
       "4        NaN           NaN        NaN  ...                NaN        NaN   \n",
       "\n",
       "   your tissues  your treatment  your treatment if  your treatment if you  \\\n",
       "0           NaN             NaN                NaN                    NaN   \n",
       "1           NaN             NaN                NaN                    NaN   \n",
       "2           NaN             NaN                NaN                    NaN   \n",
       "3           NaN             NaN                NaN                    NaN   \n",
       "4           NaN             NaN                NaN                    NaN   \n",
       "\n",
       "   your treatment if you get  your willingness  your willingness to  yourself  \n",
       "0                        NaN               NaN                  NaN       NaN  \n",
       "1                        NaN               NaN                  NaN       NaN  \n",
       "2                        NaN               NaN                  NaN       NaN  \n",
       "3                        NaN               NaN                  NaN       NaN  \n",
       "4                        NaN               NaN                  NaN       NaN  \n",
       "\n",
       "[5 rows x 10207 columns]"
      ]
     },
     "execution_count": 35,
     "metadata": {},
     "output_type": "execute_result"
    }
   ],
   "source": [
    "sdf = pd.SparseDataFrame(tdidf_matrix, columns=tdidf_terms)\n",
    "\n",
    "# here we add the sentences back in\n",
    "sdf['sent'] = corpus\n",
    "\n",
    "sdf.head()"
   ]
  },
  {
   "cell_type": "code",
   "execution_count": 36,
   "metadata": {},
   "outputs": [],
   "source": [
    "permission_vectors = []\n",
    "\n",
    "for perm in rough_draft_permissions:\n",
    "#     print(perm.to_array([LOWER, POS, ENT_TYPE, IS_ALPHA])) # same features, different rows\n",
    "#     print(perm.vector) # same shape\n",
    "#     print(perm.vector_norm) # single value\n",
    "#     print(perm.get_lca_matrix()) # differnt shapes\n",
    "    permission_vectors.append(perm.vector)"
   ]
  },
  {
   "cell_type": "code",
   "execution_count": null,
   "metadata": {},
   "outputs": [],
   "source": []
  },
  {
   "cell_type": "code",
   "execution_count": null,
   "metadata": {},
   "outputs": [],
   "source": []
  },
  {
   "cell_type": "code",
   "execution_count": null,
   "metadata": {},
   "outputs": [],
   "source": []
  }
 ],
 "metadata": {
  "kernelspec": {
   "display_name": "Python 3",
   "language": "python",
   "name": "python3"
  },
  "language_info": {
   "codemirror_mode": {
    "name": "ipython",
    "version": 3
   },
   "file_extension": ".py",
   "mimetype": "text/x-python",
   "name": "python",
   "nbconvert_exporter": "python",
   "pygments_lexer": "ipython3",
   "version": "3.7.0"
  }
 },
 "nbformat": 4,
 "nbformat_minor": 2
}
