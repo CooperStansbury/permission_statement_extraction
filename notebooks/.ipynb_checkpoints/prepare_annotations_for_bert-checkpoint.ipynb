{
 "cells": [
  {
   "cell_type": "markdown",
   "metadata": {},
   "source": [
    "# Introduction\n",
    "The goal is to format DataTurk annotations into something that BERT can run with."
   ]
  },
  {
   "cell_type": "code",
   "execution_count": 1,
   "metadata": {},
   "outputs": [],
   "source": [
    "import json\n",
    "from pprint import pprint\n",
    "import os\n",
    "import re\n",
    "import pandas as pd\n",
    "from sklearn.model_selection import train_test_split\n",
    "\n",
    "# custom data loading functions\n",
    "import load_data\n",
    "import clean_data"
   ]
  },
  {
   "cell_type": "code",
   "execution_count": 6,
   "metadata": {},
   "outputs": [],
   "source": [
    "# dirty spaCy error workaround:\n",
    "get_ipython().config.get('IPKernelApp', {})['parent_appname'] = \"\""
   ]
  },
  {
   "cell_type": "code",
   "execution_count": 8,
   "metadata": {},
   "outputs": [],
   "source": [
    "test = '../data/data_turk/dummy_data.json'"
   ]
  },
  {
   "cell_type": "code",
   "execution_count": 9,
   "metadata": {},
   "outputs": [
    {
     "data": {
      "text/html": [
       "<div>\n",
       "<style scoped>\n",
       "    .dataframe tbody tr th:only-of-type {\n",
       "        vertical-align: middle;\n",
       "    }\n",
       "\n",
       "    .dataframe tbody tr th {\n",
       "        vertical-align: top;\n",
       "    }\n",
       "\n",
       "    .dataframe thead th {\n",
       "        text-align: right;\n",
       "    }\n",
       "</style>\n",
       "<table border=\"1\" class=\"dataframe\">\n",
       "  <thead>\n",
       "    <tr style=\"text-align: right;\">\n",
       "      <th></th>\n",
       "      <th>annotation</th>\n",
       "      <th>fileID</th>\n",
       "      <th>text</th>\n",
       "    </tr>\n",
       "  </thead>\n",
       "  <tbody>\n",
       "    <tr>\n",
       "      <th>0</th>\n",
       "      <td>NON_permission_statement.</td>\n",
       "      <td>370</td>\n",
       "      <td>/ my child has already had dtpa vaccination i ...</td>\n",
       "    </tr>\n",
       "    <tr>\n",
       "      <th>1</th>\n",
       "      <td>NON_permission_statement.</td>\n",
       "      <td>490</td>\n",
       "      <td>all you have to do is tell us you want to stop.</td>\n",
       "    </tr>\n",
       "    <tr>\n",
       "      <th>2</th>\n",
       "      <td>NON_permission_statement.</td>\n",
       "      <td>490</td>\n",
       "      <td>tufts medical center tufts university departme...</td>\n",
       "    </tr>\n",
       "    <tr>\n",
       "      <th>3</th>\n",
       "      <td>permission_statement</td>\n",
       "      <td>387</td>\n",
       "      <td>\"if you agree to being audiotaped but feel unc...</td>\n",
       "    </tr>\n",
       "    <tr>\n",
       "      <th>4</th>\n",
       "      <td>NON_permission_statement.</td>\n",
       "      <td>387</td>\n",
       "      <td>you will be given a copy of this form to keep ...</td>\n",
       "    </tr>\n",
       "  </tbody>\n",
       "</table>\n",
       "</div>"
      ],
      "text/plain": [
       "                  annotation fileID  \\\n",
       "0  NON_permission_statement.    370   \n",
       "1  NON_permission_statement.    490   \n",
       "2  NON_permission_statement.    490   \n",
       "3       permission_statement    387   \n",
       "4  NON_permission_statement.    387   \n",
       "\n",
       "                                                text  \n",
       "0  / my child has already had dtpa vaccination i ...  \n",
       "1    all you have to do is tell us you want to stop.  \n",
       "2  tufts medical center tufts university departme...  \n",
       "3  \"if you agree to being audiotaped but feel unc...  \n",
       "4  you will be given a copy of this form to keep ...  "
      ]
     },
     "execution_count": 9,
     "metadata": {},
     "output_type": "execute_result"
    }
   ],
   "source": [
    "df = load_data.getJSONData(test)\n",
    "df.head()"
   ]
  },
  {
   "cell_type": "code",
   "execution_count": 10,
   "metadata": {},
   "outputs": [],
   "source": [
    "to  = 'label'\n",
    "field = 'annotation'\n",
    "\n",
    "df[to] = df.apply(lambda row:clean_data.convertAnnotationtoBinary(row,field), axis =1) "
   ]
  },
  {
   "cell_type": "code",
   "execution_count": 11,
   "metadata": {},
   "outputs": [
    {
     "data": {
      "text/html": [
       "<div>\n",
       "<style scoped>\n",
       "    .dataframe tbody tr th:only-of-type {\n",
       "        vertical-align: middle;\n",
       "    }\n",
       "\n",
       "    .dataframe tbody tr th {\n",
       "        vertical-align: top;\n",
       "    }\n",
       "\n",
       "    .dataframe thead th {\n",
       "        text-align: right;\n",
       "    }\n",
       "</style>\n",
       "<table border=\"1\" class=\"dataframe\">\n",
       "  <thead>\n",
       "    <tr style=\"text-align: right;\">\n",
       "      <th></th>\n",
       "      <th>annotation</th>\n",
       "      <th>fileID</th>\n",
       "      <th>text</th>\n",
       "      <th>label</th>\n",
       "    </tr>\n",
       "  </thead>\n",
       "  <tbody>\n",
       "    <tr>\n",
       "      <th>0</th>\n",
       "      <td>NON_permission_statement.</td>\n",
       "      <td>370</td>\n",
       "      <td>/ my child has already had dtpa vaccination i ...</td>\n",
       "      <td>0</td>\n",
       "    </tr>\n",
       "    <tr>\n",
       "      <th>1</th>\n",
       "      <td>NON_permission_statement.</td>\n",
       "      <td>490</td>\n",
       "      <td>all you have to do is tell us you want to stop.</td>\n",
       "      <td>0</td>\n",
       "    </tr>\n",
       "    <tr>\n",
       "      <th>2</th>\n",
       "      <td>NON_permission_statement.</td>\n",
       "      <td>490</td>\n",
       "      <td>tufts medical center tufts university departme...</td>\n",
       "      <td>0</td>\n",
       "    </tr>\n",
       "    <tr>\n",
       "      <th>3</th>\n",
       "      <td>permission_statement</td>\n",
       "      <td>387</td>\n",
       "      <td>\"if you agree to being audiotaped but feel unc...</td>\n",
       "      <td>1</td>\n",
       "    </tr>\n",
       "    <tr>\n",
       "      <th>4</th>\n",
       "      <td>NON_permission_statement.</td>\n",
       "      <td>387</td>\n",
       "      <td>you will be given a copy of this form to keep ...</td>\n",
       "      <td>0</td>\n",
       "    </tr>\n",
       "  </tbody>\n",
       "</table>\n",
       "</div>"
      ],
      "text/plain": [
       "                  annotation fileID  \\\n",
       "0  NON_permission_statement.    370   \n",
       "1  NON_permission_statement.    490   \n",
       "2  NON_permission_statement.    490   \n",
       "3       permission_statement    387   \n",
       "4  NON_permission_statement.    387   \n",
       "\n",
       "                                                text  label  \n",
       "0  / my child has already had dtpa vaccination i ...      0  \n",
       "1    all you have to do is tell us you want to stop.      0  \n",
       "2  tufts medical center tufts university departme...      0  \n",
       "3  \"if you agree to being audiotaped but feel unc...      1  \n",
       "4  you will be given a copy of this form to keep ...      0  "
      ]
     },
     "execution_count": 11,
     "metadata": {},
     "output_type": "execute_result"
    }
   ],
   "source": [
    "df.head()"
   ]
  },
  {
   "cell_type": "code",
   "execution_count": 13,
   "metadata": {},
   "outputs": [
    {
     "data": {
      "text/html": [
       "<div>\n",
       "<style scoped>\n",
       "    .dataframe tbody tr th:only-of-type {\n",
       "        vertical-align: middle;\n",
       "    }\n",
       "\n",
       "    .dataframe tbody tr th {\n",
       "        vertical-align: top;\n",
       "    }\n",
       "\n",
       "    .dataframe thead th {\n",
       "        text-align: right;\n",
       "    }\n",
       "</style>\n",
       "<table border=\"1\" class=\"dataframe\">\n",
       "  <thead>\n",
       "    <tr style=\"text-align: right;\">\n",
       "      <th></th>\n",
       "      <th>annotation</th>\n",
       "      <th>fileID</th>\n",
       "      <th>text</th>\n",
       "      <th>label</th>\n",
       "      <th>clean_text</th>\n",
       "    </tr>\n",
       "  </thead>\n",
       "  <tbody>\n",
       "    <tr>\n",
       "      <th>0</th>\n",
       "      <td>NON_permission_statement.</td>\n",
       "      <td>370</td>\n",
       "      <td>/ my child has already had dtpa vaccination i ...</td>\n",
       "      <td>0</td>\n",
       "      <td>my child has already had dtpa vaccination i do...</td>\n",
       "    </tr>\n",
       "    <tr>\n",
       "      <th>1</th>\n",
       "      <td>NON_permission_statement.</td>\n",
       "      <td>490</td>\n",
       "      <td>all you have to do is tell us you want to stop.</td>\n",
       "      <td>0</td>\n",
       "      <td>all you have to do is tell us you want to stop</td>\n",
       "    </tr>\n",
       "    <tr>\n",
       "      <th>2</th>\n",
       "      <td>NON_permission_statement.</td>\n",
       "      <td>490</td>\n",
       "      <td>tufts medical center tufts university departme...</td>\n",
       "      <td>0</td>\n",
       "      <td>tufts medical center tufts university departme...</td>\n",
       "    </tr>\n",
       "    <tr>\n",
       "      <th>3</th>\n",
       "      <td>permission_statement</td>\n",
       "      <td>387</td>\n",
       "      <td>\"if you agree to being audiotaped but feel unc...</td>\n",
       "      <td>1</td>\n",
       "      <td>if you agree to being audiotaped but feel unco...</td>\n",
       "    </tr>\n",
       "    <tr>\n",
       "      <th>4</th>\n",
       "      <td>NON_permission_statement.</td>\n",
       "      <td>387</td>\n",
       "      <td>you will be given a copy of this form to keep ...</td>\n",
       "      <td>0</td>\n",
       "      <td>you will be given a copy of this form to keep ...</td>\n",
       "    </tr>\n",
       "  </tbody>\n",
       "</table>\n",
       "</div>"
      ],
      "text/plain": [
       "                  annotation fileID  \\\n",
       "0  NON_permission_statement.    370   \n",
       "1  NON_permission_statement.    490   \n",
       "2  NON_permission_statement.    490   \n",
       "3       permission_statement    387   \n",
       "4  NON_permission_statement.    387   \n",
       "\n",
       "                                                text  label  \\\n",
       "0  / my child has already had dtpa vaccination i ...      0   \n",
       "1    all you have to do is tell us you want to stop.      0   \n",
       "2  tufts medical center tufts university departme...      0   \n",
       "3  \"if you agree to being audiotaped but feel unc...      1   \n",
       "4  you will be given a copy of this form to keep ...      0   \n",
       "\n",
       "                                          clean_text  \n",
       "0  my child has already had dtpa vaccination i do...  \n",
       "1     all you have to do is tell us you want to stop  \n",
       "2  tufts medical center tufts university departme...  \n",
       "3  if you agree to being audiotaped but feel unco...  \n",
       "4  you will be given a copy of this form to keep ...  "
      ]
     },
     "execution_count": 13,
     "metadata": {},
     "output_type": "execute_result"
    }
   ],
   "source": [
    "to  = 'clean_text'\n",
    "field = 'text'\n",
    "    \n",
    "df[to] = df.apply(lambda row:clean_data.cleanSents(row, field), axis=1)\n",
    "df.head()"
   ]
  },
  {
   "cell_type": "code",
   "execution_count": 14,
   "metadata": {},
   "outputs": [],
   "source": [
    "df['throw_away'] = 'a'"
   ]
  },
  {
   "cell_type": "code",
   "execution_count": 15,
   "metadata": {},
   "outputs": [
    {
     "data": {
      "text/html": [
       "<div>\n",
       "<style scoped>\n",
       "    .dataframe tbody tr th:only-of-type {\n",
       "        vertical-align: middle;\n",
       "    }\n",
       "\n",
       "    .dataframe tbody tr th {\n",
       "        vertical-align: top;\n",
       "    }\n",
       "\n",
       "    .dataframe thead th {\n",
       "        text-align: right;\n",
       "    }\n",
       "</style>\n",
       "<table border=\"1\" class=\"dataframe\">\n",
       "  <thead>\n",
       "    <tr style=\"text-align: right;\">\n",
       "      <th></th>\n",
       "      <th>annotation</th>\n",
       "      <th>fileID</th>\n",
       "      <th>text</th>\n",
       "      <th>label</th>\n",
       "      <th>clean_text</th>\n",
       "      <th>throw_away</th>\n",
       "    </tr>\n",
       "  </thead>\n",
       "  <tbody>\n",
       "    <tr>\n",
       "      <th>0</th>\n",
       "      <td>NON_permission_statement.</td>\n",
       "      <td>370</td>\n",
       "      <td>/ my child has already had dtpa vaccination i ...</td>\n",
       "      <td>0</td>\n",
       "      <td>my child has already had dtpa vaccination i do...</td>\n",
       "      <td>a</td>\n",
       "    </tr>\n",
       "    <tr>\n",
       "      <th>1</th>\n",
       "      <td>NON_permission_statement.</td>\n",
       "      <td>490</td>\n",
       "      <td>all you have to do is tell us you want to stop.</td>\n",
       "      <td>0</td>\n",
       "      <td>all you have to do is tell us you want to stop</td>\n",
       "      <td>a</td>\n",
       "    </tr>\n",
       "    <tr>\n",
       "      <th>2</th>\n",
       "      <td>NON_permission_statement.</td>\n",
       "      <td>490</td>\n",
       "      <td>tufts medical center tufts university departme...</td>\n",
       "      <td>0</td>\n",
       "      <td>tufts medical center tufts university departme...</td>\n",
       "      <td>a</td>\n",
       "    </tr>\n",
       "    <tr>\n",
       "      <th>3</th>\n",
       "      <td>permission_statement</td>\n",
       "      <td>387</td>\n",
       "      <td>\"if you agree to being audiotaped but feel unc...</td>\n",
       "      <td>1</td>\n",
       "      <td>if you agree to being audiotaped but feel unco...</td>\n",
       "      <td>a</td>\n",
       "    </tr>\n",
       "    <tr>\n",
       "      <th>4</th>\n",
       "      <td>NON_permission_statement.</td>\n",
       "      <td>387</td>\n",
       "      <td>you will be given a copy of this form to keep ...</td>\n",
       "      <td>0</td>\n",
       "      <td>you will be given a copy of this form to keep ...</td>\n",
       "      <td>a</td>\n",
       "    </tr>\n",
       "  </tbody>\n",
       "</table>\n",
       "</div>"
      ],
      "text/plain": [
       "                  annotation fileID  \\\n",
       "0  NON_permission_statement.    370   \n",
       "1  NON_permission_statement.    490   \n",
       "2  NON_permission_statement.    490   \n",
       "3       permission_statement    387   \n",
       "4  NON_permission_statement.    387   \n",
       "\n",
       "                                                text  label  \\\n",
       "0  / my child has already had dtpa vaccination i ...      0   \n",
       "1    all you have to do is tell us you want to stop.      0   \n",
       "2  tufts medical center tufts university departme...      0   \n",
       "3  \"if you agree to being audiotaped but feel unc...      1   \n",
       "4  you will be given a copy of this form to keep ...      0   \n",
       "\n",
       "                                          clean_text throw_away  \n",
       "0  my child has already had dtpa vaccination i do...          a  \n",
       "1     all you have to do is tell us you want to stop          a  \n",
       "2  tufts medical center tufts university departme...          a  \n",
       "3  if you agree to being audiotaped but feel unco...          a  \n",
       "4  you will be given a copy of this form to keep ...          a  "
      ]
     },
     "execution_count": 15,
     "metadata": {},
     "output_type": "execute_result"
    }
   ],
   "source": [
    "df.head()"
   ]
  },
  {
   "cell_type": "code",
   "execution_count": null,
   "metadata": {},
   "outputs": [],
   "source": [
    "cols = ['label', 'throw_away', 'clean_text'] \n",
    "df = df[cols]\n",
    "df.head()"
   ]
  },
  {
   "cell_type": "markdown",
   "metadata": {},
   "source": [
    "## Remove Old Files"
   ]
  },
  {
   "cell_type": "code",
   "execution_count": null,
   "metadata": {},
   "outputs": [],
   "source": [
    "os.remove('../data/bert_inputs/train.tsv')\n",
    "os.remove('../data/bert_inputs/dev.tsv')\n",
    "os.remove('../data/bert_inputs/test.tsv')"
   ]
  },
  {
   "cell_type": "markdown",
   "metadata": {},
   "source": [
    "### Define Train, Dev, and Test"
   ]
  },
  {
   "cell_type": "code",
   "execution_count": null,
   "metadata": {},
   "outputs": [],
   "source": [
    "train, dummy = train_test_split(df, test_size=0.2)\n",
    "dev, test = train_test_split(dummy, test_size=0.5)\n",
    "\n",
    "print('original: ', len(df))\n",
    "print('train: ', len(train))\n",
    "print('dev: ', len(dev))\n",
    "print('test: ', len(test))"
   ]
  },
  {
   "cell_type": "code",
   "execution_count": null,
   "metadata": {},
   "outputs": [],
   "source": [
    "train.insert(0, 'New_ID', range(0, 0 + len(train)))\n",
    "train.head()"
   ]
  },
  {
   "cell_type": "code",
   "execution_count": null,
   "metadata": {},
   "outputs": [],
   "source": [
    "train.to_csv('../data/bert_inputs/train.tsv', sep='\\t', index=False, header=False)"
   ]
  },
  {
   "cell_type": "code",
   "execution_count": null,
   "metadata": {},
   "outputs": [],
   "source": [
    "dev.insert(0, 'New_ID', range(0, 0 + len(dev)))\n",
    "dev.head()"
   ]
  },
  {
   "cell_type": "code",
   "execution_count": null,
   "metadata": {},
   "outputs": [],
   "source": [
    "dev.to_csv('../data/bert_inputs/dev.tsv', sep='\\t', index=False, header=False)"
   ]
  },
  {
   "cell_type": "code",
   "execution_count": null,
   "metadata": {},
   "outputs": [],
   "source": [
    "test.insert(0, 'New_ID', range(0, 0 + len(test)))\n",
    "test.head()"
   ]
  },
  {
   "cell_type": "code",
   "execution_count": null,
   "metadata": {},
   "outputs": [],
   "source": [
    "cols = ['New_ID', 'clean_text']\n",
    "test = test[cols]\n",
    "test.columns = ['id', 'sentence']\n",
    "test.head()"
   ]
  },
  {
   "cell_type": "code",
   "execution_count": null,
   "metadata": {},
   "outputs": [],
   "source": [
    "test.to_csv('../data/bert_inputs/test.tsv', sep='\\t', index=False, header=True)"
   ]
  },
  {
   "cell_type": "code",
   "execution_count": null,
   "metadata": {},
   "outputs": [],
   "source": []
  }
 ],
 "metadata": {
  "kernelspec": {
   "display_name": "Python 3",
   "language": "python",
   "name": "python3"
  },
  "language_info": {
   "codemirror_mode": {
    "name": "ipython",
    "version": 3
   },
   "file_extension": ".py",
   "mimetype": "text/x-python",
   "name": "python",
   "nbconvert_exporter": "python",
   "pygments_lexer": "ipython3",
   "version": "3.7.0"
  }
 },
 "nbformat": 4,
 "nbformat_minor": 2
}
