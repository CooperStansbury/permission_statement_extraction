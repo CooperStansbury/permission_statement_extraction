{
 "cells": [
  {
   "cell_type": "code",
   "execution_count": null,
   "metadata": {},
   "outputs": [],
   "source": []
  },
  {
   "cell_type": "code",
   "execution_count": 2,
   "metadata": {},
   "outputs": [
    {
     "ename": "NameError",
     "evalue": "name 'corpus' is not defined",
     "output_type": "error",
     "traceback": [
      "\u001b[0;31m---------------------------------------------------------------------------\u001b[0m",
      "\u001b[0;31mNameError\u001b[0m                                 Traceback (most recent call last)",
      "\u001b[0;32m<ipython-input-2-2a9d4e435919>\u001b[0m in \u001b[0;36m<module>\u001b[0;34m\u001b[0m\n\u001b[1;32m     24\u001b[0m \u001b[0;34m\u001b[0m\u001b[0m\n\u001b[1;32m     25\u001b[0m \u001b[0;31m# save to a variable\u001b[0m\u001b[0;34m\u001b[0m\u001b[0;34m\u001b[0m\u001b[0m\n\u001b[0;32m---> 26\u001b[0;31m tdidf_matrix, tdidf_terms = getTDIDFMatrix(corpus, \n\u001b[0m\u001b[1;32m     27\u001b[0m                                            \u001b[0mngramSize\u001b[0m\u001b[0;34m,\u001b[0m\u001b[0;34m\u001b[0m\u001b[0m\n\u001b[1;32m     28\u001b[0m                                            \u001b[0mmaxTermFrequencyThreshold\u001b[0m\u001b[0;34m,\u001b[0m\u001b[0;34m\u001b[0m\u001b[0m\n",
      "\u001b[0;31mNameError\u001b[0m: name 'corpus' is not defined"
     ]
    }
   ],
   "source": [
    "\"\"\"\n",
    "## NOTE: \n",
    "`minTermFrequencyThreshold = 0` will result in all \n",
    "possible n_grams and will not scale as input size or \n",
    "ngramSize increases. However, it is the most robust \n",
    "representation of the sentence, and is worth exploring for the time being...\n",
    "\"\"\"\n",
    "\n",
    "ngramSize = 5\n",
    "maxTermFrequencyThreshold = .8\n",
    "minTermFrequencyThreshold = .001\n",
    "\n",
    "def getTDIDFMatrix(corpus, ngram_range, max_df, min_df):\n",
    "    \"\"\" return td-idf matrix and terms \"\"\"\n",
    "    \n",
    "    tfidf_vectorizer = TfidfVectorizer(use_idf=True, \n",
    "                                       ngram_range=(1,ngram_range),\n",
    "                                       max_df=max_df,min_df=min_df)\n",
    "    \n",
    "    tfidf_matrix = tfidf_vectorizer.fit_transform(corpus)\n",
    "    terms = tfidf_vectorizer.get_feature_names()\n",
    "    \n",
    "    return tfidf_matrix, terms\n",
    "\n",
    "# save to a variable \n",
    "tdidf_matrix, tdidf_terms = getTDIDFMatrix(corpus, \n",
    "                                           ngramSize, \n",
    "                                           maxTermFrequencyThreshold,\n",
    "                                           minTermFrequencyThreshold)\n",
    "\n",
    "# # print tests\n",
    "# print('\\nfirst few terms:')\n",
    "# [print(\" \", x) for x in tdidf_terms[:10]]\n",
    "\n",
    "print('\\nNumber of terms:', len(tdidf_terms))"
   ]
  },
  {
   "cell_type": "code",
   "execution_count": null,
   "metadata": {},
   "outputs": [],
   "source": []
  }
 ],
 "metadata": {
  "kernelspec": {
   "display_name": "Python 3",
   "language": "python",
   "name": "python3"
  },
  "language_info": {
   "codemirror_mode": {
    "name": "ipython",
    "version": 3
   },
   "file_extension": ".py",
   "mimetype": "text/x-python",
   "name": "python",
   "nbconvert_exporter": "python",
   "pygments_lexer": "ipython3",
   "version": "3.7.0"
  }
 },
 "nbformat": 4,
 "nbformat_minor": 2
}
