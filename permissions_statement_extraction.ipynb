{
 "cells": [
  {
   "cell_type": "markdown",
   "metadata": {},
   "source": [
    "## Config"
   ]
  },
  {
   "cell_type": "code",
   "execution_count": 1,
   "metadata": {},
   "outputs": [
    {
     "name": "stdout",
     "output_type": "stream",
     "text": [
      "VERSION:  3.7.0\n"
     ]
    }
   ],
   "source": [
    "import os\n",
    "import re\n",
    "import pandas as pd\n",
    "import numpy as np\n",
    "from sklearn.feature_extraction.text import TfidfVectorizer\n",
    "from sklearn.metrics.pairwise import cosine_similarity\n",
    "import spacy\n",
    "from spacy.attrs import LOWER, POS, ENT_TYPE, IS_ALPHA\n",
    "from spacy.tokens import Doc\n",
    "from spacy.vocab import Vocab\n",
    "import nltk\n",
    "from nltk.corpus import wordnet\n",
    "from nltk.stem.wordnet import WordNetLemmatizer\n",
    "import random\n",
    "import itertools\n",
    "from itertools import chain\n",
    "\n",
    "from platform import python_version\n",
    "print(\"VERSION: \", python_version()) # expect 3.7.0\n",
    "\n",
    "# dirty spaCy error workaround:\n",
    "get_ipython().config.get('IPKernelApp', {})['parent_appname'] = \"\""
   ]
  },
  {
   "cell_type": "code",
   "execution_count": 2,
   "metadata": {},
   "outputs": [],
   "source": [
    "os_path = '/Users/milk/Desktop/git/'\n",
    "forms_dir = os_path + 'InformedConsentForms/data/all_forms'"
   ]
  },
  {
   "cell_type": "code",
   "execution_count": 3,
   "metadata": {},
   "outputs": [],
   "source": [
    "nlp = spacy.load('en')\n",
    "nlp_larg = spacy.load('en_core_web_lg')"
   ]
  },
  {
   "cell_type": "markdown",
   "metadata": {},
   "source": [
    "## Semantic Clues"
   ]
  },
  {
   "cell_type": "code",
   "execution_count": 4,
   "metadata": {},
   "outputs": [],
   "source": [
    "##  taken from: \n",
    "# “I found great synonyms for ‘permission’ on the new Thesaurus.com!,”\n",
    "# www.thesaurus.com. [Online]. Available: https://www.thesaurus.com/browse/permission. \n",
    "## [Accessed: 19-Feb-2019].\n",
    "\n",
    "permission_bases = [\"permission\", \n",
    "                    \"authorization\", \n",
    "                    \"authorize\",\n",
    "                    \"consent\",\n",
    "                    \"assent\",\n",
    "                    \"permit\",\n",
    "                    \"approve\",\n",
    "                    \"grant\",\n",
    "                    \"allow\",\n",
    "                    \"certify\"]"
   ]
  },
  {
   "cell_type": "markdown",
   "metadata": {},
   "source": [
    "## add synonyms"
   ]
  },
  {
   "cell_type": "code",
   "execution_count": 5,
   "metadata": {},
   "outputs": [
    {
     "name": "stdout",
     "output_type": "stream",
     "text": [
      "num elements: 51\n",
      "permission\n",
      "authorization\n",
      "authorize\n",
      "authorise\n",
      "pass\n",
      "empower\n",
      "clear\n",
      "consent\n",
      "go_for\n",
      "accept\n",
      "assent\n",
      "accede\n",
      "acquiesce\n",
      "permit\n",
      "let\n",
      "tolerate\n",
      "countenance\n",
      "allow\n",
      "approve\n",
      "sanction\n",
      "O.K.\n",
      "okay\n",
      "grant\n",
      "accord\n",
      "award\n",
      "deed_over\n",
      "give\n",
      "concede\n",
      "allot\n",
      "yield\n",
      "cede\n",
      "allow\n",
      "reserve\n",
      "give_up\n",
      "take_into_account\n",
      "provide\n",
      "admit\n",
      "appropriate\n",
      "leave\n",
      "allow_for\n",
      "set_aside\n",
      "earmark\n",
      "certify\n",
      "manifest\n",
      "attest\n",
      "licence\n",
      "indorse\n",
      "license\n",
      "endorse\n",
      "evidence\n",
      "demonstrate\n"
     ]
    },
    {
     "data": {
      "text/plain": [
       "[None,\n",
       " None,\n",
       " None,\n",
       " None,\n",
       " None,\n",
       " None,\n",
       " None,\n",
       " None,\n",
       " None,\n",
       " None,\n",
       " None,\n",
       " None,\n",
       " None,\n",
       " None,\n",
       " None,\n",
       " None,\n",
       " None,\n",
       " None,\n",
       " None,\n",
       " None,\n",
       " None,\n",
       " None,\n",
       " None,\n",
       " None,\n",
       " None,\n",
       " None,\n",
       " None,\n",
       " None,\n",
       " None,\n",
       " None,\n",
       " None,\n",
       " None,\n",
       " None,\n",
       " None,\n",
       " None,\n",
       " None,\n",
       " None,\n",
       " None,\n",
       " None,\n",
       " None,\n",
       " None,\n",
       " None,\n",
       " None,\n",
       " None,\n",
       " None,\n",
       " None,\n",
       " None,\n",
       " None,\n",
       " None,\n",
       " None,\n",
       " None]"
      ]
     },
     "execution_count": 5,
     "metadata": {},
     "output_type": "execute_result"
    }
   ],
   "source": [
    "def addWordNetSynsets(word_list):\n",
    "    \" add synsets to new list \"\n",
    "    updated_list = []\n",
    "    \n",
    "    for word in word_list:\n",
    "        updated_list.append(word)\n",
    "        synonyms = wordnet.synsets(word, 'v')\n",
    "        synonyms = set(chain.from_iterable([word.lemma_names() for word in synonyms]))\n",
    "        \n",
    "        [updated_list.append(x) for x in synonyms if x not in updated_list]\n",
    "        \n",
    "    return updated_list\n",
    "        \n",
    "permission_extended = addWordNetSynsets(permission_bases)\n",
    "print('num elements:', len(permission_extended))\n",
    "[print(x) for x in permission_extended]"
   ]
  },
  {
   "cell_type": "markdown",
   "metadata": {},
   "source": [
    "## build consent form data structure\n",
    "get dict and dataframe from each consent form on file\n",
    "\n",
    "#### todo: get metadata"
   ]
  },
  {
   "cell_type": "code",
   "execution_count": 6,
   "metadata": {},
   "outputs": [],
   "source": [
    "def getData(directory):\n",
    "    \"\"\" returns a dict with cleaned filenames, full paths,\n",
    "    and text data in multiple formats from a dictionary\n",
    "    of .txt files\"\"\"\n",
    "    \n",
    "    fileDictionary = {}\n",
    "    fileID = 0\n",
    "    \n",
    "    # iterate through directory\n",
    "    for subdir, dirs, files in os.walk(directory):\n",
    "        for file in files:\n",
    "            \n",
    "            fileID += 1\n",
    "            filepath = subdir + os.sep + file\n",
    "            \n",
    "            if filepath.endswith('.txt'):\n",
    "                wordList = [] # this will include duplicates and stop words\n",
    "                cleanedFileName = ''.join(e for e in file if e.isalnum())[:-3] \n",
    "                \n",
    "                # perform string operations on each file\n",
    "                with open(filepath, 'r') as myfile:\n",
    "                    data = myfile.read().replace('\\n', ' ')       \n",
    "                \n",
    "                fileDictionary[fileID] = {}\n",
    "                fileDictionary[fileID]['name'] = cleanedFileName\n",
    "                fileDictionary[fileID]['path'] = filepath\n",
    "                fileDictionary[fileID]['rawText'] = data\n",
    "    \n",
    "    return fileDictionary\n",
    "\n",
    "# run the function and store to variable \n",
    "consent_dictionary = getData(forms_dir)"
   ]
  },
  {
   "cell_type": "code",
   "execution_count": 7,
   "metadata": {},
   "outputs": [
    {
     "name": "stdout",
     "output_type": "stream",
     "text": [
      "name TAMUHRPPInformedconsent \n",
      "\n",
      "path /Users/milk/Desktop/git/InformedConsentForms/data/all_forms/TAMU - HRPP Informed consent.txt \n",
      "\n",
      "rawText ﻿NOT INTENDED FOR USE WITHOUT TAMU/BCD IRB APPROVAL  This document is a template for editing to delete highlighted and parenthetical sections.  Project Title:   You are invited to take part in a research study being conducted by Investigator Name, a researcher from Texas A&M University and funded by [name sponsor/funding source]. The information in this form is provided to help you decide whether or not to take part. If you decide to take part in the study, you will be asked to sign this consent form. If you decide you do not want to participate, there will be no penalty to you, and you will not lose any benefits you normally would have.  You may choose to withdraw from the study at any time without penalty.  NOTE:  If you are employed then it is your responsibility to work with your employer regarding work leave for participation in this study if during work hours.  Add Researcher contact here  Why Is This Study Being Done? The purpose of this study is to PURPOSE.  Why Am I Being Asked To Be In This Study?  You are being asked to be in this study because INCLUSION/EXCLUSION CRITERIA.  Add (Instead of listing all Inclusion/Exclusion Criteria): Before you can enroll in the study, and after you sign this form, your study doctor will perform certain tests and procedures and ask you to provide some information about your history to determine whether or not you can continue in the study.  Ask your study doctor for more information about what tests and procedures will be done.  How Many People Will Be Asked To Be In This Study? NUMBER people (participants) will be invited to participate in this study locally. Overall, a total of NUMBER people will be invited at NUMBER/multiple study centers if research is being conducted at multiple sites.  What Are the Alternatives to being in this study? If this is not a treatment study: The alternative to being in the study is not to participate. Another activity will be given if you choose not to participate.  For studies that give course credit: The alternative is to sign up for another study or to choose to complete another assignment as described in your syllabus.  If this is a treatment study: The following therapies for treatment of CONDITION are available: TREATMENTS. You should talk to your personal physician/dentist (or study doctor if appropriate) to discuss what would be right for you.  Provide information regarding distinction between therapy and research.  What Will I Be Asked To Do In This Study? You will be asked to [DESCRIBE TASK]. Your participation in this study will last up to LENGTH in hours/weeks/ months/years and includes NUMBER visits.  Example template: Visit 1 (Week NUMBER) This visit will last about LENGTH in minutes/hours. During this visit DESCRIBE PROCEDURES.  ________\tI give my permission for my xxx records to be accessed for use in this research study.  ________\tI do not give my permission for my xxx records to be accessed for use in this research study.  Add, if applicable the following statement: You may be removed from the study by the investigator for these reasons: * REASONS  Add, if applicable the following statement: If you leave the study early, you may be asked to complete the following activities: ACTIVITIES  Will Photos, Video or Audio Recordings Be Made Of Me during the Study?  If video/audio recordings or photographs will not be taken in the study, remove this section completely.  Language for Required recordings: The researchers will take photographs/make an audio and/or video recording during the study so that PURPOSE.  If you do not give permission for the photograph/audio/video recording to be obtained, you cannot participate in this study.  ________\tI give my permission for photographs/audio/video recordings to be made of me during my participation in this research study.  Language for Optional recordings: The researchers will take photographs/make an audio and/or video recording during the study so that PURPOSE only if you give your permission to do so.  Indicate your decision below by initialing in the space provided.  ________\tI give my permission for photographs/audio/video recordings to be made of me during my participation in this research study.  ________\tI do not give my permission for photographs/audio/video recordings to be made of me during my participation in this research study.    Are There Any Risks To Me? The things that you will be doing are no more/greater than risks than you would come across in everyday life. Describe risks, including physical, criminal, social, financial, economic, psychological risk as well as risks associated with breach of privacy or confidentiality.  Suggested wording if applicable: Although the researchers have tried to avoid risks, you may feel that some questions/procedures that are asked of you will be stressful or upsetting.  You do not have to answer anything you do not want to.  (If applicable, add) Information about individuals and/or organizations that may be able to help you with these problems will be given to you.  (If applicable, add) One of the aims of this clinical drug trial is to produce drug toxicity, which may cause pain and discomfort, and may pose medical risk.  If you are a healthy volunteer, no direct medical benefit will result as a consequence of participating in this study, and there may be additional, unforeseeable risks that generate adverse effects.  Any significant new findings will be shared with the participants to inform them of any increase to risk.   (If applicable, add) If you are or were to become pregnant, the particular treatment or study procedure might involve risks to the embryo or fetus, which are currently unknown.  Are There Any Benefits To Me? (*If there are no direct benefits, this section may be omitted) The direct benefit to you by being in this study is [Describe Benefits].  NOTE: Compensation is NOT a benefit.  Will There Be Any Costs To Me?  Aside from your time, there are some/no costs for taking part in the study.  NOTE: Information about payment to participants in human research is available in SAP21.01.99.MO.03  Will I Be Paid To Be In This Study? You will not be paid for being in this study OR You will receive Payment/Reimbursement/Participation Credit. Disbursement will occur [explain conditions of payment].  [Include circumstances, if any, where partial payment or no payment may occur]     Will I Have To Pay Anything If I Get Hurt In This Study? This section is only necessary for studies involving greater than minimal risk.  If the study is minimal risk then remove this section completely.  Discussion of compensation for research-related injury should be included here.  For industry-sponsored studies, this language must match the Clinical Trial Agreement. Please choose the statement that best applies.  1. When the study has no provision of treatment: If you suffer any injury as a result of taking part in this research study, please understand that nothing has been arranged to provide free treatment of the injury or any other type of payment. However, all needed facilities, emergency treatment and professional services will be available to you, just as they are to the community in general. You should report any injury to <insert PI name and phone number>. You will not give up any of your legal rights by signing this consent form.  2. When the study is sponsor initiated, and there is a provision of treatment (please note that this language is mandatory for pharmaceutical company sponsored protocols): If you suffer any injury as a result of taking part in this research study the sponsor of this study, <insert sponsor's name>, will pay for reasonable and necessary medical expenses if the injury is a direct result of taking the study medicine or undergoing study procedures, and not due to the natural course of any underlying disease or treatment process. You should report any such injury to <insert PI name and phone number>. You will not give up any of your legal rights by signing this consent form.  Side effects (injury) can happen in any research study. These effects may not be your fault or the fault of the researcher involved. Known side effects have been described in the \"Are there any risks to me?\" section of this consent form. However, side effects that are not currently known may happen and require care. You do not give up any of your legal rights by signing this form.   Will Information From This Study Be Kept Private? (if applicable) The records of this study will be kept private.  No identifiers linking you to this study will be included in any sort of report that might be published.  Research records will be stored securely and only [insert individuals or groups who will have access to this data] will have access to the records. (if applicable) Recordings will be transcribed in [insert when] by [the research team/a third party transcriptionist].  Video/Audio files will be destroyed [insert when].  (for FDA regulated studies) A description of this clinical trial will be available on http://www.ClinicalTrials.gov, as required by U.S. Law. This Web site will not include information that can identify you. At most, the Web site will include a summary of the results. You can search this Web site at any time.  (i.e. facially distorted photos, introral images, etc.)  If applicable, De-identified images may be used in publications or presentations.     Information about you will be stored in locked file cabinet; computer files protected with a password. This consent form will be filed securely in an official area.  People who have access to your information include the Principal Investigator and research study personnel.  Representatives of regulatory agencies such as the Office of Human Research Protections (OHRP) or (if FDA regulated) the Food and Drug Administration (FDA) and entities such as the Texas A&M University Human Research Protection Program may access your records to make sure the study is being run correctly and that information is collected properly.   (if applicable)The agency that funds this study (INSERT SPONSOR NAME) and the institution(s) where study procedures are being performed (INSERT SCHOOL, HOSPITAL, CLINIC, INSTITUTION) may also see your information. However, any information that is sent to them will be coded with a number so that they cannot tell who you are.  Representatives from these entities can see information that has your name on it if they come to the study site to view records.  If there are any reports about this study, your name will not be in them.    Information about you and related to this study will be kept confidential to the extent permitted or required by law.   (if applicable)Incidental Findings:  The tests in this study are for specific research and are not optimized to find medical/dental abnormalities.  The  investigators for this study may not be trained to perform medical/dental diagnosis.  However, the investigator may notice a finding that appears to be abnormal, which might be detected during the imaging or during retrospective review of the data.  When this occurs, a physician/dentist will be consulted as to whether the finding merits further investigation, in which case the investigator will contact you [and your primary care physician/dentist] and inform you of the finding.  The decision as to whether to proceed with further examination of treatment lies solely with you and your physician/dentist.  Who may I Contact for More Information? You may contact the Principal Investigator, name of Principal Investigator plus his/her degree, to tell him/her about a concern or complaint about this research at XXX-XXX-XXXX or email address. For student/resident research, add: You may also contact the Protocol Director, name of PD at XXX-XXX-XXXX or email address. For alternate contact (Co-I, coordinator, etc.), add: You may also contact the research role, name of Alternate Contact at XXX-XXX-XXXX or email address.  For questions about your rights as a research participant, to provide input regarding research, or if you have questions, complaints, or concerns about the research, you may call the Texas A&M University Human  Research Protection Program (HRPP) by phone at 1-979-458-4067, toll free at 1-855-795-8636, or by email at irb@tamu.edu. The informed consent form and all study materials should include the IRB number, approval date, and expiration date.  Please contact the HRPP if they do not.    What if I Change My Mind About Participating? Your participation in this research is voluntary, and you have the choice whether or not to be in this research study.  You may decide to not begin or to stop participating at any time.   If you choose not to be in this study or stop being in the study, there will be no effect on your academic standing as a student, medical care, employment, evaluation, relationship with Texas A&M University, etc. (If applicable, add) Any new information discovered about the research will be provided to you. This information could affect your willingness to continue your participation.  STATEMENT OF CONSENT I agree to be in this study and know that I am not giving up any legal rights by signing this form.  The procedures, risks, and benefits have been explained to me, and my questions have been answered.  I know that new information about this research study will be provided to me as it becomes available and that the researcher will tell me if I must be removed from the study.   I can ask more questions if I want, (if applicable) and I can still receive services if I stop participating in this study.   A copy of this entire consent form will be given to me.   ___________________________________\t\t____________________________________ Participant's Signature\t\t\t\tDate   ___________________________________\t____________________________________ Printed Name\tDate   INVESTIGATOR'S AFFIDAVIT: Either I have or my agent has carefully explained to the participant the nature of the above project. I hereby certify that to the best of my knowledge the person who signed this consent form was informed of the nature, demands, benefits, and risks involved in his/her participation.  ___________________________________\t____________________________________ Signature of Presenter\tDate  ___________________________________\t____________________________________ Printed Name\tDate   Required for FDA studies: Witness signature  OTHER TOPICS TO INCLUDE IN THE CONSENT DOCUMENT AS NEEDED 1. Data will be de-identified and disclosed 2. Data/samples may be used for additional analysis 3. Genome-style association study information 4. Contracts with Texas sponsors may include language indicating joint ownership of the data-this information should be included in the consent document 5. Use of photography may also require a media release 6. Certificates of Confidentiality require additional language 7. Newborn screening required additional language  TEXAS A&M UNIVERSITY HUMAN RESEARCH PROTECTION PROGRAM INFORMED CONSENT DOCUMENT  \tPage 1 of 1     \tParticipants Initials: ________  TEXAS A&M UNIVERSITY HUMAN SUBJECTS PROTECTION PROGRAM CONSENT FORM  Version Date:\tPage 1 of 5     \tSubject's Initials____   \n",
      "\n"
     ]
    },
    {
     "data": {
      "text/plain": [
       "[None, None, None]"
      ]
     },
     "execution_count": 7,
     "metadata": {},
     "output_type": "execute_result"
    }
   ],
   "source": [
    "#test print statement\n",
    "[print(k,v, '\\n') for k,v in consent_dictionary[1].items()]"
   ]
  },
  {
   "cell_type": "code",
   "execution_count": 8,
   "metadata": {},
   "outputs": [
    {
     "data": {
      "text/html": [
       "<div>\n",
       "<style scoped>\n",
       "    .dataframe tbody tr th:only-of-type {\n",
       "        vertical-align: middle;\n",
       "    }\n",
       "\n",
       "    .dataframe tbody tr th {\n",
       "        vertical-align: top;\n",
       "    }\n",
       "\n",
       "    .dataframe thead th {\n",
       "        text-align: right;\n",
       "    }\n",
       "</style>\n",
       "<table border=\"1\" class=\"dataframe\">\n",
       "  <thead>\n",
       "    <tr style=\"text-align: right;\">\n",
       "      <th></th>\n",
       "      <th>name</th>\n",
       "      <th>path</th>\n",
       "      <th>rawText</th>\n",
       "    </tr>\n",
       "  </thead>\n",
       "  <tbody>\n",
       "    <tr>\n",
       "      <th>0</th>\n",
       "      <td>TAMUHRPPInformedconsent</td>\n",
       "      <td>/Users/milk/Desktop/git/InformedConsentForms/d...</td>\n",
       "      <td>﻿NOT INTENDED FOR USE WITHOUT TAMU/BCD IRB APP...</td>\n",
       "    </tr>\n",
       "    <tr>\n",
       "      <th>1</th>\n",
       "      <td>PotomacPrimaryCarefluconsentform</td>\n",
       "      <td>/Users/milk/Desktop/git/InformedConsentForms/d...</td>\n",
       "      <td>PATIENT CONSENT FORM FOR SEASONAL INFLUENZA VA...</td>\n",
       "    </tr>\n",
       "    <tr>\n",
       "      <th>2</th>\n",
       "      <td>OSUScheduledDeliveryConsent</td>\n",
       "      <td>/Users/milk/Desktop/git/InformedConsentForms/d...</td>\n",
       "      <td>SCHEDULED DELIVERY:           Today’s Date: Da...</td>\n",
       "    </tr>\n",
       "  </tbody>\n",
       "</table>\n",
       "</div>"
      ],
      "text/plain": [
       "                               name  \\\n",
       "0           TAMUHRPPInformedconsent   \n",
       "1  PotomacPrimaryCarefluconsentform   \n",
       "2       OSUScheduledDeliveryConsent   \n",
       "\n",
       "                                                path  \\\n",
       "0  /Users/milk/Desktop/git/InformedConsentForms/d...   \n",
       "1  /Users/milk/Desktop/git/InformedConsentForms/d...   \n",
       "2  /Users/milk/Desktop/git/InformedConsentForms/d...   \n",
       "\n",
       "                                             rawText  \n",
       "0  ﻿NOT INTENDED FOR USE WITHOUT TAMU/BCD IRB APP...  \n",
       "1  PATIENT CONSENT FORM FOR SEASONAL INFLUENZA VA...  \n",
       "2  SCHEDULED DELIVERY:           Today’s Date: Da...  "
      ]
     },
     "execution_count": 8,
     "metadata": {},
     "output_type": "execute_result"
    }
   ],
   "source": [
    "def toDataFrame(fileDictionary):\n",
    "    \"\"\" return pandas dataframe\n",
    "    Note: expects input in nested dict format (output from getData)\"\"\"\n",
    "    new_rows = []\n",
    "\n",
    "    for key, value in fileDictionary.items():\n",
    "        new_rows.append(value)\n",
    "         \n",
    "    df = pd.DataFrame(new_rows)\n",
    "    return df\n",
    "\n",
    "df = toDataFrame(consent_dictionary)\n",
    "\n",
    "df.head(3)"
   ]
  },
  {
   "cell_type": "markdown",
   "metadata": {},
   "source": [
    "## Random sampling to speed up development\n",
    "This will be removed when we want to process the whole corpus"
   ]
  },
  {
   "cell_type": "code",
   "execution_count": 9,
   "metadata": {},
   "outputs": [],
   "source": [
    "# comment out to run on whole corpus\n",
    "n_samples = 50\n",
    "df = df.sample(n=n_samples)"
   ]
  },
  {
   "cell_type": "markdown",
   "metadata": {},
   "source": [
    "## add spacy object to dataframe\n",
    "\n",
    "#### WARNING: this takes a long time,"
   ]
  },
  {
   "cell_type": "code",
   "execution_count": 10,
   "metadata": {},
   "outputs": [],
   "source": [
    "def getDocObjects(row, field):\n",
    "    \" return spacy doc object\"\n",
    "#     # small nlp library\n",
    "#     doc = nlp(str(row[field]).lower())\n",
    "\n",
    "    # large library\n",
    "    doc = nlp_larg(str(row[field]).lower())\n",
    "    return doc\n",
    "\n",
    "df['docOB'] = df.apply(lambda row:getDocObjects(row, 'rawText'),axis=1)"
   ]
  },
  {
   "cell_type": "code",
   "execution_count": 11,
   "metadata": {},
   "outputs": [
    {
     "data": {
      "text/plain": [
       "593    (﻿version, :, 08/2013, case, western, reserve,...\n",
       "694    (﻿,  , protocol, title, :, principal, investig...\n",
       "366    (michaelzidile, ,, d.d.s, ., practice, limited...\n",
       "331    (release, of, liability, _, _, _, _, _, _, _, ...\n",
       "153    (﻿,  , emory, university, and, children, ’s, h...\n",
       "Name: docOB, dtype: object"
      ]
     },
     "execution_count": 11,
     "metadata": {},
     "output_type": "execute_result"
    }
   ],
   "source": [
    "df['docOB'].head()"
   ]
  },
  {
   "cell_type": "markdown",
   "metadata": {},
   "source": [
    "## extract sentences"
   ]
  },
  {
   "cell_type": "code",
   "execution_count": 12,
   "metadata": {},
   "outputs": [],
   "source": [
    "def getSentenceList(row, field):\n",
    "    \" return list of sents from doc object\"\n",
    "    sent_list = []\n",
    "    \n",
    "    # must operate on a spaCy doc object \n",
    "    for sent in row[field].sents:\n",
    "#         print(dir(sent))\n",
    "        sent_list.append(sent)\n",
    "    \n",
    "    return sent_list\n",
    "\n",
    "df['sentList'] = df.apply(lambda row:getSentenceList(row, 'docOB'),axis=1)"
   ]
  },
  {
   "cell_type": "code",
   "execution_count": 13,
   "metadata": {},
   "outputs": [
    {
     "data": {
      "text/html": [
       "<div>\n",
       "<style scoped>\n",
       "    .dataframe tbody tr th:only-of-type {\n",
       "        vertical-align: middle;\n",
       "    }\n",
       "\n",
       "    .dataframe tbody tr th {\n",
       "        vertical-align: top;\n",
       "    }\n",
       "\n",
       "    .dataframe thead th {\n",
       "        text-align: right;\n",
       "    }\n",
       "</style>\n",
       "<table border=\"1\" class=\"dataframe\">\n",
       "  <thead>\n",
       "    <tr style=\"text-align: right;\">\n",
       "      <th></th>\n",
       "      <th>name</th>\n",
       "      <th>path</th>\n",
       "      <th>rawText</th>\n",
       "      <th>docOB</th>\n",
       "      <th>sentList</th>\n",
       "      <th>cleanedText</th>\n",
       "    </tr>\n",
       "  </thead>\n",
       "  <tbody>\n",
       "    <tr>\n",
       "      <th>593</th>\n",
       "      <td>ExampleChildAssentFormforChildrenuptoAge8</td>\n",
       "      <td>/Users/milk/Desktop/git/InformedConsentForms/d...</td>\n",
       "      <td>﻿Version: 08/2013 CASE WESTERN RESERVE UNIVERS...</td>\n",
       "      <td>(﻿version, :, 08/2013, case, western, reserve,...</td>\n",
       "      <td>[(﻿version, :, 08/2013, case, western, reserve...</td>\n",
       "      <td>version case western reserve university inform...</td>\n",
       "    </tr>\n",
       "    <tr>\n",
       "      <th>694</th>\n",
       "      <td>CRCTemplateDec2013</td>\n",
       "      <td>/Users/milk/Desktop/git/InformedConsentForms/d...</td>\n",
       "      <td>﻿  Protocol Title: Principal Investigator: Des...</td>\n",
       "      <td>(﻿,  , protocol, title, :, principal, investig...</td>\n",
       "      <td>[(﻿,  ), (protocol, title, :, principal, inves...</td>\n",
       "      <td>protocol title principal investigator descript...</td>\n",
       "    </tr>\n",
       "  </tbody>\n",
       "</table>\n",
       "</div>"
      ],
      "text/plain": [
       "                                          name  \\\n",
       "593  ExampleChildAssentFormforChildrenuptoAge8   \n",
       "694                         CRCTemplateDec2013   \n",
       "\n",
       "                                                  path  \\\n",
       "593  /Users/milk/Desktop/git/InformedConsentForms/d...   \n",
       "694  /Users/milk/Desktop/git/InformedConsentForms/d...   \n",
       "\n",
       "                                               rawText  \\\n",
       "593  ﻿Version: 08/2013 CASE WESTERN RESERVE UNIVERS...   \n",
       "694  ﻿  Protocol Title: Principal Investigator: Des...   \n",
       "\n",
       "                                                 docOB  \\\n",
       "593  (﻿version, :, 08/2013, case, western, reserve,...   \n",
       "694  (﻿,  , protocol, title, :, principal, investig...   \n",
       "\n",
       "                                              sentList  \\\n",
       "593  [(﻿version, :, 08/2013, case, western, reserve...   \n",
       "694  [(﻿,  ), (protocol, title, :, principal, inves...   \n",
       "\n",
       "                                           cleanedText  \n",
       "593  version case western reserve university inform...  \n",
       "694  protocol title principal investigator descript...  "
      ]
     },
     "execution_count": 13,
     "metadata": {},
     "output_type": "execute_result"
    }
   ],
   "source": [
    "def getWordListasString(row):\n",
    "    \"\"\" return a list of words, including duplicates.\n",
    "    NOTE: light cleaning on ingestion \"\"\"\n",
    "    wordList = [] \n",
    "    \n",
    "    for word in row['rawText'].split():\n",
    "        word = re.sub(\"[^a-zA-Z]+\", \" \", word).strip().lower()\n",
    "        if not word == \"\":\n",
    "            wordList.append(word)\n",
    "            \n",
    "    return \" \".join(wordList)\n",
    "        \n",
    "df['cleanedText'] = df.apply(lambda row: getWordListasString(row),axis=1)\n",
    "\n",
    "df.head(2)"
   ]
  },
  {
   "cell_type": "markdown",
   "metadata": {},
   "source": [
    "## preliminary permisison sentence extraction\n",
    "look for sentences that have a word from the 'clues' list"
   ]
  },
  {
   "cell_type": "markdown",
   "metadata": {},
   "source": [
    "# NOTE: DO WE WANT SENTENCE PAIRS? THREE SENTENCES?\n",
    "\n",
    "If sentence contains contains multiple clues, it should only be added once."
   ]
  },
  {
   "cell_type": "code",
   "execution_count": 14,
   "metadata": {},
   "outputs": [],
   "source": [
    "def getPossiblePermissions(row, permissions_list):\n",
    "    \"\"\" return list of sentences containing the \n",
    "    permissions words \"\"\"\n",
    "    \n",
    "    sent_list = []\n",
    "    \n",
    "    for sent in row['sentList']:\n",
    "        [sent_list.append(sent) for clue in\\\n",
    "             permission_extended if sent.text.__contains__(clue)]\n",
    "                \n",
    "    return sent_list\n",
    "\n",
    "# here we only convert the first 10 rows to save time\n",
    "df['permissionsStatements'] = df.apply(lambda row:getPossiblePermissions(row, permission_extended),axis=1)"
   ]
  },
  {
   "cell_type": "code",
   "execution_count": 15,
   "metadata": {},
   "outputs": [
    {
     "name": "stdout",
     "output_type": "stream",
     "text": [
      "sent: ﻿version: 08/2013 case western reserve university informed assent document to be used with minors up to age 17 insert title of study   \n",
      "\n",
      "sent: ﻿version: 08/2013 case western reserve university informed assent document to be used with minors up to age 17 insert title of study   \n",
      "\n",
      "sent: protocol title: principal investigator: description of subject population: version date:  instructions:  this template is only part of the informed consent process.   \n",
      "\n",
      "sent: many sections of this document include brief instructions and wording suggestions in bold font to provide investigators with a general overview of information required in the section.   \n",
      "\n",
      "sent: practice limited to periodontics & implant dentistry  surgical placement of dental implants information and consent form diagnosis. \n",
      "\n",
      "sent: healing will be allowed to proceed for a period of three to nine months. \n",
      "\n",
      "sent: i have been advised to have the following radiographs (x-rays) taken as part of a complete and thorough exam, in order to assist in thoroughly diagnosing oral or dental diseases that may be present (some of which can be detected only with radiographs): \n",
      "\n",
      "sent: ﻿  emory university and children’s healthcare of atlanta consent to be a research subject and hipaa authorization   \n",
      "\n",
      "sent: ﻿  emory university and children’s healthcare of atlanta consent to be a research subject and hipaa authorization   \n",
      "\n",
      "sent: mri\t   patient\t   safety\t   screening\t   and\t   consent\t   form\t    \t    \t    procedure\t   date\t   _ \n",
      "\n",
      "sent: yes\t   \t   \t   no\t     5.\t   have\t   you\t   ever\t   been\t   injured\t   by\t   a\t   metallic\t   object\t   or\t   foreign\t   body\t   (e.g.,\t   bb,\t   bullet,\t   shrapnel,\t   etc.)?\t   \t    \t    \t    \t   \t   \t   \t   \t   \t     \n",
      "\n",
      "sent: partners healthcare system    research consent form  redcap:      biobank:    research tissue bank  subject identification  version date: february 2010      protocol title: biorepository of the institute for heart, vascular and stroke care in collaboration with the partners healthcare biobank (partners biobank)     \n",
      "\n",
      "sent: to perform this research, we are asking partners patients  to allow us to store their health information and biological samples in the partners biobank and  the institute biorepository.     \n",
      "\n",
      "sent: adult - photo or video release consent form to whom it may concern \n",
      "\n",
      "sent: : i hereby give my permission to \n",
      "\n",
      "sent: consent for anesthesia services i, \n",
      "\n",
      "sent: it has been explained to me that sometimes and anesthesia technique which involves the use of local anesthetics, with or without sedation, may not succeed completely and therefore another technique may have to be used including general anesthesia. \n",
      "\n",
      "sent: ﻿*please revise or remove language in red  informed consent forms should be written in simple language that is understandable at an 8th grade reading level  tufts medical center tufts university department name  informed consent to participate in research   title of study  principal investigator: co-investigators: study team telephone number:  this consent form is used to document the permission of a parent(s)/guardian(s) to allow a minor to take part in a research study.   \n",
      "\n",
      "sent: ﻿*please revise or remove language in red  informed consent forms should be written in simple language that is understandable at an 8th grade reading level  tufts medical center tufts university department name  informed consent to participate in research   title of study  principal investigator: co-investigators: study team telephone number:  this consent form is used to document the permission of a parent(s)/guardian(s) to allow a minor to take part in a research study.   \n",
      "\n"
     ]
    }
   ],
   "source": [
    "for sent in df['permissionsStatements'][:10]:\n",
    "    [print('sent:', x.text, '\\n') for x in sent[:2]]"
   ]
  },
  {
   "cell_type": "code",
   "execution_count": 16,
   "metadata": {},
   "outputs": [
    {
     "data": {
      "text/html": [
       "<div>\n",
       "<style scoped>\n",
       "    .dataframe tbody tr th:only-of-type {\n",
       "        vertical-align: middle;\n",
       "    }\n",
       "\n",
       "    .dataframe tbody tr th {\n",
       "        vertical-align: top;\n",
       "    }\n",
       "\n",
       "    .dataframe thead th {\n",
       "        text-align: right;\n",
       "    }\n",
       "</style>\n",
       "<table border=\"1\" class=\"dataframe\">\n",
       "  <thead>\n",
       "    <tr style=\"text-align: right;\">\n",
       "      <th></th>\n",
       "      <th>name</th>\n",
       "      <th>path</th>\n",
       "      <th>rawText</th>\n",
       "      <th>docOB</th>\n",
       "      <th>sentList</th>\n",
       "      <th>cleanedText</th>\n",
       "      <th>permissionsStatements</th>\n",
       "      <th>permissionDensity</th>\n",
       "    </tr>\n",
       "  </thead>\n",
       "  <tbody>\n",
       "    <tr>\n",
       "      <th>593</th>\n",
       "      <td>ExampleChildAssentFormforChildrenuptoAge8</td>\n",
       "      <td>/Users/milk/Desktop/git/InformedConsentForms/d...</td>\n",
       "      <td>﻿Version: 08/2013 CASE WESTERN RESERVE UNIVERS...</td>\n",
       "      <td>(﻿version, :, 08/2013, case, western, reserve,...</td>\n",
       "      <td>[(﻿version, :, 08/2013, case, western, reserve...</td>\n",
       "      <td>version case western reserve university inform...</td>\n",
       "      <td>[(﻿version, :, 08/2013, case, western, reserve...</td>\n",
       "      <td>0.166667</td>\n",
       "    </tr>\n",
       "    <tr>\n",
       "      <th>694</th>\n",
       "      <td>CRCTemplateDec2013</td>\n",
       "      <td>/Users/milk/Desktop/git/InformedConsentForms/d...</td>\n",
       "      <td>﻿  Protocol Title: Principal Investigator: Des...</td>\n",
       "      <td>(﻿,  , protocol, title, :, principal, investig...</td>\n",
       "      <td>[(﻿,  ), (protocol, title, :, principal, inves...</td>\n",
       "      <td>protocol title principal investigator descript...</td>\n",
       "      <td>[(protocol, title, :, principal, investigator,...</td>\n",
       "      <td>0.122407</td>\n",
       "    </tr>\n",
       "  </tbody>\n",
       "</table>\n",
       "</div>"
      ],
      "text/plain": [
       "                                          name  \\\n",
       "593  ExampleChildAssentFormforChildrenuptoAge8   \n",
       "694                         CRCTemplateDec2013   \n",
       "\n",
       "                                                  path  \\\n",
       "593  /Users/milk/Desktop/git/InformedConsentForms/d...   \n",
       "694  /Users/milk/Desktop/git/InformedConsentForms/d...   \n",
       "\n",
       "                                               rawText  \\\n",
       "593  ﻿Version: 08/2013 CASE WESTERN RESERVE UNIVERS...   \n",
       "694  ﻿  Protocol Title: Principal Investigator: Des...   \n",
       "\n",
       "                                                 docOB  \\\n",
       "593  (﻿version, :, 08/2013, case, western, reserve,...   \n",
       "694  (﻿,  , protocol, title, :, principal, investig...   \n",
       "\n",
       "                                              sentList  \\\n",
       "593  [(﻿version, :, 08/2013, case, western, reserve...   \n",
       "694  [(﻿,  ), (protocol, title, :, principal, inves...   \n",
       "\n",
       "                                           cleanedText  \\\n",
       "593  version case western reserve university inform...   \n",
       "694  protocol title principal investigator descript...   \n",
       "\n",
       "                                 permissionsStatements  permissionDensity  \n",
       "593  [(﻿version, :, 08/2013, case, western, reserve...           0.166667  \n",
       "694  [(protocol, title, :, principal, investigator,...           0.122407  "
      ]
     },
     "execution_count": 16,
     "metadata": {},
     "output_type": "execute_result"
    }
   ],
   "source": [
    "def getEstimatedPermissionDesnity(row):\n",
    "    \"\"\" return proportion of sentence total that may\n",
    "    be statements indicating perissions. Expect much noise. \"\"\"\n",
    "     \n",
    "    return len(row['permissionsStatements'])/len(row['sentList'])\n",
    "    \n",
    "df['permissionDensity'] = df.apply(lambda row: getEstimatedPermissionDesnity(row),axis=1)\n",
    "\n",
    "df.head(2)"
   ]
  },
  {
   "cell_type": "code",
   "execution_count": 17,
   "metadata": {},
   "outputs": [
    {
     "data": {
      "text/plain": [
       "<matplotlib.axes._subplots.AxesSubplot at 0x1a6a5e358>"
      ]
     },
     "execution_count": 17,
     "metadata": {},
     "output_type": "execute_result"
    },
    {
     "data": {
      "image/png": "[encoded data removed]",
      "text/plain": [
       "<Figure size 432x288 with 1 Axes>"
      ]
     },
     "metadata": {
      "needs_background": "light"
     },
     "output_type": "display_data"
    }
   ],
   "source": [
    "%matplotlib inline\n",
    "df['permissionDensity'].hist()"
   ]
  },
  {
   "cell_type": "markdown",
   "metadata": {},
   "source": [
    "## Important\n",
    "this represents an important break away from the primary dataframe. here i start to work with list structures to create a list of possible permissions that is no longer tied to filenames"
   ]
  },
  {
   "cell_type": "code",
   "execution_count": 18,
   "metadata": {},
   "outputs": [],
   "source": [
    "all_sents = []\n",
    "\n",
    "for sentlist in df['sentList'].to_list():\n",
    "    [all_sents.append(x) for x in sentlist]\n",
    "    \n",
    "all_permissions = []\n",
    "\n",
    "for permlist in df['permissionsStatements'].to_list():\n",
    "    [all_permissions.append(x) for x in permlist]"
   ]
  },
  {
   "cell_type": "code",
   "execution_count": 19,
   "metadata": {},
   "outputs": [
    {
     "name": "stdout",
     "output_type": "stream",
     "text": [
      "total rough draft permissions:  1583\n",
      "unique rough draft permissions:  1227\n",
      "total rough draft sentences:  20024\n",
      "unique rough draft sentences:  20024\n"
     ]
    }
   ],
   "source": [
    "print('total rough draft permissions: ', len(all_permissions))\n",
    "print('unique rough draft permissions: ', len(list(set(all_permissions))))\n",
    "\n",
    "print('total rough draft sentences: ', len(all_sents))\n",
    "print('unique rough draft sentences: ', len(list(set(all_sents))))"
   ]
  },
  {
   "cell_type": "code",
   "execution_count": 20,
   "metadata": {},
   "outputs": [],
   "source": [
    "# remove duplucates\n",
    "all_permissions = list(set(all_permissions))"
   ]
  },
  {
   "cell_type": "markdown",
   "metadata": {},
   "source": [
    "## pair-wise similarity between our permission 'guesses' and remaining sentences\n",
    "this is an important step so that we don't restrict ourselves to permission statements that contain the words we dreampt up"
   ]
  },
  {
   "cell_type": "markdown",
   "metadata": {},
   "source": [
    "# WARNING: WILL NOT SCALE, need to fix\n"
   ]
  },
  {
   "cell_type": "code",
   "execution_count": 21,
   "metadata": {},
   "outputs": [],
   "source": [
    "new_rows = []\n",
    "\n",
    "for sent in all_sents:\n",
    "    for perm in all_permissions:\n",
    "        row = {\n",
    "            'permission':perm,\n",
    "            'sentence':sent,\n",
    "            'similarity':sent.similarity(perm)\n",
    "        }\n",
    "        new_rows.append(row)"
   ]
  },
  {
   "cell_type": "code",
   "execution_count": 22,
   "metadata": {},
   "outputs": [
    {
     "data": {
      "text/html": [
       "<div>\n",
       "<style scoped>\n",
       "    .dataframe tbody tr th:only-of-type {\n",
       "        vertical-align: middle;\n",
       "    }\n",
       "\n",
       "    .dataframe tbody tr th {\n",
       "        vertical-align: top;\n",
       "    }\n",
       "\n",
       "    .dataframe thead th {\n",
       "        text-align: right;\n",
       "    }\n",
       "</style>\n",
       "<table border=\"1\" class=\"dataframe\">\n",
       "  <thead>\n",
       "    <tr style=\"text-align: right;\">\n",
       "      <th></th>\n",
       "      <th>permission</th>\n",
       "      <th>sentence</th>\n",
       "      <th>similarity</th>\n",
       "    </tr>\n",
       "  </thead>\n",
       "  <tbody>\n",
       "    <tr>\n",
       "      <th>0</th>\n",
       "      <td>(vaccine, to, be, given, :, el, human, papillo...</td>\n",
       "      <td>(﻿version, :, 08/2013, case, western, reserve,...</td>\n",
       "      <td>0.767336</td>\n",
       "    </tr>\n",
       "    <tr>\n",
       "      <th>1</th>\n",
       "      <td>(as, one, of, your, health, care, providers, i...</td>\n",
       "      <td>(﻿version, :, 08/2013, case, western, reserve,...</td>\n",
       "      <td>0.838693</td>\n",
       "    </tr>\n",
       "    <tr>\n",
       "      <th>2</th>\n",
       "      <td>(hipaa, only, applies, to, health, care, provi...</td>\n",
       "      <td>(﻿version, :, 08/2013, case, western, reserve,...</td>\n",
       "      <td>0.669897</td>\n",
       "    </tr>\n",
       "    <tr>\n",
       "      <th>3</th>\n",
       "      <td>(signature, of, witness, to, consent, process,...</td>\n",
       "      <td>(﻿version, :, 08/2013, case, western, reserve,...</td>\n",
       "      <td>0.921779</td>\n",
       "    </tr>\n",
       "    <tr>\n",
       "      <th>4</th>\n",
       "      <td>(if, you, do, not, authorize, the, use, and, d...</td>\n",
       "      <td>(﻿version, :, 08/2013, case, western, reserve,...</td>\n",
       "      <td>0.908639</td>\n",
       "    </tr>\n",
       "  </tbody>\n",
       "</table>\n",
       "</div>"
      ],
      "text/plain": [
       "                                          permission  \\\n",
       "0  (vaccine, to, be, given, :, el, human, papillo...   \n",
       "1  (as, one, of, your, health, care, providers, i...   \n",
       "2  (hipaa, only, applies, to, health, care, provi...   \n",
       "3  (signature, of, witness, to, consent, process,...   \n",
       "4  (if, you, do, not, authorize, the, use, and, d...   \n",
       "\n",
       "                                            sentence  similarity  \n",
       "0  (﻿version, :, 08/2013, case, western, reserve,...    0.767336  \n",
       "1  (﻿version, :, 08/2013, case, western, reserve,...    0.838693  \n",
       "2  (﻿version, :, 08/2013, case, western, reserve,...    0.669897  \n",
       "3  (﻿version, :, 08/2013, case, western, reserve,...    0.921779  \n",
       "4  (﻿version, :, 08/2013, case, western, reserve,...    0.908639  "
      ]
     },
     "execution_count": 22,
     "metadata": {},
     "output_type": "execute_result"
    }
   ],
   "source": [
    "sf = pd.DataFrame(new_rows)\n",
    "sf.head()"
   ]
  },
  {
   "cell_type": "code",
   "execution_count": 23,
   "metadata": {},
   "outputs": [
    {
     "data": {
      "text/plain": [
       "<matplotlib.axes._subplots.AxesSubplot at 0x1539d1160>"
      ]
     },
     "execution_count": 23,
     "metadata": {},
     "output_type": "execute_result"
    },
    {
     "data": {
      "image/png": "[encoded data removed]",
      "text/plain": [
       "<Figure size 432x288 with 1 Axes>"
      ]
     },
     "metadata": {
      "needs_background": "light"
     },
     "output_type": "display_data"
    }
   ],
   "source": [
    "sf['similarity'].hist()"
   ]
  },
  {
   "cell_type": "code",
   "execution_count": 24,
   "metadata": {},
   "outputs": [
    {
     "data": {
      "text/html": [
       "<div>\n",
       "<style scoped>\n",
       "    .dataframe tbody tr th:only-of-type {\n",
       "        vertical-align: middle;\n",
       "    }\n",
       "\n",
       "    .dataframe tbody tr th {\n",
       "        vertical-align: top;\n",
       "    }\n",
       "\n",
       "    .dataframe thead th {\n",
       "        text-align: right;\n",
       "    }\n",
       "</style>\n",
       "<table border=\"1\" class=\"dataframe\">\n",
       "  <thead>\n",
       "    <tr style=\"text-align: right;\">\n",
       "      <th></th>\n",
       "      <th>sentence</th>\n",
       "      <th>similarity</th>\n",
       "    </tr>\n",
       "  </thead>\n",
       "  <tbody>\n",
       "    <tr>\n",
       "      <th>0</th>\n",
       "      <td>(﻿version, :, 08/2013, case, western, reserve,...</td>\n",
       "      <td>0.854312</td>\n",
       "    </tr>\n",
       "    <tr>\n",
       "      <th>1</th>\n",
       "      <td>(﻿,                                           ...</td>\n",
       "      <td>0.851192</td>\n",
       "    </tr>\n",
       "    <tr>\n",
       "      <th>2</th>\n",
       "      <td>(consent, for, mri, patient, name, :)</td>\n",
       "      <td>0.689181</td>\n",
       "    </tr>\n",
       "    <tr>\n",
       "      <th>3</th>\n",
       "      <td>(michaelzidile, ,, d.d.s, .)</td>\n",
       "      <td>0.554262</td>\n",
       "    </tr>\n",
       "    <tr>\n",
       "      <th>4</th>\n",
       "      <td>(informational, use, only, consent, for, denta...</td>\n",
       "      <td>0.837474</td>\n",
       "    </tr>\n",
       "  </tbody>\n",
       "</table>\n",
       "</div>"
      ],
      "text/plain": [
       "                                            sentence  similarity\n",
       "0  (﻿version, :, 08/2013, case, western, reserve,...    0.854312\n",
       "1  (﻿,                                           ...    0.851192\n",
       "2              (consent, for, mri, patient, name, :)    0.689181\n",
       "3                       (michaelzidile, ,, d.d.s, .)    0.554262\n",
       "4  (informational, use, only, consent, for, denta...    0.837474"
      ]
     },
     "execution_count": 24,
     "metadata": {},
     "output_type": "execute_result"
    }
   ],
   "source": [
    "# reduce dataframe, aggregate by mean sim score (weak sents will balance out)\n",
    "sf = sf.drop(columns=['permission'])\n",
    "sf = sf.groupby(['sentence'], as_index=False).mean()\n",
    "\n",
    "sf.head()"
   ]
  },
  {
   "cell_type": "code",
   "execution_count": 25,
   "metadata": {},
   "outputs": [
    {
     "data": {
      "text/plain": [
       "<matplotlib.axes._subplots.AxesSubplot at 0x153dade48>"
      ]
     },
     "execution_count": 25,
     "metadata": {},
     "output_type": "execute_result"
    },
    {
     "data": {
      "image/png": "[encoded data removed]",
      "text/plain": [
       "<Figure size 432x288 with 1 Axes>"
      ]
     },
     "metadata": {
      "needs_background": "light"
     },
     "output_type": "display_data"
    }
   ],
   "source": [
    "sf['similarity'].hist()"
   ]
  },
  {
   "cell_type": "code",
   "execution_count": 26,
   "metadata": {},
   "outputs": [],
   "source": [
    "high_sim = sf[sf.similarity > .7]\n",
    "candidates = high_sim['sentence'].to_list()"
   ]
  },
  {
   "cell_type": "code",
   "execution_count": 27,
   "metadata": {},
   "outputs": [
    {
     "name": "stdout",
     "output_type": "stream",
     "text": [
      "total rough draft candidates:  4130\n",
      "unique rough draft candidates:  4130\n"
     ]
    }
   ],
   "source": [
    "print('total rough draft candidates: ', len(candidates))\n",
    "print('unique rough draft candidates: ', len(list(set(candidates))))"
   ]
  },
  {
   "cell_type": "code",
   "execution_count": 28,
   "metadata": {},
   "outputs": [
    {
     "name": "stdout",
     "output_type": "stream",
     "text": [
      "sent:  ﻿version: 08/2013 case western reserve university informed assent document to be used with minors up to age 17 insert title of study   \n",
      "\n",
      "sent:  ﻿                                                 consent form template\t\t                          template v. 03/12/2014  a consent form is one part of an on-going dialogue between researchers and participants.   \n",
      "\n",
      "sent:  informational use only consent for dental/oral surgical treatment in patients who have received bisphosphonate drugs patient name :  patient chart # :  today’s date : please initial each paragraph after reading. \n",
      "\n",
      "sent:  ﻿ this assent document applies to:  _ \n",
      "\n",
      "sent:  ﻿*please revise or remove language in red  informed consent forms should be written in simple language that is understandable at an 8th grade reading level  tufts medical center tufts university department name  informed consent to participate in research   title of study  principal investigator: co-investigators: study team telephone number:  this consent form is used to document the permission of a parent(s)/guardian(s) to allow a minor to take part in a research study.   \n",
      "\n"
     ]
    },
    {
     "data": {
      "text/plain": [
       "[None, None, None, None, None]"
      ]
     },
     "execution_count": 28,
     "metadata": {},
     "output_type": "execute_result"
    }
   ],
   "source": [
    "[print('sent: ', x, '\\n') for x in candidates[:5]]"
   ]
  },
  {
   "cell_type": "code",
   "execution_count": 29,
   "metadata": {},
   "outputs": [],
   "source": [
    "rough_draft_permissions = all_permissions + candidates"
   ]
  },
  {
   "cell_type": "code",
   "execution_count": 30,
   "metadata": {},
   "outputs": [
    {
     "name": "stdout",
     "output_type": "stream",
     "text": [
      "total rough draft candidates:  5357\n",
      "unique rough draft candidates:  4202\n"
     ]
    }
   ],
   "source": [
    "print('total rough draft candidates: ', len(rough_draft_permissions))\n",
    "print('unique rough draft candidates: ', len(list(set(rough_draft_permissions))))"
   ]
  },
  {
   "cell_type": "code",
   "execution_count": 31,
   "metadata": {},
   "outputs": [],
   "source": [
    "rough_draft_permissions = list(set(rough_draft_permissions))"
   ]
  },
  {
   "cell_type": "markdown",
   "metadata": {},
   "source": [
    "## print statements to file"
   ]
  },
  {
   "cell_type": "code",
   "execution_count": 32,
   "metadata": {},
   "outputs": [],
   "source": [
    "# import csv\n",
    "# import datetime\n",
    "# today = str(datetime.date.today())\n",
    "\n",
    "# file_path = 'statements-'+today+'.csv'\n",
    "# print(file_path)\n",
    "\n",
    "# with open(file_path, 'a') as outcsv:   \n",
    "#     #configure writer to write standard csv file\n",
    "#     writer = csv.writer(outcsv, delimiter=',', quoting=csv.QUOTE_MINIMAL, lineterminator='\\n')\n",
    "#     writer.writerow(['raw_text', 'clean_text'])\n",
    "#     for perm in rough_draft_permissions:\n",
    "#         #Write item to outcsv\n",
    "#         raw_text = perm.text\n",
    "#         clean_text = re.sub('\\s+', ' ', re.sub('\\W+',' ',\\\n",
    "#                                re.sub('[^A-Za-z0-9]+',' ', \\\n",
    "#                                       re.sub(r'\\d+', \" \", raw_text)))).strip()\n",
    "#         writer.writerow([raw_text, clean_text])"
   ]
  },
  {
   "cell_type": "markdown",
   "metadata": {},
   "source": [
    "# Annotations?\n",
    "\n",
    "This is the point where injecting further information via annotations may be a good idea. This then would require in import of another local file and a small methods section."
   ]
  },
  {
   "cell_type": "markdown",
   "metadata": {},
   "source": [
    "## matrix representations\n",
    "\n",
    "a few different matrix representations of the permissions sentence"
   ]
  },
  {
   "cell_type": "code",
   "execution_count": 33,
   "metadata": {},
   "outputs": [
    {
     "name": "stdout",
     "output_type": "stream",
     "text": [
      "for clinical trials taking part in a research study is not the same as getting regular medical care \n",
      "\n",
      "insert whichever type of recording is applicable to your study \n",
      "\n",
      "as one of your health care providers it is our responsibility to keep your information safe and secure \n",
      "\n",
      "signature of witness to consent process date and time printed name of person witnessing consent process icahn school of medicine at mount sinai and the mount sinai hospital consent form to volunteer in a research study and authorization for use and disclosure of medical information page of study \n",
      "\n",
      "note the preceding sentence can be eliminated if you have obtained a certificate of confidentiality for the study data \n",
      "\n",
      "if you do not authorize the use and disclosure of your phi for the study then you may not participate in the research study or receive research related treatment \n",
      "\n",
      "i have been given the opportunity \n",
      "\n",
      "consent please print your name and sign below if you agree to be in this study \n",
      "\n",
      "why are you doing this research \n",
      "\n",
      "describe the important risks and potential benefits of each of the alternative procedures and courses of treatment \n",
      "\n"
     ]
    },
    {
     "data": {
      "text/plain": [
       "[None, None, None, None, None, None, None, None, None, None]"
      ]
     },
     "execution_count": 33,
     "metadata": {},
     "output_type": "execute_result"
    }
   ],
   "source": [
    "def cleanPermissions(rough_draft_permissions):\n",
    "    \"string cleaning on permissions for td-idf ingestion\"\n",
    "    corpus = []\n",
    "    \n",
    "    \n",
    "    for permission in rough_draft_permissions:\n",
    "        cleanSentence = []\n",
    "        for word in permission.text.split():\n",
    "            word = re.sub(\"[^a-zA-Z]+\", \" \", word).strip().lower()\n",
    "            if not word == \"\":\n",
    "                cleanSentence.append(word)\n",
    "        corpus.append(\" \".join(cleanSentence))\n",
    "    return corpus\n",
    "            \n",
    "corpus = cleanPermissions(rough_draft_permissions)\n",
    "\n",
    "[print(x, '\\n') for x in corpus[:10]]"
   ]
  },
  {
   "cell_type": "markdown",
   "metadata": {},
   "source": [
    "## NOTE: \n",
    "`minTermFrequencyThreshold = 0` will result in all possible n_grams and will not scale as input size or ngramSize increases. However, it is the most robust representation of the sentence, and is worth exploring for the time being..."
   ]
  },
  {
   "cell_type": "code",
   "execution_count": 34,
   "metadata": {},
   "outputs": [
    {
     "name": "stdout",
     "output_type": "stream",
     "text": [
      "\n",
      "Number of terms: 7358\n"
     ]
    }
   ],
   "source": [
    "ngramSize = 5\n",
    "maxTermFrequencyThreshold = .8\n",
    "minTermFrequencyThreshold = .001\n",
    "\n",
    "def getTDIDFMatrix(corpus, ngram_range, max_df, min_df):\n",
    "    \"\"\" return td-idf matrix and terms \"\"\"\n",
    "    \n",
    "    tfidf_vectorizer = TfidfVectorizer(use_idf=True, \n",
    "                                       ngram_range=(1,ngram_range),\n",
    "                                       max_df=max_df,min_df=min_df)\n",
    "    \n",
    "    tfidf_matrix = tfidf_vectorizer.fit_transform(corpus)\n",
    "    terms = tfidf_vectorizer.get_feature_names()\n",
    "    \n",
    "    return tfidf_matrix, terms\n",
    "\n",
    "# save to a variable \n",
    "tdidf_matrix, tdidf_terms = getTDIDFMatrix(corpus, \n",
    "                                           ngramSize, \n",
    "                                           maxTermFrequencyThreshold,\n",
    "                                           minTermFrequencyThreshold)\n",
    "\n",
    "# # print tests\n",
    "# print('\\nfirst few terms:')\n",
    "# [print(\" \", x) for x in tdidf_terms[:10]]\n",
    "\n",
    "print('\\nNumber of terms:', len(tdidf_terms))"
   ]
  },
  {
   "cell_type": "code",
   "execution_count": 35,
   "metadata": {},
   "outputs": [
    {
     "data": {
      "text/html": [
       "<div>\n",
       "<style scoped>\n",
       "    .dataframe tbody tr th:only-of-type {\n",
       "        vertical-align: middle;\n",
       "    }\n",
       "\n",
       "    .dataframe tbody tr th {\n",
       "        vertical-align: top;\n",
       "    }\n",
       "\n",
       "    .dataframe thead th {\n",
       "        text-align: right;\n",
       "    }\n",
       "</style>\n",
       "<table border=\"1\" class=\"dataframe\">\n",
       "  <thead>\n",
       "    <tr style=\"text-align: right;\">\n",
       "      <th></th>\n",
       "      <th>ability</th>\n",
       "      <th>ability to</th>\n",
       "      <th>able</th>\n",
       "      <th>able to</th>\n",
       "      <th>about</th>\n",
       "      <th>about how</th>\n",
       "      <th>about it</th>\n",
       "      <th>about minutes</th>\n",
       "      <th>about my</th>\n",
       "      <th>about the</th>\n",
       "      <th>...</th>\n",
       "      <th>your study</th>\n",
       "      <th>your study doctor</th>\n",
       "      <th>your study information</th>\n",
       "      <th>your time</th>\n",
       "      <th>your tissue</th>\n",
       "      <th>your treatment</th>\n",
       "      <th>your treatment if</th>\n",
       "      <th>your treatment if you</th>\n",
       "      <th>yourself</th>\n",
       "      <th>yourself or</th>\n",
       "    </tr>\n",
       "  </thead>\n",
       "  <tbody>\n",
       "    <tr>\n",
       "      <th>0</th>\n",
       "      <td>NaN</td>\n",
       "      <td>NaN</td>\n",
       "      <td>NaN</td>\n",
       "      <td>NaN</td>\n",
       "      <td>NaN</td>\n",
       "      <td>NaN</td>\n",
       "      <td>NaN</td>\n",
       "      <td>NaN</td>\n",
       "      <td>NaN</td>\n",
       "      <td>NaN</td>\n",
       "      <td>...</td>\n",
       "      <td>NaN</td>\n",
       "      <td>NaN</td>\n",
       "      <td>NaN</td>\n",
       "      <td>NaN</td>\n",
       "      <td>NaN</td>\n",
       "      <td>NaN</td>\n",
       "      <td>NaN</td>\n",
       "      <td>NaN</td>\n",
       "      <td>NaN</td>\n",
       "      <td>NaN</td>\n",
       "    </tr>\n",
       "    <tr>\n",
       "      <th>1</th>\n",
       "      <td>NaN</td>\n",
       "      <td>NaN</td>\n",
       "      <td>NaN</td>\n",
       "      <td>NaN</td>\n",
       "      <td>NaN</td>\n",
       "      <td>NaN</td>\n",
       "      <td>NaN</td>\n",
       "      <td>NaN</td>\n",
       "      <td>NaN</td>\n",
       "      <td>NaN</td>\n",
       "      <td>...</td>\n",
       "      <td>0.257045</td>\n",
       "      <td>NaN</td>\n",
       "      <td>NaN</td>\n",
       "      <td>NaN</td>\n",
       "      <td>NaN</td>\n",
       "      <td>NaN</td>\n",
       "      <td>NaN</td>\n",
       "      <td>NaN</td>\n",
       "      <td>NaN</td>\n",
       "      <td>NaN</td>\n",
       "    </tr>\n",
       "    <tr>\n",
       "      <th>2</th>\n",
       "      <td>NaN</td>\n",
       "      <td>NaN</td>\n",
       "      <td>NaN</td>\n",
       "      <td>NaN</td>\n",
       "      <td>NaN</td>\n",
       "      <td>NaN</td>\n",
       "      <td>NaN</td>\n",
       "      <td>NaN</td>\n",
       "      <td>NaN</td>\n",
       "      <td>NaN</td>\n",
       "      <td>...</td>\n",
       "      <td>NaN</td>\n",
       "      <td>NaN</td>\n",
       "      <td>NaN</td>\n",
       "      <td>NaN</td>\n",
       "      <td>NaN</td>\n",
       "      <td>NaN</td>\n",
       "      <td>NaN</td>\n",
       "      <td>NaN</td>\n",
       "      <td>NaN</td>\n",
       "      <td>NaN</td>\n",
       "    </tr>\n",
       "    <tr>\n",
       "      <th>3</th>\n",
       "      <td>NaN</td>\n",
       "      <td>NaN</td>\n",
       "      <td>NaN</td>\n",
       "      <td>NaN</td>\n",
       "      <td>NaN</td>\n",
       "      <td>NaN</td>\n",
       "      <td>NaN</td>\n",
       "      <td>NaN</td>\n",
       "      <td>NaN</td>\n",
       "      <td>NaN</td>\n",
       "      <td>...</td>\n",
       "      <td>NaN</td>\n",
       "      <td>NaN</td>\n",
       "      <td>NaN</td>\n",
       "      <td>NaN</td>\n",
       "      <td>NaN</td>\n",
       "      <td>NaN</td>\n",
       "      <td>NaN</td>\n",
       "      <td>NaN</td>\n",
       "      <td>NaN</td>\n",
       "      <td>NaN</td>\n",
       "    </tr>\n",
       "    <tr>\n",
       "      <th>4</th>\n",
       "      <td>NaN</td>\n",
       "      <td>NaN</td>\n",
       "      <td>NaN</td>\n",
       "      <td>NaN</td>\n",
       "      <td>NaN</td>\n",
       "      <td>NaN</td>\n",
       "      <td>NaN</td>\n",
       "      <td>NaN</td>\n",
       "      <td>NaN</td>\n",
       "      <td>NaN</td>\n",
       "      <td>...</td>\n",
       "      <td>NaN</td>\n",
       "      <td>NaN</td>\n",
       "      <td>NaN</td>\n",
       "      <td>NaN</td>\n",
       "      <td>NaN</td>\n",
       "      <td>NaN</td>\n",
       "      <td>NaN</td>\n",
       "      <td>NaN</td>\n",
       "      <td>NaN</td>\n",
       "      <td>NaN</td>\n",
       "    </tr>\n",
       "  </tbody>\n",
       "</table>\n",
       "<p>5 rows × 7358 columns</p>\n",
       "</div>"
      ],
      "text/plain": [
       "   ability  ability to  able  able to  about  about how  about it  \\\n",
       "0      NaN         NaN   NaN      NaN    NaN        NaN       NaN   \n",
       "1      NaN         NaN   NaN      NaN    NaN        NaN       NaN   \n",
       "2      NaN         NaN   NaN      NaN    NaN        NaN       NaN   \n",
       "3      NaN         NaN   NaN      NaN    NaN        NaN       NaN   \n",
       "4      NaN         NaN   NaN      NaN    NaN        NaN       NaN   \n",
       "\n",
       "   about minutes  about my  about the  ...  your study  your study doctor  \\\n",
       "0            NaN       NaN        NaN  ...         NaN                NaN   \n",
       "1            NaN       NaN        NaN  ...    0.257045                NaN   \n",
       "2            NaN       NaN        NaN  ...         NaN                NaN   \n",
       "3            NaN       NaN        NaN  ...         NaN                NaN   \n",
       "4            NaN       NaN        NaN  ...         NaN                NaN   \n",
       "\n",
       "   your study information  your time  your tissue  your treatment  \\\n",
       "0                     NaN        NaN          NaN             NaN   \n",
       "1                     NaN        NaN          NaN             NaN   \n",
       "2                     NaN        NaN          NaN             NaN   \n",
       "3                     NaN        NaN          NaN             NaN   \n",
       "4                     NaN        NaN          NaN             NaN   \n",
       "\n",
       "   your treatment if  your treatment if you  yourself  yourself or  \n",
       "0                NaN                    NaN       NaN          NaN  \n",
       "1                NaN                    NaN       NaN          NaN  \n",
       "2                NaN                    NaN       NaN          NaN  \n",
       "3                NaN                    NaN       NaN          NaN  \n",
       "4                NaN                    NaN       NaN          NaN  \n",
       "\n",
       "[5 rows x 7358 columns]"
      ]
     },
     "execution_count": 35,
     "metadata": {},
     "output_type": "execute_result"
    }
   ],
   "source": [
    "sdf = pd.SparseDataFrame(tdidf_matrix, columns=tdidf_terms)\n",
    "\n",
    "# here we add the sentences back in\n",
    "sdf['sent'] = corpus\n",
    "\n",
    "sdf.head()"
   ]
  },
  {
   "cell_type": "code",
   "execution_count": 36,
   "metadata": {},
   "outputs": [],
   "source": [
    "permission_vectors = []\n",
    "\n",
    "for perm in rough_draft_permissions:\n",
    "#     print(perm.to_array([LOWER, POS, ENT_TYPE, IS_ALPHA])) # same features, different rows\n",
    "#     print(perm.vector) # same shape\n",
    "#     print(perm.vector_norm) # single value\n",
    "#     print(perm.get_lca_matrix()) # differnt shapes\n",
    "    permission_vectors.append(perm.vector)"
   ]
  },
  {
   "cell_type": "code",
   "execution_count": null,
   "metadata": {},
   "outputs": [],
   "source": []
  },
  {
   "cell_type": "code",
   "execution_count": null,
   "metadata": {},
   "outputs": [],
   "source": []
  },
  {
   "cell_type": "code",
   "execution_count": null,
   "metadata": {},
   "outputs": [],
   "source": []
  }
 ],
 "metadata": {
  "kernelspec": {
   "display_name": "Python 3",
   "language": "python",
   "name": "python3"
  },
  "language_info": {
   "codemirror_mode": {
    "name": "ipython",
    "version": 3
   },
   "file_extension": ".py",
   "mimetype": "text/x-python",
   "name": "python",
   "nbconvert_exporter": "python",
   "pygments_lexer": "ipython3",
   "version": "3.7.0"
  }
 },
 "nbformat": 4,
 "nbformat_minor": 2
}
