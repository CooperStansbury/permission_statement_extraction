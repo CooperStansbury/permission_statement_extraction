{
 "cells": [
  {
   "cell_type": "markdown",
   "metadata": {},
   "source": [
    "## Config"
   ]
  },
  {
   "cell_type": "code",
   "execution_count": 1,
   "metadata": {},
   "outputs": [
    {
     "name": "stdout",
     "output_type": "stream",
     "text": [
      "VERSION:  3.7.0\n"
     ]
    }
   ],
   "source": [
    "import os\n",
    "import re\n",
    "import pandas as pd\n",
    "import numpy as np\n",
    "import random\n",
    "import nltk\n",
    "import spacy\n",
    "from nltk.corpus import wordnet\n",
    "from nltk.stem.wordnet import WordNetLemmatizer\n",
    "import itertools\n",
    "from itertools import chain\n",
    "\n",
    "from platform import python_version\n",
    "print(\"VERSION: \", python_version()) # expect 3.7.0\n",
    "\n",
    "# dirty spaCy error workaround:\n",
    "get_ipython().config.get('IPKernelApp', {})['parent_appname'] = \"\""
   ]
  },
  {
   "cell_type": "code",
   "execution_count": 2,
   "metadata": {},
   "outputs": [],
   "source": [
    "os_path = '/Users/milk/Desktop/git/'\n",
    "forms_dir = os_path + 'InformedConsentForms/data/all_forms'"
   ]
  },
  {
   "cell_type": "code",
   "execution_count": 3,
   "metadata": {},
   "outputs": [],
   "source": [
    "nlp = spacy.load('en')\n",
    "nlp_larg = spacy.load('en_core_web_lg')"
   ]
  },
  {
   "cell_type": "markdown",
   "metadata": {},
   "source": [
    "## Semantic Clues"
   ]
  },
  {
   "cell_type": "code",
   "execution_count": 4,
   "metadata": {},
   "outputs": [],
   "source": [
    "##  taken from: \n",
    "# “I found great synonyms for ‘permission’ on the new Thesaurus.com!,”\n",
    "# www.thesaurus.com. [Online]. Available: https://www.thesaurus.com/browse/permission. \n",
    "## [Accessed: 19-Feb-2019].\n",
    "\n",
    "permission_bases = [\"permission\", \n",
    "                    \"authorization\", \n",
    "                    \"authorize\",\n",
    "                    \"consent\",\n",
    "                    \"assent\",\n",
    "                    \"permit\",\n",
    "                    \"approve\",\n",
    "                    \"grant\",\n",
    "                    \"allow\",\n",
    "                    \"certify\"]"
   ]
  },
  {
   "cell_type": "markdown",
   "metadata": {},
   "source": [
    "## add synonyms"
   ]
  },
  {
   "cell_type": "code",
   "execution_count": 5,
   "metadata": {},
   "outputs": [
    {
     "name": "stdout",
     "output_type": "stream",
     "text": [
      "num elements: 51\n"
     ]
    }
   ],
   "source": [
    "def addWordNetSynsets(word_list):\n",
    "    \" add synsets to new list \"\n",
    "    updated_list = []\n",
    "    \n",
    "    for word in word_list:\n",
    "        updated_list.append(word)\n",
    "        synonyms = wordnet.synsets(word, 'v')\n",
    "        synonyms = set(chain.from_iterable([word.lemma_names() for word in synonyms]))\n",
    "        \n",
    "        [updated_list.append(x) for x in synonyms if x not in updated_list]\n",
    "        \n",
    "    return updated_list\n",
    "        \n",
    "permission_extended = addWordNetSynsets(permission_bases)\n",
    "print('num elements:', len(permission_extended))\n",
    "# [print(x) for x in permission_extended]"
   ]
  },
  {
   "cell_type": "markdown",
   "metadata": {},
   "source": [
    "## build consent form data structure\n",
    "get dict and dataframe from each consent form on file\n",
    "\n",
    "#### todo: get metadata"
   ]
  },
  {
   "cell_type": "code",
   "execution_count": 6,
   "metadata": {},
   "outputs": [],
   "source": [
    "def getData(directory):\n",
    "    \"\"\" returns a dict with cleaned filenames, full paths,\n",
    "    and text data in multiple formats from a dictionary\n",
    "    of .txt files\"\"\"\n",
    "    \n",
    "    fileDictionary = {}\n",
    "    fileID = 0\n",
    "    \n",
    "    # iterate through directory\n",
    "    for subdir, dirs, files in os.walk(directory):\n",
    "        for file in files:\n",
    "            \n",
    "            fileID += 1\n",
    "            filepath = subdir + os.sep + file\n",
    "            \n",
    "            if filepath.endswith('.txt'):\n",
    "                wordList = [] # this will include duplicates and stop words\n",
    "                cleanedFileName = ''.join(e for e in file if e.isalnum())[:-3] \n",
    "                \n",
    "                # perform string operations on each file\n",
    "                with open(filepath, 'r') as myfile:\n",
    "                    data = myfile.read().replace('\\n', ' ')       \n",
    "                \n",
    "                fileDictionary[fileID] = {}\n",
    "                fileDictionary[fileID]['name'] = cleanedFileName\n",
    "                fileDictionary[fileID]['path'] = filepath\n",
    "                fileDictionary[fileID]['rawText'] = data\n",
    "    \n",
    "    return fileDictionary\n",
    "\n",
    "# run the function and store to variable \n",
    "consent_dictionary = getData(forms_dir)\n",
    "\n",
    "# #test print statement\n",
    "# [print(k,v, '\\n') for k,v in consent_dictionary[1].items()]"
   ]
  },
  {
   "cell_type": "code",
   "execution_count": 7,
   "metadata": {},
   "outputs": [],
   "source": [
    "def toDataFrame(fileDictionary):\n",
    "    \"\"\" return pandas dataframe\n",
    "    Note: expects input in nested dict format (output from getData)\"\"\"\n",
    "    new_rows = []\n",
    "\n",
    "    for key, value in fileDictionary.items():\n",
    "        new_rows.append(value)\n",
    "         \n",
    "    df = pd.DataFrame(new_rows)\n",
    "    return df"
   ]
  },
  {
   "cell_type": "markdown",
   "metadata": {},
   "source": [
    "## Random sampling to develop\n",
    "This will be removed when we want to process the whole corpus"
   ]
  },
  {
   "cell_type": "code",
   "execution_count": 8,
   "metadata": {},
   "outputs": [
    {
     "name": "stdout",
     "output_type": "stream",
     "text": [
      "Index(['name', 'path', 'rawText'], dtype='object')\n"
     ]
    }
   ],
   "source": [
    "df = toDataFrame(consent_dictionary)\n",
    "\n",
    "print(df.columns)\n",
    "\n",
    "n_samples = 50\n",
    "df = df.sample(n=n_samples)"
   ]
  },
  {
   "cell_type": "markdown",
   "metadata": {},
   "source": [
    "## add spacy object to dataframe\n",
    "\n",
    "#### WARNING: this takes a long time,"
   ]
  },
  {
   "cell_type": "code",
   "execution_count": 9,
   "metadata": {},
   "outputs": [],
   "source": [
    "def getDocObjects(row, field):\n",
    "    \" return spacy doc object\"\n",
    "#     # small nlp library\n",
    "#     doc = nlp(str(row[field]).lower())\n",
    "    # large library\n",
    "    doc = nlp_larg(str(row[field]).lower())\n",
    "    return doc\n",
    "\n",
    "# here we only convert the first 10 rows to save time\n",
    "df['docOB'] = df.apply(lambda row:getDocObjects(row, 'rawText'),axis=1)"
   ]
  },
  {
   "cell_type": "code",
   "execution_count": 10,
   "metadata": {},
   "outputs": [
    {
     "data": {
      "text/plain": [
       "423    (﻿,                                          ,...\n",
       "467    (addendum, to, hpv, (, human, papillomavirus, ...\n",
       "412    (﻿, delete, the, red, text, prior, to, submitt...\n",
       "621    (brushy, creek, family, physicians, patient, h...\n",
       "346    (﻿instructions, no, more, than, minimal, risk,...\n",
       "Name: docOB, dtype: object"
      ]
     },
     "execution_count": 10,
     "metadata": {},
     "output_type": "execute_result"
    }
   ],
   "source": [
    "df['docOB'].head()"
   ]
  },
  {
   "cell_type": "markdown",
   "metadata": {},
   "source": [
    "## extract sentences"
   ]
  },
  {
   "cell_type": "code",
   "execution_count": 11,
   "metadata": {},
   "outputs": [],
   "source": [
    "def getSentenceList(row, field):\n",
    "    \" return list of sents from doc object\"\n",
    "    sent_list = []\n",
    "    \n",
    "    # must operate on a spaCy doc object \n",
    "    for sent in row[field].sents:\n",
    "#         print(dir(sent))\n",
    "        sent_list.append(sent)\n",
    "    \n",
    "    return sent_list\n",
    "\n",
    "# here we only convert the first 10 rows to save time\n",
    "df['sentList'] = df.apply(lambda row:getSentenceList(row, 'docOB'),axis=1)"
   ]
  },
  {
   "cell_type": "code",
   "execution_count": 12,
   "metadata": {},
   "outputs": [],
   "source": [
    "# print(df['sentList'].head())\n",
    "\n",
    "# print()\n",
    "\n",
    "# for sentList in df['sentList'].head(11):\n",
    "#     print(len(sentList))"
   ]
  },
  {
   "cell_type": "markdown",
   "metadata": {},
   "source": [
    "## preliminary permisison sentence extraction\n",
    "look for sentences that have a word from the 'clues' list"
   ]
  },
  {
   "cell_type": "code",
   "execution_count": 13,
   "metadata": {},
   "outputs": [],
   "source": [
    "# for sentList in df['sentList'].head(11):\n",
    "#     for sent in sentList:\n",
    "#         for clue in permission_extended:\n",
    "#             if sent.text.__contains__(clue): # note, we're dealing with spaCy object\n",
    "#                 print('SENTENCE:', sent, '\\n')"
   ]
  },
  {
   "cell_type": "code",
   "execution_count": 14,
   "metadata": {},
   "outputs": [],
   "source": [
    "def getPossiblePermissions(row, permissions_list):\n",
    "    \"\"\" return list of sentences containing the \n",
    "    permissions words \"\"\"\n",
    "    \n",
    "    sent_list = []\n",
    "    \n",
    "    for sent in row['sentList']:\n",
    "        [sent_list.append(sent) for clue in\\\n",
    "             permission_extended if sent.text.__contains__(clue)]\n",
    "                \n",
    "    return sent_list\n",
    "\n",
    "# here we only convert the first 10 rows to save time\n",
    "df['permissionsStatements'] = df.apply(lambda row:getPossiblePermissions(row, permission_extended),axis=1)"
   ]
  },
  {
   "cell_type": "code",
   "execution_count": 15,
   "metadata": {},
   "outputs": [
    {
     "name": "stdout",
     "output_type": "stream",
     "text": [
      "sent: statement of consent \"the purpose of this study, procedures to be followed, risks and benefits have been explained to me.   \n",
      "\n",
      "sent: i have been allowed to ask questions, and my questions have been answered to my satisfaction.   \n",
      "\n",
      "sent: i have had a chance to ask questions about the disease the vaccine prevents, the vaccine, and how the vaccine is given. \n",
      "\n",
      "sent: i am an adult who can legally consent for the person named below to get the vaccine. \n",
      "\n",
      "sent: ﻿ delete the red text prior to submitting this form to the irb. \n",
      "\n",
      "sent: sample language is in italics required language is in regular text  authorization form for use and disclosure of protected health information (phi) for research  project title:    the united states government has issued a new privacy rule to protect the privacy rights of individuals enrolled in research.   \n",
      "\n",
      "sent: brushy creek family physicians patient hipaa acknowledgment and consent form patient name: \n",
      "\n",
      "sent: i acknowledge that i have received the practice’s notice of privacy practices, which describes the ways in which the practice may use and disclose my healthcare information for its treatment, payment, healthcare operations and other described and permitted uses and disclosures, i understand that i may contact the privacy officer designated on the notice if i have a question or complaint. \n",
      "\n",
      "sent: ﻿instructions no more than minimal risk  parental permission template   notice to all users: use of the umcirb parental permission document template is mandatory.   \n",
      "\n",
      "sent: a copy of the parental permission document must be given to the parent(s).   \n",
      "\n",
      "sent: deck dentistry | patient registration and consent \n",
      "\n",
      "sent: __ complete mailing address, including po box or “911” number and postal code.   \n",
      "\n",
      "sent: combined informed consent/authorization template  instructions for developing informed consent/privacy authorization document \tplease call the jhm irb office (410-955-3008) if you have any questions   drafting the consent form  shaded instruction boxes:  many sections of this document include brief instructions to provide a general overview of information required in the section.   \n",
      "\n",
      "sent: combined informed consent/authorization template  instructions for developing informed consent/privacy authorization document \tplease call the jhm irb office (410-955-3008) if you have any questions   drafting the consent form  shaded instruction boxes:  many sections of this document include brief instructions to provide a general overview of information required in the section.   \n",
      "\n",
      "sent: ﻿short form written consent document  directions for use of this template: • review the document, “short form - instructions for use” available on the irb website under forms. \n",
      "\n",
      "sent: • delete template instructions. \n",
      "\n",
      "sent: gold coast health | public health unit                                                                                                                               queensland school immunisation program government consent form year7 australia program school class student details ajrname given names date of birth / / gender omale ofemale medicare no. \n",
      "\n",
      "sent: gold coast health | public health unit                                                                                                                               queensland school immunisation program government consent form year7 australia program school class student details ajrname given names date of birth / / gender omale ofemale medicare no. \n",
      "\n",
      "sent: patient informed consent for individual genome sequencing testing some states may have additional requirements for informed consent. \n",
      "\n",
      "sent: please ensure you comply with those requirements and provide a copy of any additional written informed consents. \n",
      "\n"
     ]
    }
   ],
   "source": [
    "for sent in df['permissionsStatements'][:10]:\n",
    "    [print('sent:', x.text, '\\n') for x in sent[:2]]"
   ]
  },
  {
   "cell_type": "code",
   "execution_count": 16,
   "metadata": {},
   "outputs": [
    {
     "data": {
      "text/html": [
       "<div>\n",
       "<style scoped>\n",
       "    .dataframe tbody tr th:only-of-type {\n",
       "        vertical-align: middle;\n",
       "    }\n",
       "\n",
       "    .dataframe tbody tr th {\n",
       "        vertical-align: top;\n",
       "    }\n",
       "\n",
       "    .dataframe thead th {\n",
       "        text-align: right;\n",
       "    }\n",
       "</style>\n",
       "<table border=\"1\" class=\"dataframe\">\n",
       "  <thead>\n",
       "    <tr style=\"text-align: right;\">\n",
       "      <th></th>\n",
       "      <th>name</th>\n",
       "      <th>path</th>\n",
       "      <th>rawText</th>\n",
       "      <th>docOB</th>\n",
       "      <th>sentList</th>\n",
       "      <th>permissionsStatements</th>\n",
       "      <th>permissionDensity</th>\n",
       "    </tr>\n",
       "  </thead>\n",
       "  <tbody>\n",
       "    <tr>\n",
       "      <th>423</th>\n",
       "      <td>BlankeIRBConsentFormTemplateMinors9112013</td>\n",
       "      <td>/Users/milk/Desktop/git/InformedConsentForms/d...</td>\n",
       "      <td>﻿                                          STA...</td>\n",
       "      <td>(﻿,                                          ,...</td>\n",
       "      <td>[(﻿,                                          ...</td>\n",
       "      <td>[(statement, of, consent, \", the, purpose, of,...</td>\n",
       "      <td>0.022346</td>\n",
       "    </tr>\n",
       "    <tr>\n",
       "      <th>467</th>\n",
       "      <td>TexasHHSAddendumtoHPVVaccineConsent</td>\n",
       "      <td>/Users/milk/Desktop/git/InformedConsentForms/d...</td>\n",
       "      <td>Addendum to HPV (Human Papillomavirus) Vaccine...</td>\n",
       "      <td>(addendum, to, hpv, (, human, papillomavirus, ...</td>\n",
       "      <td>[(addendum, to, hpv, (, human, papillomavirus,...</td>\n",
       "      <td>[(i, have, had, a, chance, to, ask, questions,...</td>\n",
       "      <td>0.344828</td>\n",
       "    </tr>\n",
       "  </tbody>\n",
       "</table>\n",
       "</div>"
      ],
      "text/plain": [
       "                                          name  \\\n",
       "423  BlankeIRBConsentFormTemplateMinors9112013   \n",
       "467        TexasHHSAddendumtoHPVVaccineConsent   \n",
       "\n",
       "                                                  path  \\\n",
       "423  /Users/milk/Desktop/git/InformedConsentForms/d...   \n",
       "467  /Users/milk/Desktop/git/InformedConsentForms/d...   \n",
       "\n",
       "                                               rawText  \\\n",
       "423  ﻿                                          STA...   \n",
       "467  Addendum to HPV (Human Papillomavirus) Vaccine...   \n",
       "\n",
       "                                                 docOB  \\\n",
       "423  (﻿,                                          ,...   \n",
       "467  (addendum, to, hpv, (, human, papillomavirus, ...   \n",
       "\n",
       "                                              sentList  \\\n",
       "423  [(﻿,                                          ...   \n",
       "467  [(addendum, to, hpv, (, human, papillomavirus,...   \n",
       "\n",
       "                                 permissionsStatements  permissionDensity  \n",
       "423  [(statement, of, consent, \", the, purpose, of,...           0.022346  \n",
       "467  [(i, have, had, a, chance, to, ask, questions,...           0.344828  "
      ]
     },
     "execution_count": 16,
     "metadata": {},
     "output_type": "execute_result"
    }
   ],
   "source": [
    "def getEstimatedPermissionDesnity(row):\n",
    "    \"\"\" return proportion of sentence total that may\n",
    "    be statements indicating perissions. Expect much noise. \"\"\"\n",
    "     \n",
    "    return len(row['permissionsStatements'])/len(row['sentList'])\n",
    "    \n",
    "df['permissionDensity'] = df.apply(lambda row: getEstimatedPermissionDesnity(row),axis=1)\n",
    "\n",
    "df.head(2)"
   ]
  },
  {
   "cell_type": "code",
   "execution_count": 17,
   "metadata": {},
   "outputs": [
    {
     "data": {
      "text/plain": [
       "<matplotlib.axes._subplots.AxesSubplot at 0x1a1870240>"
      ]
     },
     "execution_count": 17,
     "metadata": {},
     "output_type": "execute_result"
    },
    {
     "data": {
      "image/png": "[encoded data removed]",
      "text/plain": [
       "<Figure size 432x288 with 1 Axes>"
      ]
     },
     "metadata": {
      "needs_background": "light"
     },
     "output_type": "display_data"
    }
   ],
   "source": [
    "%matplotlib inline\n",
    "df['permissionDensity'].hist()"
   ]
  },
  {
   "cell_type": "markdown",
   "metadata": {},
   "source": [
    "## Important\n",
    "this represents an important break away from the primary dataframe. here i start to work with list structures to create a list of possible permissions that is no longer tied to filenames"
   ]
  },
  {
   "cell_type": "code",
   "execution_count": 18,
   "metadata": {},
   "outputs": [],
   "source": [
    "all_sents = []\n",
    "\n",
    "for sentlist in df['sentList'].to_list():\n",
    "    [all_sents.append(x) for x in sentlist]\n",
    "    \n",
    "all_permissions = []\n",
    "\n",
    "for permlist in df['permissionsStatements'].to_list():\n",
    "    [all_permissions.append(x) for x in permlist]"
   ]
  },
  {
   "cell_type": "code",
   "execution_count": 19,
   "metadata": {},
   "outputs": [
    {
     "name": "stdout",
     "output_type": "stream",
     "text": [
      "total rough draft permissions:  1755\n",
      "unique rough draft permissions:  1404\n",
      "total rough draft sentences:  26124\n",
      "unique rough draft sentences:  26124\n"
     ]
    }
   ],
   "source": [
    "print('total rough draft permissions: ', len(all_permissions))\n",
    "print('unique rough draft permissions: ', len(list(set(all_permissions))))\n",
    "\n",
    "print('total rough draft sentences: ', len(all_sents))\n",
    "print('unique rough draft sentences: ', len(list(set(all_sents))))"
   ]
  },
  {
   "cell_type": "code",
   "execution_count": 20,
   "metadata": {},
   "outputs": [],
   "source": [
    "# remove duplucates\n",
    "all_permissions = list(set(all_permissions))"
   ]
  },
  {
   "cell_type": "markdown",
   "metadata": {},
   "source": [
    "## pair-wise similarity between our permission 'guesses' and remaining sentences\n",
    "this is an important step so that we don't restrict ourselves to permission statements that contain the words we dreampt up\n",
    "\n",
    "#### warning, this is not a good algorithm, will not scale"
   ]
  },
  {
   "cell_type": "code",
   "execution_count": 21,
   "metadata": {},
   "outputs": [],
   "source": [
    "new_rows = []\n",
    "\n",
    "for sent in all_sents:\n",
    "    for perm in all_permissions:\n",
    "        row = {\n",
    "            'permission':perm,\n",
    "            'sentence':sent,\n",
    "            'similarity':sent.similarity(perm)\n",
    "        }\n",
    "        new_rows.append(row)"
   ]
  },
  {
   "cell_type": "code",
   "execution_count": 22,
   "metadata": {},
   "outputs": [
    {
     "data": {
      "text/html": [
       "<div>\n",
       "<style scoped>\n",
       "    .dataframe tbody tr th:only-of-type {\n",
       "        vertical-align: middle;\n",
       "    }\n",
       "\n",
       "    .dataframe tbody tr th {\n",
       "        vertical-align: top;\n",
       "    }\n",
       "\n",
       "    .dataframe thead th {\n",
       "        text-align: right;\n",
       "    }\n",
       "</style>\n",
       "<table border=\"1\" class=\"dataframe\">\n",
       "  <thead>\n",
       "    <tr style=\"text-align: right;\">\n",
       "      <th></th>\n",
       "      <th>permission</th>\n",
       "      <th>sentence</th>\n",
       "      <th>similarity</th>\n",
       "    </tr>\n",
       "  </thead>\n",
       "  <tbody>\n",
       "    <tr>\n",
       "      <th>0</th>\n",
       "      <td>(’s, legally, authorized, representative, \\t, ...</td>\n",
       "      <td>(﻿,                                          )</td>\n",
       "      <td>0.0</td>\n",
       "    </tr>\n",
       "    <tr>\n",
       "      <th>1</th>\n",
       "      <td>(authorization,  )</td>\n",
       "      <td>(﻿,                                          )</td>\n",
       "      <td>0.0</td>\n",
       "    </tr>\n",
       "    <tr>\n",
       "      <th>2</th>\n",
       "      <td>(anderson, will, take, appropriate, steps, to,...</td>\n",
       "      <td>(﻿,                                          )</td>\n",
       "      <td>0.0</td>\n",
       "    </tr>\n",
       "    <tr>\n",
       "      <th>3</th>\n",
       "      <td>(consent, form, for, phase, i, portion, of, st...</td>\n",
       "      <td>(﻿,                                          )</td>\n",
       "      <td>0.0</td>\n",
       "    </tr>\n",
       "    <tr>\n",
       "      <th>4</th>\n",
       "      <td>(i, have, read, this, consent, form, .,  )</td>\n",
       "      <td>(﻿,                                          )</td>\n",
       "      <td>0.0</td>\n",
       "    </tr>\n",
       "  </tbody>\n",
       "</table>\n",
       "</div>"
      ],
      "text/plain": [
       "                                          permission  \\\n",
       "0  (’s, legally, authorized, representative, \\t, ...   \n",
       "1                                 (authorization,  )   \n",
       "2  (anderson, will, take, appropriate, steps, to,...   \n",
       "3  (consent, form, for, phase, i, portion, of, st...   \n",
       "4         (i, have, read, this, consent, form, .,  )   \n",
       "\n",
       "                                         sentence  similarity  \n",
       "0  (﻿,                                          )         0.0  \n",
       "1  (﻿,                                          )         0.0  \n",
       "2  (﻿,                                          )         0.0  \n",
       "3  (﻿,                                          )         0.0  \n",
       "4  (﻿,                                          )         0.0  "
      ]
     },
     "execution_count": 22,
     "metadata": {},
     "output_type": "execute_result"
    }
   ],
   "source": [
    "sf = pd.DataFrame(new_rows)\n",
    "sf.head()"
   ]
  },
  {
   "cell_type": "code",
   "execution_count": 23,
   "metadata": {},
   "outputs": [
    {
     "data": {
      "text/plain": [
       "<matplotlib.axes._subplots.AxesSubplot at 0x1523725c0>"
      ]
     },
     "execution_count": 23,
     "metadata": {},
     "output_type": "execute_result"
    },
    {
     "data": {
      "image/png": "[encoded data removed]",
      "text/plain": [
       "<Figure size 432x288 with 1 Axes>"
      ]
     },
     "metadata": {
      "needs_background": "light"
     },
     "output_type": "display_data"
    }
   ],
   "source": [
    "sf['similarity'].hist()"
   ]
  },
  {
   "cell_type": "code",
   "execution_count": 24,
   "metadata": {},
   "outputs": [
    {
     "data": {
      "text/html": [
       "<div>\n",
       "<style scoped>\n",
       "    .dataframe tbody tr th:only-of-type {\n",
       "        vertical-align: middle;\n",
       "    }\n",
       "\n",
       "    .dataframe tbody tr th {\n",
       "        vertical-align: top;\n",
       "    }\n",
       "\n",
       "    .dataframe thead th {\n",
       "        text-align: right;\n",
       "    }\n",
       "</style>\n",
       "<table border=\"1\" class=\"dataframe\">\n",
       "  <thead>\n",
       "    <tr style=\"text-align: right;\">\n",
       "      <th></th>\n",
       "      <th>sentence</th>\n",
       "      <th>similarity</th>\n",
       "    </tr>\n",
       "  </thead>\n",
       "  <tbody>\n",
       "    <tr>\n",
       "      <th>0</th>\n",
       "      <td>(﻿,                                          )</td>\n",
       "      <td>0.000000</td>\n",
       "    </tr>\n",
       "    <tr>\n",
       "      <th>1</th>\n",
       "      <td>(patient)</td>\n",
       "      <td>0.503442</td>\n",
       "    </tr>\n",
       "    <tr>\n",
       "      <th>2</th>\n",
       "      <td>(partners, healthcare, system,    , research, ...</td>\n",
       "      <td>0.811238</td>\n",
       "    </tr>\n",
       "    <tr>\n",
       "      <th>3</th>\n",
       "      <td>(mri, screening, and, consent, form,  , prefer...</td>\n",
       "      <td>0.737874</td>\n",
       "    </tr>\n",
       "    <tr>\n",
       "      <th>4</th>\n",
       "      <td>(', joseph, 's,  , patient, i)</td>\n",
       "      <td>0.621505</td>\n",
       "    </tr>\n",
       "  </tbody>\n",
       "</table>\n",
       "</div>"
      ],
      "text/plain": [
       "                                            sentence  similarity\n",
       "0     (﻿,                                          )    0.000000\n",
       "1                                          (patient)    0.503442\n",
       "2  (partners, healthcare, system,    , research, ...    0.811238\n",
       "3  (mri, screening, and, consent, form,  , prefer...    0.737874\n",
       "4                     (', joseph, 's,  , patient, i)    0.621505"
      ]
     },
     "execution_count": 24,
     "metadata": {},
     "output_type": "execute_result"
    }
   ],
   "source": [
    "# reduce dataframe, aggregate by mean sim score (weak sents will balance out)\n",
    "sf = sf.drop(columns=['permission'])\n",
    "sf = sf.groupby(['sentence'], as_index=False).mean()\n",
    "\n",
    "sf.head()"
   ]
  },
  {
   "cell_type": "code",
   "execution_count": 25,
   "metadata": {},
   "outputs": [
    {
     "data": {
      "text/plain": [
       "<matplotlib.axes._subplots.AxesSubplot at 0x20cfff6d8>"
      ]
     },
     "execution_count": 25,
     "metadata": {},
     "output_type": "execute_result"
    },
    {
     "data": {
      "image/png": "[encoded data removed]",
      "text/plain": [
       "<Figure size 432x288 with 1 Axes>"
      ]
     },
     "metadata": {
      "needs_background": "light"
     },
     "output_type": "display_data"
    }
   ],
   "source": [
    "sf['similarity'].hist()"
   ]
  },
  {
   "cell_type": "code",
   "execution_count": 26,
   "metadata": {},
   "outputs": [],
   "source": [
    "high_sim = sf[sf.similarity > .7]\n",
    "candidates = high_sim['sentence'].to_list()"
   ]
  },
  {
   "cell_type": "code",
   "execution_count": 27,
   "metadata": {},
   "outputs": [
    {
     "name": "stdout",
     "output_type": "stream",
     "text": [
      "total rough draft candidates:  4694\n",
      "unique rough draft candidates:  4694\n"
     ]
    }
   ],
   "source": [
    "print('total rough draft candidates: ', len(candidates))\n",
    "print('unique rough draft candidates: ', len(list(set(candidates))))"
   ]
  },
  {
   "cell_type": "code",
   "execution_count": 28,
   "metadata": {},
   "outputs": [
    {
     "name": "stdout",
     "output_type": "stream",
     "text": [
      "sent:  partners healthcare system    research consent form  redcap:      biobank:    research tissue bank  subject identification  version date: february 2010      protocol title: biorepository of the institute for heart, vascular and stroke care in collaboration with the partners healthcare biobank (partners biobank)     \n",
      "\n",
      "sent:  mri screening and consent form  preferred name:   \n",
      "\n",
      "sent:  picc consent procedure information: a physician/licensed professional has ordered the insertion of a picc. \n",
      "\n",
      "sent:  ﻿greater than minimal risk template instructions  greater than minimal risk template. \n",
      "\n",
      "sent:  lorain county health & dentistry parental consent for dental care and the use of safety steps  all efforts will be made to obtain the cooperation for dental treatment from your child including warmth, friendliness, persuasion, humor and understanding. \n",
      "\n",
      "sent:  ﻿sample short form written consent document  for subjects who do not speak english  this document must be written in a language and style  that the subject can understand.   \n",
      "\n",
      "sent:  revised 6/8/2009  consent to participate in a research study title of the research project you are invited to participate in a research study about [details] if you agree to be part of the research study \n",
      "\n",
      "sent:  school vaccination consent form  vaccine preventable diseases program step 1. provide us with your child’s information \n",
      "\n",
      "sent:  registration information patient information (please use full legal name) \n",
      "\n",
      "sent:  ﻿instructions no more than minimal risk  parental permission template   notice to all users: use of the umcirb parental permission document template is mandatory.   \n",
      "\n"
     ]
    },
    {
     "data": {
      "text/plain": [
       "[None, None, None, None, None, None, None, None, None, None]"
      ]
     },
     "execution_count": 28,
     "metadata": {},
     "output_type": "execute_result"
    }
   ],
   "source": [
    "[print('sent: ', x, '\\n') for x in candidates[:10]]"
   ]
  },
  {
   "cell_type": "code",
   "execution_count": 29,
   "metadata": {},
   "outputs": [],
   "source": [
    "rough_draft_permissions = all_permissions + candidates"
   ]
  },
  {
   "cell_type": "code",
   "execution_count": 30,
   "metadata": {},
   "outputs": [
    {
     "name": "stdout",
     "output_type": "stream",
     "text": [
      "total rough draft candidates:  6098\n",
      "unique rough draft candidates:  4788\n"
     ]
    }
   ],
   "source": [
    "print('total rough draft candidates: ', len(rough_draft_permissions))\n",
    "print('unique rough draft candidates: ', len(list(set(rough_draft_permissions))))"
   ]
  },
  {
   "cell_type": "code",
   "execution_count": 31,
   "metadata": {},
   "outputs": [],
   "source": [
    "rough_draft_permissions = list(set(rough_draft_permissions))"
   ]
  },
  {
   "cell_type": "markdown",
   "metadata": {},
   "source": [
    "## print statements to file"
   ]
  },
  {
   "cell_type": "code",
   "execution_count": 32,
   "metadata": {},
   "outputs": [
    {
     "name": "stdout",
     "output_type": "stream",
     "text": [
      "statements-2019-02-27.csv\n"
     ]
    }
   ],
   "source": [
    "import csv\n",
    "import datetime\n",
    "today = str(datetime.date.today())\n",
    "\n",
    "file_path = 'statements-'+today+'.csv'\n",
    "print(file_path)\n",
    "\n",
    "with open(file_path, 'a') as outcsv:   \n",
    "    #configure writer to write standard csv file\n",
    "    writer = csv.writer(outcsv, delimiter=',', quoting=csv.QUOTE_MINIMAL, lineterminator='\\n')\n",
    "    writer.writerow(['raw_text', 'clean_text'])\n",
    "    for perm in rough_draft_permissions:\n",
    "        #Write item to outcsv\n",
    "        raw_text = perm.text\n",
    "        clean_text = re.sub('\\s+', ' ', re.sub('\\W+',' ',\\\n",
    "                               re.sub('[^A-Za-z0-9]+',' ', \\\n",
    "                                      re.sub(r'\\d+', \" \", raw_text)))).strip()\n",
    "        writer.writerow([raw_text, clean_text])"
   ]
  },
  {
   "cell_type": "code",
   "execution_count": null,
   "metadata": {},
   "outputs": [],
   "source": []
  }
 ],
 "metadata": {
  "kernelspec": {
   "display_name": "Python 3",
   "language": "python",
   "name": "python3"
  },
  "language_info": {
   "codemirror_mode": {
    "name": "ipython",
    "version": 3
   },
   "file_extension": ".py",
   "mimetype": "text/x-python",
   "name": "python",
   "nbconvert_exporter": "python",
   "pygments_lexer": "ipython3",
   "version": "3.7.0"
  }
 },
 "nbformat": 4,
 "nbformat_minor": 2
}
