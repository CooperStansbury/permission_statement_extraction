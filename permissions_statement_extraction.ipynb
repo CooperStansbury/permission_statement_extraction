{
 "cells": [
  {
   "cell_type": "markdown",
   "metadata": {},
   "source": [
    "## Config"
   ]
  },
  {
   "cell_type": "code",
   "execution_count": 96,
   "metadata": {},
   "outputs": [
    {
     "name": "stdout",
     "output_type": "stream",
     "text": [
      "VERSION:  3.7.0\n"
     ]
    }
   ],
   "source": [
    "import os\n",
    "import re\n",
    "import pandas as pd\n",
    "import numpy as np\n",
    "import random\n",
    "import nltk\n",
    "import spacy\n",
    "from spacy.attrs import LOWER, POS, ENT_TYPE, IS_ALPHA\n",
    "from spacy.tokens import Doc\n",
    "from spacy.vocab import Vocab\n",
    "\n",
    "from nltk.corpus import wordnet\n",
    "from nltk.stem.wordnet import WordNetLemmatizer\n",
    "import itertools\n",
    "from itertools import chain\n",
    "\n",
    "from platform import python_version\n",
    "print(\"VERSION: \", python_version()) # expect 3.7.0\n",
    "\n",
    "# dirty spaCy error workaround:\n",
    "get_ipython().config.get('IPKernelApp', {})['parent_appname'] = \"\""
   ]
  },
  {
   "cell_type": "code",
   "execution_count": 2,
   "metadata": {},
   "outputs": [],
   "source": [
    "os_path = '/Users/milk/Desktop/git/'\n",
    "forms_dir = os_path + 'InformedConsentForms/data/all_forms'"
   ]
  },
  {
   "cell_type": "code",
   "execution_count": 3,
   "metadata": {},
   "outputs": [],
   "source": [
    "nlp = spacy.load('en')\n",
    "nlp_larg = spacy.load('en_core_web_lg')"
   ]
  },
  {
   "cell_type": "markdown",
   "metadata": {},
   "source": [
    "## Semantic Clues"
   ]
  },
  {
   "cell_type": "code",
   "execution_count": 4,
   "metadata": {},
   "outputs": [],
   "source": [
    "##  taken from: \n",
    "# “I found great synonyms for ‘permission’ on the new Thesaurus.com!,”\n",
    "# www.thesaurus.com. [Online]. Available: https://www.thesaurus.com/browse/permission. \n",
    "## [Accessed: 19-Feb-2019].\n",
    "\n",
    "permission_bases = [\"permission\", \n",
    "                    \"authorization\", \n",
    "                    \"authorize\",\n",
    "                    \"consent\",\n",
    "                    \"assent\",\n",
    "                    \"permit\",\n",
    "                    \"approve\",\n",
    "                    \"grant\",\n",
    "                    \"allow\",\n",
    "                    \"certify\"]"
   ]
  },
  {
   "cell_type": "markdown",
   "metadata": {},
   "source": [
    "## add synonyms"
   ]
  },
  {
   "cell_type": "code",
   "execution_count": 5,
   "metadata": {},
   "outputs": [
    {
     "name": "stdout",
     "output_type": "stream",
     "text": [
      "num elements: 51\n"
     ]
    }
   ],
   "source": [
    "def addWordNetSynsets(word_list):\n",
    "    \" add synsets to new list \"\n",
    "    updated_list = []\n",
    "    \n",
    "    for word in word_list:\n",
    "        updated_list.append(word)\n",
    "        synonyms = wordnet.synsets(word, 'v')\n",
    "        synonyms = set(chain.from_iterable([word.lemma_names() for word in synonyms]))\n",
    "        \n",
    "        [updated_list.append(x) for x in synonyms if x not in updated_list]\n",
    "        \n",
    "    return updated_list\n",
    "        \n",
    "permission_extended = addWordNetSynsets(permission_bases)\n",
    "print('num elements:', len(permission_extended))\n",
    "# [print(x) for x in permission_extended]"
   ]
  },
  {
   "cell_type": "markdown",
   "metadata": {},
   "source": [
    "## build consent form data structure\n",
    "get dict and dataframe from each consent form on file\n",
    "\n",
    "#### todo: get metadata"
   ]
  },
  {
   "cell_type": "code",
   "execution_count": 6,
   "metadata": {},
   "outputs": [],
   "source": [
    "def getData(directory):\n",
    "    \"\"\" returns a dict with cleaned filenames, full paths,\n",
    "    and text data in multiple formats from a dictionary\n",
    "    of .txt files\"\"\"\n",
    "    \n",
    "    fileDictionary = {}\n",
    "    fileID = 0\n",
    "    \n",
    "    # iterate through directory\n",
    "    for subdir, dirs, files in os.walk(directory):\n",
    "        for file in files:\n",
    "            \n",
    "            fileID += 1\n",
    "            filepath = subdir + os.sep + file\n",
    "            \n",
    "            if filepath.endswith('.txt'):\n",
    "                wordList = [] # this will include duplicates and stop words\n",
    "                cleanedFileName = ''.join(e for e in file if e.isalnum())[:-3] \n",
    "                \n",
    "                # perform string operations on each file\n",
    "                with open(filepath, 'r') as myfile:\n",
    "                    data = myfile.read().replace('\\n', ' ')       \n",
    "                \n",
    "                fileDictionary[fileID] = {}\n",
    "                fileDictionary[fileID]['name'] = cleanedFileName\n",
    "                fileDictionary[fileID]['path'] = filepath\n",
    "                fileDictionary[fileID]['rawText'] = data\n",
    "    \n",
    "    return fileDictionary\n",
    "\n",
    "# run the function and store to variable \n",
    "consent_dictionary = getData(forms_dir)\n",
    "\n",
    "# #test print statement\n",
    "# [print(k,v, '\\n') for k,v in consent_dictionary[1].items()]"
   ]
  },
  {
   "cell_type": "code",
   "execution_count": 7,
   "metadata": {},
   "outputs": [],
   "source": [
    "def toDataFrame(fileDictionary):\n",
    "    \"\"\" return pandas dataframe\n",
    "    Note: expects input in nested dict format (output from getData)\"\"\"\n",
    "    new_rows = []\n",
    "\n",
    "    for key, value in fileDictionary.items():\n",
    "        new_rows.append(value)\n",
    "         \n",
    "    df = pd.DataFrame(new_rows)\n",
    "    return df\n",
    "\n",
    "df = toDataFrame(consent_dictionary)"
   ]
  },
  {
   "cell_type": "markdown",
   "metadata": {},
   "source": [
    "## Random sampling to develop\n",
    "This will be removed when we want to process the whole corpus"
   ]
  },
  {
   "cell_type": "code",
   "execution_count": 8,
   "metadata": {},
   "outputs": [],
   "source": [
    "# comment out to run on whole corpus\n",
    "n_samples = 50\n",
    "df = df.sample(n=n_samples)"
   ]
  },
  {
   "cell_type": "markdown",
   "metadata": {},
   "source": [
    "## add spacy object to dataframe\n",
    "\n",
    "#### WARNING: this takes a long time,"
   ]
  },
  {
   "cell_type": "code",
   "execution_count": 9,
   "metadata": {},
   "outputs": [],
   "source": [
    "def getDocObjects(row, field):\n",
    "    \" return spacy doc object\"\n",
    "#     # small nlp library\n",
    "#     doc = nlp(str(row[field]).lower())\n",
    "\n",
    "    # large library\n",
    "    doc = nlp_larg(str(row[field]).lower())\n",
    "    return doc\n",
    "\n",
    "df['docOB'] = df.apply(lambda row:getDocObjects(row, 'rawText'),axis=1)"
   ]
  },
  {
   "cell_type": "code",
   "execution_count": 10,
   "metadata": {},
   "outputs": [
    {
     "data": {
      "text/plain": [
       "333    (﻿this, model, clinical, research, consent, fo...\n",
       "381    (vaccination, consent, form,  , king, ’s, daug...\n",
       "144    (r*gencost*r,  , r, *,  , halifax, health,  , ...\n",
       "120    (patient, i, d, sticker, mri, and, pregnancy, ...\n",
       "347    (﻿important, :, all, sections, are, required, ...\n",
       "Name: docOB, dtype: object"
      ]
     },
     "execution_count": 10,
     "metadata": {},
     "output_type": "execute_result"
    }
   ],
   "source": [
    "df['docOB'].head()"
   ]
  },
  {
   "cell_type": "markdown",
   "metadata": {},
   "source": [
    "## extract sentences"
   ]
  },
  {
   "cell_type": "code",
   "execution_count": 11,
   "metadata": {},
   "outputs": [],
   "source": [
    "def getSentenceList(row, field):\n",
    "    \" return list of sents from doc object\"\n",
    "    sent_list = []\n",
    "    \n",
    "    # must operate on a spaCy doc object \n",
    "    for sent in row[field].sents:\n",
    "#         print(dir(sent))\n",
    "        sent_list.append(sent)\n",
    "    \n",
    "    return sent_list\n",
    "\n",
    "df['sentList'] = df.apply(lambda row:getSentenceList(row, 'docOB'),axis=1)"
   ]
  },
  {
   "cell_type": "markdown",
   "metadata": {},
   "source": [
    "## preliminary permisison sentence extraction\n",
    "look for sentences that have a word from the 'clues' list"
   ]
  },
  {
   "cell_type": "markdown",
   "metadata": {},
   "source": [
    "# NOTE: DO WE WANT SENTENCE PAIRS? THREE SENTENCES?"
   ]
  },
  {
   "cell_type": "code",
   "execution_count": 14,
   "metadata": {},
   "outputs": [],
   "source": [
    "def getPossiblePermissions(row, permissions_list):\n",
    "    \"\"\" return list of sentences containing the \n",
    "    permissions words \"\"\"\n",
    "    \n",
    "    sent_list = []\n",
    "    \n",
    "    for sent in row['sentList']:\n",
    "        [sent_list.append(sent) for clue in\\\n",
    "             permission_extended if sent.text.__contains__(clue)]\n",
    "                \n",
    "    return sent_list\n",
    "\n",
    "# here we only convert the first 10 rows to save time\n",
    "df['permissionsStatements'] = df.apply(lambda row:getPossiblePermissions(row, permission_extended),axis=1)"
   ]
  },
  {
   "cell_type": "code",
   "execution_count": 15,
   "metadata": {},
   "outputs": [
    {
     "name": "stdout",
     "output_type": "stream",
     "text": [
      "sent: ﻿this model clinical research consent form contains sample language. \n",
      "\n",
      "sent: the fhcrc irb recommends this sample language with the understanding that the authors of consent forms will edit the language to fit their studies. \n",
      "\n",
      "sent: vaccination consent form  king’s daughters medical center clinic  king’s daughters medical center (“kdmc”, “we” or “us”) will offer a series of vaccinations to the sixth-grade students at boyd county duiing the course of the 2016/2017school year. \n",
      "\n",
      "sent: the tdap vaccine is typically given in 1 dose (by shot). \n",
      "\n",
      "sent: consent to hospital care and release of information assignment of insurance benefits acceptance of financial responsibility  med. \n",
      "\n",
      "sent: consent to hospital care and release of information assignment of insurance benefits acceptance of financial responsibility  med. \n",
      "\n",
      "sent: however, according to the fda, the safety of mri procedures during pregnancy has not been definitively proven and not recommended except in extraordinary circumstances. \n",
      "\n",
      "sent: university of california, irvine assent to be in a human research study   \n",
      "\n",
      "sent: [list only those researchers qualified to be involved in the informed consent process  study location(s):     why are you here?   \n",
      "\n",
      "sent: for informational use only  imm ediate complete dentures and partial dentures \n",
      "\n",
      "sent: i understand that t he process of fabricating and fitt ing im mediate removable prosthetic a pplia nces (partial dentures and/ or com plete artificia l dentures) includes risks and possible failures. \n",
      "\n",
      "sent: consent for dental implants \n",
      "\n",
      "sent: your dentist can provide you with the necessary information and advice, but as a member of the health care team, you must participate in the decision making process. \n",
      "\n",
      "sent: conlabpros rev 04/11  catawba valley medical center hickory, north carolina  consent for induction of labor with prostaglandin products        indication:   \n",
      "\n",
      "sent: one currently accepted theory for what may cause the start of labor is the natural release of prostaglandins in the mother’s body. \n",
      "\n",
      "sent: delete optional text that does not apply to your study and delete all instructions from the completed consent document] title:  principal investigator (head researcher) name and contact information: name: physical address: [annenberg 22nd floor, room xxx] mailing address: [e.g. 1 gustave l levy place box xxxx, ny, ny 10029] phone: [e.g. 212-xxx-xxxx; this number should reach the research team directly, not be just a general clinic or department number] what is a research study? \n",
      "\n",
      "sent: delete optional text that does not apply to your study and delete all instructions from the completed consent document] title:  principal investigator (head researcher) name and contact information: name: physical address: [annenberg 22nd floor, room xxx] mailing address: [e.g. 1 gustave l levy place box xxxx, ny, ny 10029] phone: [e.g. 212-xxx-xxxx; this number should reach the research team directly, not be just a general clinic or department number] what is a research study? \n",
      "\n",
      "sent: informat ional use only  consent to perform endodontics this authorization and consent for treatment is given to dr. \n",
      "\n",
      "sent: informat ional use only  consent to perform endodontics this authorization and consent for treatment is given to dr. \n",
      "\n"
     ]
    }
   ],
   "source": [
    "for sent in df['permissionsStatements'][:10]:\n",
    "    [print('sent:', x.text, '\\n') for x in sent[:2]]"
   ]
  },
  {
   "cell_type": "code",
   "execution_count": 16,
   "metadata": {},
   "outputs": [
    {
     "data": {
      "text/html": [
       "<div>\n",
       "<style scoped>\n",
       "    .dataframe tbody tr th:only-of-type {\n",
       "        vertical-align: middle;\n",
       "    }\n",
       "\n",
       "    .dataframe tbody tr th {\n",
       "        vertical-align: top;\n",
       "    }\n",
       "\n",
       "    .dataframe thead th {\n",
       "        text-align: right;\n",
       "    }\n",
       "</style>\n",
       "<table border=\"1\" class=\"dataframe\">\n",
       "  <thead>\n",
       "    <tr style=\"text-align: right;\">\n",
       "      <th></th>\n",
       "      <th>name</th>\n",
       "      <th>path</th>\n",
       "      <th>rawText</th>\n",
       "      <th>docOB</th>\n",
       "      <th>sentList</th>\n",
       "      <th>permissionsStatements</th>\n",
       "      <th>permissionDensity</th>\n",
       "    </tr>\n",
       "  </thead>\n",
       "  <tbody>\n",
       "    <tr>\n",
       "      <th>333</th>\n",
       "      <td>ClinicalResearchConsentForm</td>\n",
       "      <td>/Users/milk/Desktop/git/InformedConsentForms/d...</td>\n",
       "      <td>﻿This model clinical research consent form con...</td>\n",
       "      <td>(﻿this, model, clinical, research, consent, fo...</td>\n",
       "      <td>[(﻿this, model, clinical, research, consent, f...</td>\n",
       "      <td>[(﻿this, model, clinical, research, consent, f...</td>\n",
       "      <td>0.321739</td>\n",
       "    </tr>\n",
       "    <tr>\n",
       "      <th>381</th>\n",
       "      <td>KingsDaughtersMedicalCenterClinic6thgradeph</td>\n",
       "      <td>/Users/milk/Desktop/git/InformedConsentForms/d...</td>\n",
       "      <td>VACCINATION CONSENT FORM  King’s Daughters Med...</td>\n",
       "      <td>(vaccination, consent, form,  , king, ’s, daug...</td>\n",
       "      <td>[(vaccination, consent, form,  , king, ’s, dau...</td>\n",
       "      <td>[(vaccination, consent, form,  , king, ’s, dau...</td>\n",
       "      <td>0.163043</td>\n",
       "    </tr>\n",
       "  </tbody>\n",
       "</table>\n",
       "</div>"
      ],
      "text/plain": [
       "                                            name  \\\n",
       "333                  ClinicalResearchConsentForm   \n",
       "381  KingsDaughtersMedicalCenterClinic6thgradeph   \n",
       "\n",
       "                                                  path  \\\n",
       "333  /Users/milk/Desktop/git/InformedConsentForms/d...   \n",
       "381  /Users/milk/Desktop/git/InformedConsentForms/d...   \n",
       "\n",
       "                                               rawText  \\\n",
       "333  ﻿This model clinical research consent form con...   \n",
       "381  VACCINATION CONSENT FORM  King’s Daughters Med...   \n",
       "\n",
       "                                                 docOB  \\\n",
       "333  (﻿this, model, clinical, research, consent, fo...   \n",
       "381  (vaccination, consent, form,  , king, ’s, daug...   \n",
       "\n",
       "                                              sentList  \\\n",
       "333  [(﻿this, model, clinical, research, consent, f...   \n",
       "381  [(vaccination, consent, form,  , king, ’s, dau...   \n",
       "\n",
       "                                 permissionsStatements  permissionDensity  \n",
       "333  [(﻿this, model, clinical, research, consent, f...           0.321739  \n",
       "381  [(vaccination, consent, form,  , king, ’s, dau...           0.163043  "
      ]
     },
     "execution_count": 16,
     "metadata": {},
     "output_type": "execute_result"
    }
   ],
   "source": [
    "def getEstimatedPermissionDesnity(row):\n",
    "    \"\"\" return proportion of sentence total that may\n",
    "    be statements indicating perissions. Expect much noise. \"\"\"\n",
    "     \n",
    "    return len(row['permissionsStatements'])/len(row['sentList'])\n",
    "    \n",
    "df['permissionDensity'] = df.apply(lambda row: getEstimatedPermissionDesnity(row),axis=1)\n",
    "\n",
    "df.head(2)"
   ]
  },
  {
   "cell_type": "code",
   "execution_count": 17,
   "metadata": {},
   "outputs": [
    {
     "data": {
      "text/plain": [
       "<matplotlib.axes._subplots.AxesSubplot at 0x19d1da710>"
      ]
     },
     "execution_count": 17,
     "metadata": {},
     "output_type": "execute_result"
    },
    {
     "data": {
      "image/png": "[encoded data removed]",
      "text/plain": [
       "<Figure size 432x288 with 1 Axes>"
      ]
     },
     "metadata": {
      "needs_background": "light"
     },
     "output_type": "display_data"
    }
   ],
   "source": [
    "%matplotlib inline\n",
    "df['permissionDensity'].hist()"
   ]
  },
  {
   "cell_type": "markdown",
   "metadata": {},
   "source": [
    "## Important\n",
    "this represents an important break away from the primary dataframe. here i start to work with list structures to create a list of possible permissions that is no longer tied to filenames"
   ]
  },
  {
   "cell_type": "code",
   "execution_count": 18,
   "metadata": {},
   "outputs": [],
   "source": [
    "all_sents = []\n",
    "\n",
    "for sentlist in df['sentList'].to_list():\n",
    "    [all_sents.append(x) for x in sentlist]\n",
    "    \n",
    "all_permissions = []\n",
    "\n",
    "for permlist in df['permissionsStatements'].to_list():\n",
    "    [all_permissions.append(x) for x in permlist]"
   ]
  },
  {
   "cell_type": "code",
   "execution_count": 19,
   "metadata": {},
   "outputs": [
    {
     "name": "stdout",
     "output_type": "stream",
     "text": [
      "total rough draft permissions:  1475\n",
      "unique rough draft permissions:  1133\n",
      "total rough draft sentences:  15532\n",
      "unique rough draft sentences:  15532\n"
     ]
    }
   ],
   "source": [
    "print('total rough draft permissions: ', len(all_permissions))\n",
    "print('unique rough draft permissions: ', len(list(set(all_permissions))))\n",
    "\n",
    "print('total rough draft sentences: ', len(all_sents))\n",
    "print('unique rough draft sentences: ', len(list(set(all_sents))))"
   ]
  },
  {
   "cell_type": "code",
   "execution_count": 20,
   "metadata": {},
   "outputs": [],
   "source": [
    "# remove duplucates\n",
    "all_permissions = list(set(all_permissions))"
   ]
  },
  {
   "cell_type": "markdown",
   "metadata": {},
   "source": [
    "## pair-wise similarity between our permission 'guesses' and remaining sentences\n",
    "this is an important step so that we don't restrict ourselves to permission statements that contain the words we dreampt up\n",
    "\n",
    "#### warning, this is not a good algorithm, will not scale"
   ]
  },
  {
   "cell_type": "code",
   "execution_count": 21,
   "metadata": {},
   "outputs": [],
   "source": [
    "new_rows = []\n",
    "\n",
    "for sent in all_sents:\n",
    "    for perm in all_permissions:\n",
    "        row = {\n",
    "            'permission':perm,\n",
    "            'sentence':sent,\n",
    "            'similarity':sent.similarity(perm)\n",
    "        }\n",
    "        new_rows.append(row)"
   ]
  },
  {
   "cell_type": "code",
   "execution_count": 22,
   "metadata": {},
   "outputs": [
    {
     "data": {
      "text/html": [
       "<div>\n",
       "<style scoped>\n",
       "    .dataframe tbody tr th:only-of-type {\n",
       "        vertical-align: middle;\n",
       "    }\n",
       "\n",
       "    .dataframe tbody tr th {\n",
       "        vertical-align: top;\n",
       "    }\n",
       "\n",
       "    .dataframe thead th {\n",
       "        text-align: right;\n",
       "    }\n",
       "</style>\n",
       "<table border=\"1\" class=\"dataframe\">\n",
       "  <thead>\n",
       "    <tr style=\"text-align: right;\">\n",
       "      <th></th>\n",
       "      <th>permission</th>\n",
       "      <th>sentence</th>\n",
       "      <th>similarity</th>\n",
       "    </tr>\n",
       "  </thead>\n",
       "  <tbody>\n",
       "    <tr>\n",
       "      <th>0</th>\n",
       "      <td>(i, understand, and, accept, the, consequences...</td>\n",
       "      <td>(﻿this, model, clinical, research, consent, fo...</td>\n",
       "      <td>0.706578</td>\n",
       "    </tr>\n",
       "    <tr>\n",
       "      <th>1</th>\n",
       "      <td>(you, will, be, provided, with, any, new, info...</td>\n",
       "      <td>(﻿this, model, clinical, research, consent, fo...</td>\n",
       "      <td>0.780099</td>\n",
       "    </tr>\n",
       "    <tr>\n",
       "      <th>2</th>\n",
       "      <td>(the, following, statement, represents, what, ...</td>\n",
       "      <td>(﻿this, model, clinical, research, consent, fo...</td>\n",
       "      <td>0.725532</td>\n",
       "    </tr>\n",
       "    <tr>\n",
       "      <th>3</th>\n",
       "      <td>(if, appropriate, ,, include, a, statement, in...</td>\n",
       "      <td>(﻿this, model, clinical, research, consent, fo...</td>\n",
       "      <td>0.800474</td>\n",
       "    </tr>\n",
       "    <tr>\n",
       "      <th>4</th>\n",
       "      <td>(to, delete, these, shaded, boxes, ,, click, t...</td>\n",
       "      <td>(﻿this, model, clinical, research, consent, fo...</td>\n",
       "      <td>0.654948</td>\n",
       "    </tr>\n",
       "  </tbody>\n",
       "</table>\n",
       "</div>"
      ],
      "text/plain": [
       "                                          permission  \\\n",
       "0  (i, understand, and, accept, the, consequences...   \n",
       "1  (you, will, be, provided, with, any, new, info...   \n",
       "2  (the, following, statement, represents, what, ...   \n",
       "3  (if, appropriate, ,, include, a, statement, in...   \n",
       "4  (to, delete, these, shaded, boxes, ,, click, t...   \n",
       "\n",
       "                                            sentence  similarity  \n",
       "0  (﻿this, model, clinical, research, consent, fo...    0.706578  \n",
       "1  (﻿this, model, clinical, research, consent, fo...    0.780099  \n",
       "2  (﻿this, model, clinical, research, consent, fo...    0.725532  \n",
       "3  (﻿this, model, clinical, research, consent, fo...    0.800474  \n",
       "4  (﻿this, model, clinical, research, consent, fo...    0.654948  "
      ]
     },
     "execution_count": 22,
     "metadata": {},
     "output_type": "execute_result"
    }
   ],
   "source": [
    "sf = pd.DataFrame(new_rows)\n",
    "sf.head()"
   ]
  },
  {
   "cell_type": "code",
   "execution_count": 23,
   "metadata": {},
   "outputs": [
    {
     "data": {
      "text/plain": [
       "<matplotlib.axes._subplots.AxesSubplot at 0x133b4acc0>"
      ]
     },
     "execution_count": 23,
     "metadata": {},
     "output_type": "execute_result"
    },
    {
     "data": {
      "image/png": "[encoded data removed]",
      "text/plain": [
       "<Figure size 432x288 with 1 Axes>"
      ]
     },
     "metadata": {
      "needs_background": "light"
     },
     "output_type": "display_data"
    }
   ],
   "source": [
    "sf['similarity'].hist()"
   ]
  },
  {
   "cell_type": "code",
   "execution_count": 24,
   "metadata": {},
   "outputs": [
    {
     "data": {
      "text/html": [
       "<div>\n",
       "<style scoped>\n",
       "    .dataframe tbody tr th:only-of-type {\n",
       "        vertical-align: middle;\n",
       "    }\n",
       "\n",
       "    .dataframe tbody tr th {\n",
       "        vertical-align: top;\n",
       "    }\n",
       "\n",
       "    .dataframe thead th {\n",
       "        text-align: right;\n",
       "    }\n",
       "</style>\n",
       "<table border=\"1\" class=\"dataframe\">\n",
       "  <thead>\n",
       "    <tr style=\"text-align: right;\">\n",
       "      <th></th>\n",
       "      <th>sentence</th>\n",
       "      <th>similarity</th>\n",
       "    </tr>\n",
       "  </thead>\n",
       "  <tbody>\n",
       "    <tr>\n",
       "      <th>0</th>\n",
       "      <td>(﻿this, model, clinical, research, consent, fo...</td>\n",
       "      <td>0.736800</td>\n",
       "    </tr>\n",
       "    <tr>\n",
       "      <th>1</th>\n",
       "      <td>(treatment,  , to,  , be,  , preformed,  , and...</td>\n",
       "      <td>0.873076</td>\n",
       "    </tr>\n",
       "    <tr>\n",
       "      <th>2</th>\n",
       "      <td>(informed, consent, /, refusal, for, genetic, ...</td>\n",
       "      <td>0.706202</td>\n",
       "    </tr>\n",
       "    <tr>\n",
       "      <th>3</th>\n",
       "      <td>(behave, wformed, choice, for, prelabor, ruptu...</td>\n",
       "      <td>0.787730</td>\n",
       "    </tr>\n",
       "    <tr>\n",
       "      <th>4</th>\n",
       "      <td>(\\t \\t \\t \\t  \\t \\t \\t  , consent, for, treatm...</td>\n",
       "      <td>0.857836</td>\n",
       "    </tr>\n",
       "  </tbody>\n",
       "</table>\n",
       "</div>"
      ],
      "text/plain": [
       "                                            sentence  similarity\n",
       "0  (﻿this, model, clinical, research, consent, fo...    0.736800\n",
       "1  (treatment,  , to,  , be,  , preformed,  , and...    0.873076\n",
       "2  (informed, consent, /, refusal, for, genetic, ...    0.706202\n",
       "3  (behave, wformed, choice, for, prelabor, ruptu...    0.787730\n",
       "4  (\\t \\t \\t \\t  \\t \\t \\t  , consent, for, treatm...    0.857836"
      ]
     },
     "execution_count": 24,
     "metadata": {},
     "output_type": "execute_result"
    }
   ],
   "source": [
    "# reduce dataframe, aggregate by mean sim score (weak sents will balance out)\n",
    "sf = sf.drop(columns=['permission'])\n",
    "sf = sf.groupby(['sentence'], as_index=False).mean()\n",
    "\n",
    "sf.head()"
   ]
  },
  {
   "cell_type": "code",
   "execution_count": 25,
   "metadata": {},
   "outputs": [
    {
     "data": {
      "text/plain": [
       "<matplotlib.axes._subplots.AxesSubplot at 0x19d2dd9e8>"
      ]
     },
     "execution_count": 25,
     "metadata": {},
     "output_type": "execute_result"
    },
    {
     "data": {
      "image/png": "[encoded data removed]",
      "text/plain": [
       "<Figure size 432x288 with 1 Axes>"
      ]
     },
     "metadata": {
      "needs_background": "light"
     },
     "output_type": "display_data"
    }
   ],
   "source": [
    "sf['similarity'].hist()"
   ]
  },
  {
   "cell_type": "code",
   "execution_count": 26,
   "metadata": {},
   "outputs": [],
   "source": [
    "high_sim = sf[sf.similarity > .7]\n",
    "candidates = high_sim['sentence'].to_list()"
   ]
  },
  {
   "cell_type": "code",
   "execution_count": 27,
   "metadata": {},
   "outputs": [
    {
     "name": "stdout",
     "output_type": "stream",
     "text": [
      "total rough draft candidates:  3702\n",
      "unique rough draft candidates:  3702\n"
     ]
    }
   ],
   "source": [
    "print('total rough draft candidates: ', len(candidates))\n",
    "print('unique rough draft candidates: ', len(list(set(candidates))))"
   ]
  },
  {
   "cell_type": "code",
   "execution_count": 28,
   "metadata": {},
   "outputs": [
    {
     "name": "stdout",
     "output_type": "stream",
     "text": [
      "sent:  ﻿this model clinical research consent form contains sample language. \n",
      "\n",
      "sent:  treatment to be preformed and general dentistry consent form    i understand that i am having the following treatment and acknowledge the important information below: 1)  \n",
      "\n",
      "sent:  informed consent / refusal for genetic testing dna testing 1.   \n",
      "\n",
      "sent:  behave wformed choice for prelabor rupture of membranes at term  what is it?   \n",
      "\n",
      "sent:  \t \t \t \t  \t \t \t  consent for treatment as a patient of lifespan naturopathic medicine, you have the right to be informed about your health condition(s) and recommended treatment. \n",
      "\n",
      "sent:  dental clinic consent for endodontic treatment i understand root canal treatment is a procedure to retain a tooth, which may otherwise require extraction. \n",
      "\n",
      "sent:  informed consent for panel genetic testing fm104-7   \n",
      "\n",
      "sent:  informat ional use only  nitrous oxide informed consent i hereby give permission for dr. \n",
      "\n",
      "sent:  ﻿ the ohio state university consent to participate in research   study title:   \n",
      "\n",
      "sent:  informat ional use only  consent to perform endodontics this authorization and consent for treatment is given to dr. \n",
      "\n"
     ]
    },
    {
     "data": {
      "text/plain": [
       "[None, None, None, None, None, None, None, None, None, None]"
      ]
     },
     "execution_count": 28,
     "metadata": {},
     "output_type": "execute_result"
    }
   ],
   "source": [
    "[print('sent: ', x, '\\n') for x in candidates[:10]]"
   ]
  },
  {
   "cell_type": "code",
   "execution_count": 29,
   "metadata": {},
   "outputs": [],
   "source": [
    "rough_draft_permissions = all_permissions + candidates"
   ]
  },
  {
   "cell_type": "code",
   "execution_count": 30,
   "metadata": {},
   "outputs": [
    {
     "name": "stdout",
     "output_type": "stream",
     "text": [
      "total rough draft candidates:  4835\n",
      "unique rough draft candidates:  3785\n"
     ]
    }
   ],
   "source": [
    "print('total rough draft candidates: ', len(rough_draft_permissions))\n",
    "print('unique rough draft candidates: ', len(list(set(rough_draft_permissions))))"
   ]
  },
  {
   "cell_type": "code",
   "execution_count": 31,
   "metadata": {},
   "outputs": [],
   "source": [
    "rough_draft_permissions = list(set(rough_draft_permissions))"
   ]
  },
  {
   "cell_type": "markdown",
   "metadata": {},
   "source": [
    "## print statements to file"
   ]
  },
  {
   "cell_type": "code",
   "execution_count": 32,
   "metadata": {},
   "outputs": [],
   "source": [
    "# import csv\n",
    "# import datetime\n",
    "# today = str(datetime.date.today())\n",
    "\n",
    "# file_path = 'statements-'+today+'.csv'\n",
    "# print(file_path)\n",
    "\n",
    "# with open(file_path, 'a') as outcsv:   \n",
    "#     #configure writer to write standard csv file\n",
    "#     writer = csv.writer(outcsv, delimiter=',', quoting=csv.QUOTE_MINIMAL, lineterminator='\\n')\n",
    "#     writer.writerow(['raw_text', 'clean_text'])\n",
    "#     for perm in rough_draft_permissions:\n",
    "#         #Write item to outcsv\n",
    "#         raw_text = perm.text\n",
    "#         clean_text = re.sub('\\s+', ' ', re.sub('\\W+',' ',\\\n",
    "#                                re.sub('[^A-Za-z0-9]+',' ', \\\n",
    "#                                       re.sub(r'\\d+', \" \", raw_text)))).strip()\n",
    "#         writer.writerow([raw_text, clean_text])"
   ]
  },
  {
   "cell_type": "markdown",
   "metadata": {},
   "source": [
    "# Annotations?\n",
    "\n",
    "This is the point where injecting further information via annotations may be a good idea. This then would require in import of another local file and a small methods section."
   ]
  },
  {
   "cell_type": "markdown",
   "metadata": {},
   "source": [
    "## matrix representations\n",
    "\n",
    "a few different matrix representations of the permissions sentence"
   ]
  },
  {
   "cell_type": "code",
   "execution_count": 97,
   "metadata": {},
   "outputs": [
    {
     "name": "stdout",
     "output_type": "stream",
     "text": [
      "['_', '__bytes__', '__class__', '__delattr__', '__dir__', '__doc__', '__eq__', '__format__', '__ge__', '__getattribute__', '__getitem__', '__gt__', '__hash__', '__init__', '__init_subclass__', '__iter__', '__le__', '__len__', '__lt__', '__ne__', '__new__', '__pyx_vtable__', '__reduce__', '__reduce_ex__', '__repr__', '__setattr__', '__setstate__', '__sizeof__', '__str__', '__subclasshook__', '__unicode__', '_bulk_merge', '_py_tokens', '_realloc', '_vector', '_vector_norm', 'cats', 'char_span', 'count_by', 'doc', 'ents', 'extend_tensor', 'from_array', 'from_bytes', 'from_disk', 'get_extension', 'get_lca_matrix', 'has_extension', 'has_vector', 'is_parsed', 'is_sentenced', 'is_tagged', 'mem', 'merge', 'noun_chunks', 'noun_chunks_iterator', 'print_tree', 'remove_extension', 'retokenize', 'sentiment', 'sents', 'set_extension', 'similarity', 'tensor', 'text', 'text_with_ws', 'to_array', 'to_bytes', 'to_disk', 'user_data', 'user_hooks', 'user_span_hooks', 'user_token_hooks', 'vector', 'vector_norm', 'vocab']\n",
      "['_', '__bytes__', '__class__', '__delattr__', '__dir__', '__doc__', '__eq__', '__format__', '__ge__', '__getattribute__', '__getitem__', '__gt__', '__hash__', '__init__', '__init_subclass__', '__iter__', '__le__', '__len__', '__lt__', '__ne__', '__new__', '__pyx_vtable__', '__reduce__', '__reduce_ex__', '__repr__', '__setattr__', '__setstate__', '__sizeof__', '__str__', '__subclasshook__', '__unicode__', '_bulk_merge', '_py_tokens', '_realloc', '_vector', '_vector_norm', 'cats', 'char_span', 'count_by', 'doc', 'ents', 'extend_tensor', 'from_array', 'from_bytes', 'from_disk', 'get_extension', 'get_lca_matrix', 'has_extension', 'has_vector', 'is_parsed', 'is_sentenced', 'is_tagged', 'mem', 'merge', 'noun_chunks', 'noun_chunks_iterator', 'print_tree', 'remove_extension', 'retokenize', 'sentiment', 'sents', 'set_extension', 'similarity', 'tensor', 'text', 'text_with_ws', 'to_array', 'to_bytes', 'to_disk', 'user_data', 'user_hooks', 'user_span_hooks', 'user_token_hooks', 'vector', 'vector_norm', 'vocab']\n",
      "['_', '__bytes__', '__class__', '__delattr__', '__dir__', '__doc__', '__eq__', '__format__', '__ge__', '__getattribute__', '__getitem__', '__gt__', '__hash__', '__init__', '__init_subclass__', '__iter__', '__le__', '__len__', '__lt__', '__ne__', '__new__', '__pyx_vtable__', '__reduce__', '__reduce_ex__', '__repr__', '__setattr__', '__setstate__', '__sizeof__', '__str__', '__subclasshook__', '__unicode__', '_bulk_merge', '_py_tokens', '_realloc', '_vector', '_vector_norm', 'cats', 'char_span', 'count_by', 'doc', 'ents', 'extend_tensor', 'from_array', 'from_bytes', 'from_disk', 'get_extension', 'get_lca_matrix', 'has_extension', 'has_vector', 'is_parsed', 'is_sentenced', 'is_tagged', 'mem', 'merge', 'noun_chunks', 'noun_chunks_iterator', 'print_tree', 'remove_extension', 'retokenize', 'sentiment', 'sents', 'set_extension', 'similarity', 'tensor', 'text', 'text_with_ws', 'to_array', 'to_bytes', 'to_disk', 'user_data', 'user_hooks', 'user_span_hooks', 'user_token_hooks', 'vector', 'vector_norm', 'vocab']\n",
      "['_', '__bytes__', '__class__', '__delattr__', '__dir__', '__doc__', '__eq__', '__format__', '__ge__', '__getattribute__', '__getitem__', '__gt__', '__hash__', '__init__', '__init_subclass__', '__iter__', '__le__', '__len__', '__lt__', '__ne__', '__new__', '__pyx_vtable__', '__reduce__', '__reduce_ex__', '__repr__', '__setattr__', '__setstate__', '__sizeof__', '__str__', '__subclasshook__', '__unicode__', '_bulk_merge', '_py_tokens', '_realloc', '_vector', '_vector_norm', 'cats', 'char_span', 'count_by', 'doc', 'ents', 'extend_tensor', 'from_array', 'from_bytes', 'from_disk', 'get_extension', 'get_lca_matrix', 'has_extension', 'has_vector', 'is_parsed', 'is_sentenced', 'is_tagged', 'mem', 'merge', 'noun_chunks', 'noun_chunks_iterator', 'print_tree', 'remove_extension', 'retokenize', 'sentiment', 'sents', 'set_extension', 'similarity', 'tensor', 'text', 'text_with_ws', 'to_array', 'to_bytes', 'to_disk', 'user_data', 'user_hooks', 'user_span_hooks', 'user_token_hooks', 'vector', 'vector_norm', 'vocab']\n",
      "['_', '__bytes__', '__class__', '__delattr__', '__dir__', '__doc__', '__eq__', '__format__', '__ge__', '__getattribute__', '__getitem__', '__gt__', '__hash__', '__init__', '__init_subclass__', '__iter__', '__le__', '__len__', '__lt__', '__ne__', '__new__', '__pyx_vtable__', '__reduce__', '__reduce_ex__', '__repr__', '__setattr__', '__setstate__', '__sizeof__', '__str__', '__subclasshook__', '__unicode__', '_bulk_merge', '_py_tokens', '_realloc', '_vector', '_vector_norm', 'cats', 'char_span', 'count_by', 'doc', 'ents', 'extend_tensor', 'from_array', 'from_bytes', 'from_disk', 'get_extension', 'get_lca_matrix', 'has_extension', 'has_vector', 'is_parsed', 'is_sentenced', 'is_tagged', 'mem', 'merge', 'noun_chunks', 'noun_chunks_iterator', 'print_tree', 'remove_extension', 'retokenize', 'sentiment', 'sents', 'set_extension', 'similarity', 'tensor', 'text', 'text_with_ws', 'to_array', 'to_bytes', 'to_disk', 'user_data', 'user_hooks', 'user_span_hooks', 'user_token_hooks', 'vector', 'vector_norm', 'vocab']\n",
      "['_', '__bytes__', '__class__', '__delattr__', '__dir__', '__doc__', '__eq__', '__format__', '__ge__', '__getattribute__', '__getitem__', '__gt__', '__hash__', '__init__', '__init_subclass__', '__iter__', '__le__', '__len__', '__lt__', '__ne__', '__new__', '__pyx_vtable__', '__reduce__', '__reduce_ex__', '__repr__', '__setattr__', '__setstate__', '__sizeof__', '__str__', '__subclasshook__', '__unicode__', '_bulk_merge', '_py_tokens', '_realloc', '_vector', '_vector_norm', 'cats', 'char_span', 'count_by', 'doc', 'ents', 'extend_tensor', 'from_array', 'from_bytes', 'from_disk', 'get_extension', 'get_lca_matrix', 'has_extension', 'has_vector', 'is_parsed', 'is_sentenced', 'is_tagged', 'mem', 'merge', 'noun_chunks', 'noun_chunks_iterator', 'print_tree', 'remove_extension', 'retokenize', 'sentiment', 'sents', 'set_extension', 'similarity', 'tensor', 'text', 'text_with_ws', 'to_array', 'to_bytes', 'to_disk', 'user_data', 'user_hooks', 'user_span_hooks', 'user_token_hooks', 'vector', 'vector_norm', 'vocab']\n",
      "['_', '__bytes__', '__class__', '__delattr__', '__dir__', '__doc__', '__eq__', '__format__', '__ge__', '__getattribute__', '__getitem__', '__gt__', '__hash__', '__init__', '__init_subclass__', '__iter__', '__le__', '__len__', '__lt__', '__ne__', '__new__', '__pyx_vtable__', '__reduce__', '__reduce_ex__', '__repr__', '__setattr__', '__setstate__', '__sizeof__', '__str__', '__subclasshook__', '__unicode__', '_bulk_merge', '_py_tokens', '_realloc', '_vector', '_vector_norm', 'cats', 'char_span', 'count_by', 'doc', 'ents', 'extend_tensor', 'from_array', 'from_bytes', 'from_disk', 'get_extension', 'get_lca_matrix', 'has_extension', 'has_vector', 'is_parsed', 'is_sentenced', 'is_tagged', 'mem', 'merge', 'noun_chunks', 'noun_chunks_iterator', 'print_tree', 'remove_extension', 'retokenize', 'sentiment', 'sents', 'set_extension', 'similarity', 'tensor', 'text', 'text_with_ws', 'to_array', 'to_bytes', 'to_disk', 'user_data', 'user_hooks', 'user_span_hooks', 'user_token_hooks', 'vector', 'vector_norm', 'vocab']\n",
      "['_', '__bytes__', '__class__', '__delattr__', '__dir__', '__doc__', '__eq__', '__format__', '__ge__', '__getattribute__', '__getitem__', '__gt__', '__hash__', '__init__', '__init_subclass__', '__iter__', '__le__', '__len__', '__lt__', '__ne__', '__new__', '__pyx_vtable__', '__reduce__', '__reduce_ex__', '__repr__', '__setattr__', '__setstate__', '__sizeof__', '__str__', '__subclasshook__', '__unicode__', '_bulk_merge', '_py_tokens', '_realloc', '_vector', '_vector_norm', 'cats', 'char_span', 'count_by', 'doc', 'ents', 'extend_tensor', 'from_array', 'from_bytes', 'from_disk', 'get_extension', 'get_lca_matrix', 'has_extension', 'has_vector', 'is_parsed', 'is_sentenced', 'is_tagged', 'mem', 'merge', 'noun_chunks', 'noun_chunks_iterator', 'print_tree', 'remove_extension', 'retokenize', 'sentiment', 'sents', 'set_extension', 'similarity', 'tensor', 'text', 'text_with_ws', 'to_array', 'to_bytes', 'to_disk', 'user_data', 'user_hooks', 'user_span_hooks', 'user_token_hooks', 'vector', 'vector_norm', 'vocab']\n",
      "['_', '__bytes__', '__class__', '__delattr__', '__dir__', '__doc__', '__eq__', '__format__', '__ge__', '__getattribute__', '__getitem__', '__gt__', '__hash__', '__init__', '__init_subclass__', '__iter__', '__le__', '__len__', '__lt__', '__ne__', '__new__', '__pyx_vtable__', '__reduce__', '__reduce_ex__', '__repr__', '__setattr__', '__setstate__', '__sizeof__', '__str__', '__subclasshook__', '__unicode__', '_bulk_merge', '_py_tokens', '_realloc', '_vector', '_vector_norm', 'cats', 'char_span', 'count_by', 'doc', 'ents', 'extend_tensor', 'from_array', 'from_bytes', 'from_disk', 'get_extension', 'get_lca_matrix', 'has_extension', 'has_vector', 'is_parsed', 'is_sentenced', 'is_tagged', 'mem', 'merge', 'noun_chunks', 'noun_chunks_iterator', 'print_tree', 'remove_extension', 'retokenize', 'sentiment', 'sents', 'set_extension', 'similarity', 'tensor', 'text', 'text_with_ws', 'to_array', 'to_bytes', 'to_disk', 'user_data', 'user_hooks', 'user_span_hooks', 'user_token_hooks', 'vector', 'vector_norm', 'vocab']\n",
      "['_', '__bytes__', '__class__', '__delattr__', '__dir__', '__doc__', '__eq__', '__format__', '__ge__', '__getattribute__', '__getitem__', '__gt__', '__hash__', '__init__', '__init_subclass__', '__iter__', '__le__', '__len__', '__lt__', '__ne__', '__new__', '__pyx_vtable__', '__reduce__', '__reduce_ex__', '__repr__', '__setattr__', '__setstate__', '__sizeof__', '__str__', '__subclasshook__', '__unicode__', '_bulk_merge', '_py_tokens', '_realloc', '_vector', '_vector_norm', 'cats', 'char_span', 'count_by', 'doc', 'ents', 'extend_tensor', 'from_array', 'from_bytes', 'from_disk', 'get_extension', 'get_lca_matrix', 'has_extension', 'has_vector', 'is_parsed', 'is_sentenced', 'is_tagged', 'mem', 'merge', 'noun_chunks', 'noun_chunks_iterator', 'print_tree', 'remove_extension', 'retokenize', 'sentiment', 'sents', 'set_extension', 'similarity', 'tensor', 'text', 'text_with_ws', 'to_array', 'to_bytes', 'to_disk', 'user_data', 'user_hooks', 'user_span_hooks', 'user_token_hooks', 'vector', 'vector_norm', 'vocab']\n"
     ]
    }
   ],
   "source": [
    "empty_doc = Doc(Vocab())\n",
    "\n",
    "\n",
    "for perm in rough_draft_permissions[:10]:\n",
    "    miniDocs = perm.as_doc()"
   ]
  },
  {
   "cell_type": "code",
   "execution_count": 90,
   "metadata": {},
   "outputs": [],
   "source": [
    "permission_vectors = []\n",
    "\n",
    "for perm in rough_draft_permissions:\n",
    "#     print(perm.to_array([LOWER, POS, ENT_TYPE, IS_ALPHA])) # same features, different rows\n",
    "#     print(perm.vector) # same shape\n",
    "#     print(perm.vector_norm) # single value\n",
    "#     print(perm.get_lca_matrix()) # differnt shapes\n",
    "    permission_vectors.append(perm.vector)"
   ]
  },
  {
   "cell_type": "code",
   "execution_count": 73,
   "metadata": {},
   "outputs": [],
   "source": []
  },
  {
   "cell_type": "code",
   "execution_count": null,
   "metadata": {},
   "outputs": [],
   "source": []
  },
  {
   "cell_type": "code",
   "execution_count": null,
   "metadata": {},
   "outputs": [],
   "source": []
  }
 ],
 "metadata": {
  "kernelspec": {
   "display_name": "Python 3",
   "language": "python",
   "name": "python3"
  },
  "language_info": {
   "codemirror_mode": {
    "name": "ipython",
    "version": 3
   },
   "file_extension": ".py",
   "mimetype": "text/x-python",
   "name": "python",
   "nbconvert_exporter": "python",
   "pygments_lexer": "ipython3",
   "version": "3.7.0"
  }
 },
 "nbformat": 4,
 "nbformat_minor": 2
}
